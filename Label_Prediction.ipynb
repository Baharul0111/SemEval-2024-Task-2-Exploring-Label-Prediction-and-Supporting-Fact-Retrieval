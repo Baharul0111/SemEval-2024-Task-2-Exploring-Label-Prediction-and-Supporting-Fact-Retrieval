{
  "cells": [
    {
      "cell_type": "code",
      "execution_count": 5,
      "metadata": {
        "colab": {
          "base_uri": "https://localhost:8080/"
        },
        "id": "byIRISk47Sm6",
        "outputId": "9c55a5c8-08d3-43a9-8db2-3a632972c990"
      },
      "outputs": [
        {
          "name": "stdout",
          "output_type": "stream",
          "text": [
            "Requirement already satisfied: gensim in /usr/local/lib/python3.10/dist-packages (4.3.2)\n",
            "Requirement already satisfied: tensorflow in /usr/local/lib/python3.10/dist-packages (2.15.0)\n",
            "Requirement already satisfied: scikit-learn in /usr/local/lib/python3.10/dist-packages (1.2.2)\n",
            "Requirement already satisfied: matplotlib in /usr/local/lib/python3.10/dist-packages (3.7.1)\n",
            "Requirement already satisfied: seaborn in /usr/local/lib/python3.10/dist-packages (0.13.1)\n",
            "Requirement already satisfied: numpy>=1.18.5 in /usr/local/lib/python3.10/dist-packages (from gensim) (1.25.2)\n",
            "Requirement already satisfied: scipy>=1.7.0 in /usr/local/lib/python3.10/dist-packages (from gensim) (1.11.4)\n",
            "Requirement already satisfied: smart-open>=1.8.1 in /usr/local/lib/python3.10/dist-packages (from gensim) (7.0.4)\n",
            "Requirement already satisfied: absl-py>=1.0.0 in /usr/local/lib/python3.10/dist-packages (from tensorflow) (1.4.0)\n",
            "Requirement already satisfied: astunparse>=1.6.0 in /usr/local/lib/python3.10/dist-packages (from tensorflow) (1.6.3)\n",
            "Requirement already satisfied: flatbuffers>=23.5.26 in /usr/local/lib/python3.10/dist-packages (from tensorflow) (24.3.25)\n",
            "Requirement already satisfied: gast!=0.5.0,!=0.5.1,!=0.5.2,>=0.2.1 in /usr/local/lib/python3.10/dist-packages (from tensorflow) (0.6.0)\n",
            "Requirement already satisfied: google-pasta>=0.1.1 in /usr/local/lib/python3.10/dist-packages (from tensorflow) (0.2.0)\n",
            "Requirement already satisfied: h5py>=2.9.0 in /usr/local/lib/python3.10/dist-packages (from tensorflow) (3.9.0)\n",
            "Requirement already satisfied: libclang>=13.0.0 in /usr/local/lib/python3.10/dist-packages (from tensorflow) (18.1.1)\n",
            "Requirement already satisfied: ml-dtypes~=0.2.0 in /usr/local/lib/python3.10/dist-packages (from tensorflow) (0.2.0)\n",
            "Requirement already satisfied: opt-einsum>=2.3.2 in /usr/local/lib/python3.10/dist-packages (from tensorflow) (3.3.0)\n",
            "Requirement already satisfied: packaging in /usr/local/lib/python3.10/dist-packages (from tensorflow) (24.1)\n",
            "Requirement already satisfied: protobuf!=4.21.0,!=4.21.1,!=4.21.2,!=4.21.3,!=4.21.4,!=4.21.5,<5.0.0dev,>=3.20.3 in /usr/local/lib/python3.10/dist-packages (from tensorflow) (3.20.3)\n",
            "Requirement already satisfied: setuptools in /usr/local/lib/python3.10/dist-packages (from tensorflow) (67.7.2)\n",
            "Requirement already satisfied: six>=1.12.0 in /usr/local/lib/python3.10/dist-packages (from tensorflow) (1.16.0)\n",
            "Requirement already satisfied: termcolor>=1.1.0 in /usr/local/lib/python3.10/dist-packages (from tensorflow) (2.4.0)\n",
            "Requirement already satisfied: typing-extensions>=3.6.6 in /usr/local/lib/python3.10/dist-packages (from tensorflow) (4.12.2)\n",
            "Requirement already satisfied: wrapt<1.15,>=1.11.0 in /usr/local/lib/python3.10/dist-packages (from tensorflow) (1.14.1)\n",
            "Requirement already satisfied: tensorflow-io-gcs-filesystem>=0.23.1 in /usr/local/lib/python3.10/dist-packages (from tensorflow) (0.37.0)\n",
            "Requirement already satisfied: grpcio<2.0,>=1.24.3 in /usr/local/lib/python3.10/dist-packages (from tensorflow) (1.64.1)\n",
            "Requirement already satisfied: tensorboard<2.16,>=2.15 in /usr/local/lib/python3.10/dist-packages (from tensorflow) (2.15.2)\n",
            "Requirement already satisfied: tensorflow-estimator<2.16,>=2.15.0 in /usr/local/lib/python3.10/dist-packages (from tensorflow) (2.15.0)\n",
            "Requirement already satisfied: keras<2.16,>=2.15.0 in /usr/local/lib/python3.10/dist-packages (from tensorflow) (2.15.0)\n",
            "Requirement already satisfied: joblib>=1.1.1 in /usr/local/lib/python3.10/dist-packages (from scikit-learn) (1.4.2)\n",
            "Requirement already satisfied: threadpoolctl>=2.0.0 in /usr/local/lib/python3.10/dist-packages (from scikit-learn) (3.5.0)\n",
            "Requirement already satisfied: contourpy>=1.0.1 in /usr/local/lib/python3.10/dist-packages (from matplotlib) (1.2.1)\n",
            "Requirement already satisfied: cycler>=0.10 in /usr/local/lib/python3.10/dist-packages (from matplotlib) (0.12.1)\n",
            "Requirement already satisfied: fonttools>=4.22.0 in /usr/local/lib/python3.10/dist-packages (from matplotlib) (4.53.0)\n",
            "Requirement already satisfied: kiwisolver>=1.0.1 in /usr/local/lib/python3.10/dist-packages (from matplotlib) (1.4.5)\n",
            "Requirement already satisfied: pillow>=6.2.0 in /usr/local/lib/python3.10/dist-packages (from matplotlib) (9.4.0)\n",
            "Requirement already satisfied: pyparsing>=2.3.1 in /usr/local/lib/python3.10/dist-packages (from matplotlib) (3.1.2)\n",
            "Requirement already satisfied: python-dateutil>=2.7 in /usr/local/lib/python3.10/dist-packages (from matplotlib) (2.8.2)\n",
            "Requirement already satisfied: pandas>=1.2 in /usr/local/lib/python3.10/dist-packages (from seaborn) (2.0.3)\n",
            "Requirement already satisfied: wheel<1.0,>=0.23.0 in /usr/local/lib/python3.10/dist-packages (from astunparse>=1.6.0->tensorflow) (0.43.0)\n",
            "Requirement already satisfied: pytz>=2020.1 in /usr/local/lib/python3.10/dist-packages (from pandas>=1.2->seaborn) (2023.4)\n",
            "Requirement already satisfied: tzdata>=2022.1 in /usr/local/lib/python3.10/dist-packages (from pandas>=1.2->seaborn) (2024.1)\n",
            "Requirement already satisfied: google-auth<3,>=1.6.3 in /usr/local/lib/python3.10/dist-packages (from tensorboard<2.16,>=2.15->tensorflow) (2.27.0)\n",
            "Requirement already satisfied: google-auth-oauthlib<2,>=0.5 in /usr/local/lib/python3.10/dist-packages (from tensorboard<2.16,>=2.15->tensorflow) (1.2.0)\n",
            "Requirement already satisfied: markdown>=2.6.8 in /usr/local/lib/python3.10/dist-packages (from tensorboard<2.16,>=2.15->tensorflow) (3.6)\n",
            "Requirement already satisfied: requests<3,>=2.21.0 in /usr/local/lib/python3.10/dist-packages (from tensorboard<2.16,>=2.15->tensorflow) (2.31.0)\n",
            "Requirement already satisfied: tensorboard-data-server<0.8.0,>=0.7.0 in /usr/local/lib/python3.10/dist-packages (from tensorboard<2.16,>=2.15->tensorflow) (0.7.2)\n",
            "Requirement already satisfied: werkzeug>=1.0.1 in /usr/local/lib/python3.10/dist-packages (from tensorboard<2.16,>=2.15->tensorflow) (3.0.3)\n",
            "Requirement already satisfied: cachetools<6.0,>=2.0.0 in /usr/local/lib/python3.10/dist-packages (from google-auth<3,>=1.6.3->tensorboard<2.16,>=2.15->tensorflow) (5.3.3)\n",
            "Requirement already satisfied: pyasn1-modules>=0.2.1 in /usr/local/lib/python3.10/dist-packages (from google-auth<3,>=1.6.3->tensorboard<2.16,>=2.15->tensorflow) (0.4.0)\n",
            "Requirement already satisfied: rsa<5,>=3.1.4 in /usr/local/lib/python3.10/dist-packages (from google-auth<3,>=1.6.3->tensorboard<2.16,>=2.15->tensorflow) (4.9)\n",
            "Requirement already satisfied: requests-oauthlib>=0.7.0 in /usr/local/lib/python3.10/dist-packages (from google-auth-oauthlib<2,>=0.5->tensorboard<2.16,>=2.15->tensorflow) (1.3.1)\n",
            "Requirement already satisfied: charset-normalizer<4,>=2 in /usr/local/lib/python3.10/dist-packages (from requests<3,>=2.21.0->tensorboard<2.16,>=2.15->tensorflow) (3.3.2)\n",
            "Requirement already satisfied: idna<4,>=2.5 in /usr/local/lib/python3.10/dist-packages (from requests<3,>=2.21.0->tensorboard<2.16,>=2.15->tensorflow) (3.7)\n",
            "Requirement already satisfied: urllib3<3,>=1.21.1 in /usr/local/lib/python3.10/dist-packages (from requests<3,>=2.21.0->tensorboard<2.16,>=2.15->tensorflow) (2.0.7)\n",
            "Requirement already satisfied: certifi>=2017.4.17 in /usr/local/lib/python3.10/dist-packages (from requests<3,>=2.21.0->tensorboard<2.16,>=2.15->tensorflow) (2024.6.2)\n",
            "Requirement already satisfied: MarkupSafe>=2.1.1 in /usr/local/lib/python3.10/dist-packages (from werkzeug>=1.0.1->tensorboard<2.16,>=2.15->tensorflow) (2.1.5)\n",
            "Requirement already satisfied: pyasn1<0.7.0,>=0.4.6 in /usr/local/lib/python3.10/dist-packages (from pyasn1-modules>=0.2.1->google-auth<3,>=1.6.3->tensorboard<2.16,>=2.15->tensorflow) (0.6.0)\n",
            "Requirement already satisfied: oauthlib>=3.0.0 in /usr/local/lib/python3.10/dist-packages (from requests-oauthlib>=0.7.0->google-auth-oauthlib<2,>=0.5->tensorboard<2.16,>=2.15->tensorflow) (3.2.2)\n"
          ]
        }
      ],
      "source": [
        "!pip install gensim tensorflow scikit-learn matplotlib seaborn"
      ]
    },
    {
      "cell_type": "code",
      "execution_count": 95,
      "metadata": {
        "id": "AzwCcpxT7lIO"
      },
      "outputs": [],
      "source": [
        "import numpy as np\n",
        "import pandas as pd\n",
        "import gensim.downloader as api\n",
        "from sklearn.model_selection import train_test_split\n",
        "from sklearn.preprocessing import LabelEncoder\n",
        "from sklearn.metrics import accuracy_score, precision_score, recall_score, f1_score, confusion_matrix\n",
        "from sklearn.model_selection import StratifiedKFold\n",
        "import tensorflow as tf\n",
        "from tensorflow.keras.models import Sequential\n",
        "from tensorflow.keras.layers import Dense, Dropout\n",
        "from tensorflow.keras.callbacks import EarlyStopping, ModelCheckpoint\n",
        "from sklearn.preprocessing import StandardScaler\n",
        "from tensorflow.keras.layers import BatchNormalization\n",
        "from tensorflow.keras.optimizers import Adam"
      ]
    },
    {
      "cell_type": "code",
      "execution_count": 96,
      "metadata": {
        "id": "DNqXYfZb7rmD"
      },
      "outputs": [],
      "source": [
        "df = pd.read_csv('merged_dataset_new.csv')"
      ]
    },
    {
      "cell_type": "code",
      "execution_count": 1,
      "metadata": {
        "colab": {
          "base_uri": "https://localhost:8080/"
        },
        "id": "curPdbVLCP6C",
        "outputId": "dc7a5924-66ae-4184-f655-ad764c76ac8f"
      },
      "outputs": [
        {
          "name": "stdout",
          "output_type": "stream",
          "text": [
            "Mounted at /content/drive\n"
          ]
        }
      ],
      "source": [
        "from google.colab import drive\n",
        "drive.mount('/content/drive')\n",
        "\n"
      ]
    },
    {
      "cell_type": "code",
      "execution_count": 3,
      "metadata": {
        "colab": {
          "base_uri": "https://localhost:8080/"
        },
        "id": "HICYYY4BQP3n",
        "outputId": "6eac6926-7eac-4eb0-eb84-878d2b8302c9"
      },
      "outputs": [
        {
          "name": "stdout",
          "output_type": "stream",
          "text": [
            "Requirement already satisfied: gensim in /usr/local/lib/python3.10/dist-packages (4.3.2)\n",
            "Requirement already satisfied: tensorflow in /usr/local/lib/python3.10/dist-packages (2.15.0)\n",
            "Requirement already satisfied: scikit-learn in /usr/local/lib/python3.10/dist-packages (1.2.2)\n",
            "Requirement already satisfied: matplotlib in /usr/local/lib/python3.10/dist-packages (3.7.1)\n",
            "Requirement already satisfied: seaborn in /usr/local/lib/python3.10/dist-packages (0.13.1)\n",
            "Requirement already satisfied: numpy>=1.18.5 in /usr/local/lib/python3.10/dist-packages (from gensim) (1.25.2)\n",
            "Requirement already satisfied: scipy>=1.7.0 in /usr/local/lib/python3.10/dist-packages (from gensim) (1.11.4)\n",
            "Requirement already satisfied: smart-open>=1.8.1 in /usr/local/lib/python3.10/dist-packages (from gensim) (7.0.4)\n",
            "Requirement already satisfied: absl-py>=1.0.0 in /usr/local/lib/python3.10/dist-packages (from tensorflow) (1.4.0)\n",
            "Requirement already satisfied: astunparse>=1.6.0 in /usr/local/lib/python3.10/dist-packages (from tensorflow) (1.6.3)\n",
            "Requirement already satisfied: flatbuffers>=23.5.26 in /usr/local/lib/python3.10/dist-packages (from tensorflow) (24.3.25)\n",
            "Requirement already satisfied: gast!=0.5.0,!=0.5.1,!=0.5.2,>=0.2.1 in /usr/local/lib/python3.10/dist-packages (from tensorflow) (0.6.0)\n",
            "Requirement already satisfied: google-pasta>=0.1.1 in /usr/local/lib/python3.10/dist-packages (from tensorflow) (0.2.0)\n",
            "Requirement already satisfied: h5py>=2.9.0 in /usr/local/lib/python3.10/dist-packages (from tensorflow) (3.9.0)\n",
            "Requirement already satisfied: libclang>=13.0.0 in /usr/local/lib/python3.10/dist-packages (from tensorflow) (18.1.1)\n",
            "Requirement already satisfied: ml-dtypes~=0.2.0 in /usr/local/lib/python3.10/dist-packages (from tensorflow) (0.2.0)\n",
            "Requirement already satisfied: opt-einsum>=2.3.2 in /usr/local/lib/python3.10/dist-packages (from tensorflow) (3.3.0)\n",
            "Requirement already satisfied: packaging in /usr/local/lib/python3.10/dist-packages (from tensorflow) (24.1)\n",
            "Requirement already satisfied: protobuf!=4.21.0,!=4.21.1,!=4.21.2,!=4.21.3,!=4.21.4,!=4.21.5,<5.0.0dev,>=3.20.3 in /usr/local/lib/python3.10/dist-packages (from tensorflow) (3.20.3)\n",
            "Requirement already satisfied: setuptools in /usr/local/lib/python3.10/dist-packages (from tensorflow) (67.7.2)\n",
            "Requirement already satisfied: six>=1.12.0 in /usr/local/lib/python3.10/dist-packages (from tensorflow) (1.16.0)\n",
            "Requirement already satisfied: termcolor>=1.1.0 in /usr/local/lib/python3.10/dist-packages (from tensorflow) (2.4.0)\n",
            "Requirement already satisfied: typing-extensions>=3.6.6 in /usr/local/lib/python3.10/dist-packages (from tensorflow) (4.12.2)\n",
            "Requirement already satisfied: wrapt<1.15,>=1.11.0 in /usr/local/lib/python3.10/dist-packages (from tensorflow) (1.14.1)\n",
            "Requirement already satisfied: tensorflow-io-gcs-filesystem>=0.23.1 in /usr/local/lib/python3.10/dist-packages (from tensorflow) (0.37.0)\n",
            "Requirement already satisfied: grpcio<2.0,>=1.24.3 in /usr/local/lib/python3.10/dist-packages (from tensorflow) (1.64.1)\n",
            "Requirement already satisfied: tensorboard<2.16,>=2.15 in /usr/local/lib/python3.10/dist-packages (from tensorflow) (2.15.2)\n",
            "Requirement already satisfied: tensorflow-estimator<2.16,>=2.15.0 in /usr/local/lib/python3.10/dist-packages (from tensorflow) (2.15.0)\n",
            "Requirement already satisfied: keras<2.16,>=2.15.0 in /usr/local/lib/python3.10/dist-packages (from tensorflow) (2.15.0)\n",
            "Requirement already satisfied: joblib>=1.1.1 in /usr/local/lib/python3.10/dist-packages (from scikit-learn) (1.4.2)\n",
            "Requirement already satisfied: threadpoolctl>=2.0.0 in /usr/local/lib/python3.10/dist-packages (from scikit-learn) (3.5.0)\n",
            "Requirement already satisfied: contourpy>=1.0.1 in /usr/local/lib/python3.10/dist-packages (from matplotlib) (1.2.1)\n",
            "Requirement already satisfied: cycler>=0.10 in /usr/local/lib/python3.10/dist-packages (from matplotlib) (0.12.1)\n",
            "Requirement already satisfied: fonttools>=4.22.0 in /usr/local/lib/python3.10/dist-packages (from matplotlib) (4.53.0)\n",
            "Requirement already satisfied: kiwisolver>=1.0.1 in /usr/local/lib/python3.10/dist-packages (from matplotlib) (1.4.5)\n",
            "Requirement already satisfied: pillow>=6.2.0 in /usr/local/lib/python3.10/dist-packages (from matplotlib) (9.4.0)\n",
            "Requirement already satisfied: pyparsing>=2.3.1 in /usr/local/lib/python3.10/dist-packages (from matplotlib) (3.1.2)\n",
            "Requirement already satisfied: python-dateutil>=2.7 in /usr/local/lib/python3.10/dist-packages (from matplotlib) (2.8.2)\n",
            "Requirement already satisfied: pandas>=1.2 in /usr/local/lib/python3.10/dist-packages (from seaborn) (2.0.3)\n",
            "Requirement already satisfied: wheel<1.0,>=0.23.0 in /usr/local/lib/python3.10/dist-packages (from astunparse>=1.6.0->tensorflow) (0.43.0)\n",
            "Requirement already satisfied: pytz>=2020.1 in /usr/local/lib/python3.10/dist-packages (from pandas>=1.2->seaborn) (2023.4)\n",
            "Requirement already satisfied: tzdata>=2022.1 in /usr/local/lib/python3.10/dist-packages (from pandas>=1.2->seaborn) (2024.1)\n",
            "Requirement already satisfied: google-auth<3,>=1.6.3 in /usr/local/lib/python3.10/dist-packages (from tensorboard<2.16,>=2.15->tensorflow) (2.27.0)\n",
            "Requirement already satisfied: google-auth-oauthlib<2,>=0.5 in /usr/local/lib/python3.10/dist-packages (from tensorboard<2.16,>=2.15->tensorflow) (1.2.0)\n",
            "Requirement already satisfied: markdown>=2.6.8 in /usr/local/lib/python3.10/dist-packages (from tensorboard<2.16,>=2.15->tensorflow) (3.6)\n",
            "Requirement already satisfied: requests<3,>=2.21.0 in /usr/local/lib/python3.10/dist-packages (from tensorboard<2.16,>=2.15->tensorflow) (2.31.0)\n",
            "Requirement already satisfied: tensorboard-data-server<0.8.0,>=0.7.0 in /usr/local/lib/python3.10/dist-packages (from tensorboard<2.16,>=2.15->tensorflow) (0.7.2)\n",
            "Requirement already satisfied: werkzeug>=1.0.1 in /usr/local/lib/python3.10/dist-packages (from tensorboard<2.16,>=2.15->tensorflow) (3.0.3)\n",
            "Requirement already satisfied: cachetools<6.0,>=2.0.0 in /usr/local/lib/python3.10/dist-packages (from google-auth<3,>=1.6.3->tensorboard<2.16,>=2.15->tensorflow) (5.3.3)\n",
            "Requirement already satisfied: pyasn1-modules>=0.2.1 in /usr/local/lib/python3.10/dist-packages (from google-auth<3,>=1.6.3->tensorboard<2.16,>=2.15->tensorflow) (0.4.0)\n",
            "Requirement already satisfied: rsa<5,>=3.1.4 in /usr/local/lib/python3.10/dist-packages (from google-auth<3,>=1.6.3->tensorboard<2.16,>=2.15->tensorflow) (4.9)\n",
            "Requirement already satisfied: requests-oauthlib>=0.7.0 in /usr/local/lib/python3.10/dist-packages (from google-auth-oauthlib<2,>=0.5->tensorboard<2.16,>=2.15->tensorflow) (1.3.1)\n",
            "Requirement already satisfied: charset-normalizer<4,>=2 in /usr/local/lib/python3.10/dist-packages (from requests<3,>=2.21.0->tensorboard<2.16,>=2.15->tensorflow) (3.3.2)\n",
            "Requirement already satisfied: idna<4,>=2.5 in /usr/local/lib/python3.10/dist-packages (from requests<3,>=2.21.0->tensorboard<2.16,>=2.15->tensorflow) (3.7)\n",
            "Requirement already satisfied: urllib3<3,>=1.21.1 in /usr/local/lib/python3.10/dist-packages (from requests<3,>=2.21.0->tensorboard<2.16,>=2.15->tensorflow) (2.0.7)\n",
            "Requirement already satisfied: certifi>=2017.4.17 in /usr/local/lib/python3.10/dist-packages (from requests<3,>=2.21.0->tensorboard<2.16,>=2.15->tensorflow) (2024.6.2)\n",
            "Requirement already satisfied: MarkupSafe>=2.1.1 in /usr/local/lib/python3.10/dist-packages (from werkzeug>=1.0.1->tensorboard<2.16,>=2.15->tensorflow) (2.1.5)\n",
            "Requirement already satisfied: pyasn1<0.7.0,>=0.4.6 in /usr/local/lib/python3.10/dist-packages (from pyasn1-modules>=0.2.1->google-auth<3,>=1.6.3->tensorboard<2.16,>=2.15->tensorflow) (0.6.0)\n",
            "Requirement already satisfied: oauthlib>=3.0.0 in /usr/local/lib/python3.10/dist-packages (from requests-oauthlib>=0.7.0->google-auth-oauthlib<2,>=0.5->tensorboard<2.16,>=2.15->tensorflow) (3.2.2)\n"
          ]
        }
      ],
      "source": [
        "!pip install gensim tensorflow scikit-learn matplotlib seaborn"
      ]
    },
    {
      "cell_type": "code",
      "execution_count": 5,
      "metadata": {
        "colab": {
          "base_uri": "https://localhost:8080/"
        },
        "id": "Eef-BpS3P1ez",
        "outputId": "f56526e6-41f9-485d-920c-03d415f719c2"
      },
      "outputs": [
        {
          "name": "stdout",
          "output_type": "stream",
          "text": [
            "Pre-trained model vocabulary size: 2324849\n"
          ]
        }
      ],
      "source": [
        "import gensim\n",
        "pretrained_model_path = '/content/drive/My Drive/BioWordVec/bio_embedding_extrinsic'\n",
        "pretrained_model = gensim.models.KeyedVectors.load_word2vec_format(pretrained_model_path, binary=True)\n",
        "\n",
        "vocab_size = len(pretrained_model)\n",
        "print(f\"Pre-trained model vocabulary size: {vocab_size}\")"
      ]
    },
    {
      "cell_type": "code",
      "execution_count": 97,
      "metadata": {
        "colab": {
          "base_uri": "https://localhost:8080/"
        },
        "id": "OQo1M6XNQ69a",
        "outputId": "d86bea19-ed30-4be3-c886-b876adca0f54"
      },
      "outputs": [
        {
          "name": "stdout",
          "output_type": "stream",
          "text": [
            "Vector size of the pre-trained model: 200\n"
          ]
        }
      ],
      "source": [
        "vector_size = pretrained_model.vector_size\n",
        "print(f\"Vector size of the pre-trained model: {vector_size}\")\n"
      ]
    },
    {
      "cell_type": "code",
      "execution_count": 98,
      "metadata": {
        "id": "xTze7KE57scc"
      },
      "outputs": [],
      "source": [
        "def preprocess_text(text):\n",
        "    tokens = text.split()\n",
        "    tokens = [word for word in tokens if word in pretrained_model.key_to_index]\n",
        "    return tokens\n",
        "\n",
        "def text_to_vector(text):\n",
        "    tokens = preprocess_text(text)\n",
        "    if not tokens:\n",
        "        return np.zeros(200)\n",
        "    return np.mean([pretrained_model[word] for word in tokens], axis=0)\n"
      ]
    },
    {
      "cell_type": "code",
      "execution_count": 99,
      "metadata": {
        "id": "XxbTIs8T7tch"
      },
      "outputs": [],
      "source": [
        "df['Type_vector'] = df['Type'].apply(lambda x: text_to_vector(x))\n",
        "df['Statement_vector'] = df['Statement'].apply(lambda x: text_to_vector(x))\n",
        "df['Reference_vector'] = df['Reference_data'].apply(lambda x: text_to_vector(x))"
      ]
    },
    {
      "cell_type": "code",
      "execution_count": 100,
      "metadata": {
        "colab": {
          "base_uri": "https://localhost:8080/",
          "height": 487
        },
        "id": "v7nUyhJWAMtB",
        "outputId": "f28741fe-7df5-4134-bddb-bd49ebe8969a"
      },
      "outputs": [
        {
          "data": {
            "application/vnd.google.colaboratory.intrinsic+json": {
              "summary": "{\n  \"name\": \"df\",\n  \"rows\": 1700,\n  \"fields\": [\n    {\n      \"column\": \"test_ID\",\n      \"properties\": {\n        \"dtype\": \"string\",\n        \"num_unique_values\": 1700,\n        \"samples\": [\n          \"27e31574-5a73-4a68-997d-daa84797a65a\",\n          \"317e00ae-9d17-4f85-8787-602cc2548fdb\",\n          \"9df90d78-d857-4e1d-a650-e47f7b6b68d6\"\n        ],\n        \"semantic_type\": \"\",\n        \"description\": \"\"\n      }\n    },\n    {\n      \"column\": \"Type\",\n      \"properties\": {\n        \"dtype\": \"category\",\n        \"num_unique_values\": 2,\n        \"samples\": [\n          \"Single\",\n          \"Comparison\"\n        ],\n        \"semantic_type\": \"\",\n        \"description\": \"\"\n      }\n    },\n    {\n      \"column\": \"Section_id\",\n      \"properties\": {\n        \"dtype\": \"category\",\n        \"num_unique_values\": 4,\n        \"samples\": [\n          \"Eligibility\",\n          \"Results\"\n        ],\n        \"semantic_type\": \"\",\n        \"description\": \"\"\n      }\n    },\n    {\n      \"column\": \"Primary_id\",\n      \"properties\": {\n        \"dtype\": \"string\",\n        \"num_unique_values\": 850,\n        \"samples\": [\n          \"NCT01271725\",\n          \"NCT00615901\"\n        ],\n        \"semantic_type\": \"\",\n        \"description\": \"\"\n      }\n    },\n    {\n      \"column\": \"Secondary_id\",\n      \"properties\": {\n        \"dtype\": \"category\",\n        \"num_unique_values\": 352,\n        \"samples\": [\n          \"NCT00305448\",\n          \"NCT00121134\"\n        ],\n        \"semantic_type\": \"\",\n        \"description\": \"\"\n      }\n    },\n    {\n      \"column\": \"Statement\",\n      \"properties\": {\n        \"dtype\": \"string\",\n        \"num_unique_values\": 1692,\n        \"samples\": [\n          \"the primary trial and the secondary trial have no overlap in the drugs they use for their interventions, however they both have placebo groups.\",\n          \"More than a quarter of patients in cohort 1 of the primary trial experienced an adverse event.\"\n        ],\n        \"semantic_type\": \"\",\n        \"description\": \"\"\n      }\n    },\n    {\n      \"column\": \"Label\",\n      \"properties\": {\n        \"dtype\": \"category\",\n        \"num_unique_values\": 2,\n        \"samples\": [\n          \"Entailment\",\n          \"Contradiction\"\n        ],\n        \"semantic_type\": \"\",\n        \"description\": \"\"\n      }\n    },\n    {\n      \"column\": \"Primary_evidence_index\",\n      \"properties\": {\n        \"dtype\": \"string\",\n        \"num_unique_values\": 923,\n        \"samples\": [\n          \"Outcome Measurement:    Objective Response Rate (ORR)   Tumor response evaluation was performed using RECIST 1.0 using CT/MRI. Proportion of patients achieving a CR or PR is considered in the overall response.   Time frame: Assessed at the end of each even-numbered cycle (every 8 weeks), or per standard of care but no less than 4 weeks and nor more than every 12 weeks (+/- 1 week) if treatment has ended. Results 1:    Arm/Group Title: Pralatrexate   Arm/Group Description: Study drug 190 mg/m^2 for 2 to 4 weeks.   Overall Number of Participants Analyzed: 22   Measure Type: Number   Unit of Measure: participants  1\",\n          \"Adverse Events 1:   Total: 69/258 (26.74%)\"\n        ],\n        \"semantic_type\": \"\",\n        \"description\": \"\"\n      }\n    },\n    {\n      \"column\": \"Secondary_evidence_index\",\n      \"properties\": {\n        \"dtype\": \"category\",\n        \"num_unique_values\": 373,\n        \"samples\": [\n          \"Inclusion Criteria:   Pathologically confirmed HER2-positive MBC   Progression of or new brain metastases after completion of whole-brain radiotherapy or stereotactic radiosurgery   Completion of whole-brain radiotherapy or stereotactic radiosurgery more than 60 days prior to enrollment   Stable systemic disease   Eastern Cooperative Oncology Group (ECOG) performance status of 0 or 1   LVEF at least 50%   Adequate hematologic, renal, and hepatic function   Life expectancy more than 12 weeks Exclusion Criteria:   Progression of systemic disease at Screening   Leptomeningeal disease   History of intolerance or hypersensitivity to study drug   Use of certain investigational therapies within 21 days prior to enrollment   Current anthracycline use   Unwillingness to discontinue ado-trastuzumab emtansine or lapatinib use   Active infection   Pregnant or lactating women   Significant history or risk of cardiac disease   Symptomatic intrinsic lung disease or lung involvement   History of other malignancy within the last 5 years\",\n          \"Adverse Events 1:   Total: 5/32 (15.63%)   Leukopenia 1/32 (3.13%)   Neutropenia 1/32 (3.13%)   Cataract 1/32 (3.13%)   Infection 1/32 (3.13%)   Upper respiratory tract infection 1/32 (3.13%)   Completed suicide 1/32 (3.13%)\"\n        ],\n        \"semantic_type\": \"\",\n        \"description\": \"\"\n      }\n    },\n    {\n      \"column\": \"Reference_data\",\n      \"properties\": {\n        \"dtype\": \"string\",\n        \"num_unique_values\": 889,\n        \"samples\": [\n          \"Inclusion Criteria:   Female or male  18 years of age.   Newly diagnosed ER-positive, HER2-negative breast cancer. ER-positive is defined as  1% immunohistochemical (IHC) staining of any intensity. HER2 test result is negative if a single test (or both tests) performed show:   IHC 1+ or 0   In situ hybridization negative based on:   Single-probe average HER2 copy number < 4.0 signals/cell   Dual-probe HER2/CEP17 ratio < 2 with an average HER2 copy number < 4.0 signals/cell.   Patients with stage II-III breast cancer are eligible if they are deemed appropriate for neoadjuvant endocrine therapy by the referring or treating medical oncologist. Patients with stage I disease are eligible if they are deemed borderline candidates for breast conservation and the treating surgeon recommends preoperative therapy to increase the chances of breast conservation.   Eastern Cooperative Oncology Group performance status and/or other performance status of  1.   Female patients who:   Are postmenopausal for at least 1 year before the screening visit, OR   Are surgically sterile, OR   If they are of childbearing potential, agree to practice 1 effective method of contraception and 1 additional effective (barrier) method, at the same time, from the time of signing the ICF through 90 days (or longer, as mandated by local labeling [e.g., United Surgical Partners International, summary of product characteristics, etc.] after the last dose of the study drugs, OR   Agree to practice true abstinence, when this is in line with the preferred and usual lifestyle of the patient (periodic abstinence [e.g., calendar, ovulation, symptothermal, postovulation methods] and withdrawal, spermicides only, and lactational amenorrhea are not acceptable methods of contraception. Female and male condom should not be used together).   Male patients, even if surgically sterilized (i.e., status post-vasectomy), who:   Agree to practice highly effective barrier contraception during the entire study treatment period and through 120 days after the last dose of the study drugs, OR   Agree to practice true abstinence, when this is in line with the preferred and usual lifestyle of the patient   Agree not to donate sperm during the course of this study or within 120 days after receiving their last dose of the study drugs.   Screening clinical laboratory values as specified below:   Bone marrow reserve consistent with: absolute neutrophil count  1.5 x 109/L, platelet count  100 x 109/L, and hemoglobin  9 g/dL (without transfusion) within 1 week preceding the administration of the study drugs;   Hepatic status: Serum total bilirubin  1 x upper limit of normal (ULN; in the case of known Gilbert's syndrome, a higher serum total bilirubin [< 1.5 x ULN] is allowed), aspartate aminotransferase and alanine aminotransferase  1.5 x ULN, and alkaline phosphatase  1.5 x ULN;   Renal status: Creatinine clearance 50 mL/min based on Cockcroft-Gault estimate or based on urine collection (12 or 24 hour);   Metabolic status: HbA1c < 7.0%, fasting serum glucose  130 mg/dL, and fasting triglycerides  300 mg/dL.   Ability to swallow oral medications.   Voluntary written consent must be given before performance of any study-related procedure not part of standard medical care, with the understanding that consent may be withdrawn by the patient at any time without prejudice to future medical care.   Negative serum pregnancy test within 7 days prior to the administration of the study drugs for female patients of childbearing potential.   Patient must be accessible for treatment and follow-up.   Patient must be willing to undergo breast biopsies as required by the study protocol. Exclusion Criteria:   Any patient with metastatic disease.   Other clinically significant comorbidities, such as uncontrolled pulmonary disease, active central nervous system disease, active infection, or any other condition that could compromise the patient's participation in the study.   Known human immunodeficiency virus infection.   Known hepatitis B surface antigen-positive or known or suspected active hepatitis C infection.   Any serious medical or psychiatric illness that could, in the investigator's opinion, potentially interfere with the completion of the protocol-specified treatment.   Diagnosed or treated for another malignancy within 2 years before administration of the first dose of the study drugs or previously diagnosed with another malignancy and have any evidence of residual disease. Patients with non-melanoma skin cancer or carcinoma in situ of any type are not excluded if they have undergone complete resection.   Breastfeeding or pregnant.   Manifestations of malabsorption due to prior gastrointestinal surgery, gastrointestinal disease, or an unknown reason that may alter the absorption of TAK-228. Patients with enteric stomata are also excluded.   Treatment with any investigational products within 2 weeks before administration of the first dose of the study drugs.   Poorly controlled diabetes mellitus (defined as HbA1c > 7%). Patients with a history of transient glucose intolerance due to corticosteroid administration may be enrolled in the study if all other inclusion criteria and none of the other exclusion criteria are met.   History of any of the following within the last 6 months before administration of the first dose of the study drugs:   Ischemic myocardial event, including angina requiring therapy and artery revascularization procedures   Ischemic cerebrovascular event, including transient ischemic attack and artery revascularization procedures   Requirement for inotropic support (excluding digoxin) or serious (uncontrolled) cardiac arrhythmia (including atrial flutter/fibrillation, ventricular fibrillation, and ventricular tachycardia)   Placement of a pacemaker for control of rhythm   New York Heart Association Class III or IV heart failure   Pulmonary embolism   Significant active cardiovascular or pulmonary disease including:   Uncontrolled hypertension (i.e., systolic blood pressure > 180 mm Hg, diastolic blood pressure > 95 mm Hg). Use of antihypertensive agents to control hypertension before week 1, day 1 is allowed.   Pulmonary hypertension   Uncontrolled asthma or O2 saturation < 90% by arterial blood gas analysis or pulse oximetry on room air   Significant valvular disease, severe regurgitation, or stenosis by imaging independent of symptom control with medical intervention or history of valve replacement   Medically significant (symptomatic) bradycardia   History of arrhythmia requiring an implantable cardiac defibrillator   Baseline QTc prolongation (e.g., repeated demonstration of QTc interval > 480 milliseconds or history of congenital long QT syndrome or torsades de pointes)   Treatment with strong inhibitors and/or inducers of CYP3A4, CYP2C9, or CYP2C19 within 7 days preceding the first dose of the study drugs.   Patients receiving systemic corticosteroids (either IV or oral steroids, excluding inhalers or low-dose hormone replacement therapy) within 1 week before administration of the first dose of the study drugs.   Daily or chronic use of a proton pump inhibitor (PPI) and/or having taken a PPI within 7 days before receiving the first dose of the study drugs.   Patients unwilling or unable to comply with the study protocol.   Patients previously treated with hormonal therapy (tamoxifen, AI) or PI3K, AKT, dual PI3K/mTOR, TORC1/2, or mTORC1 inhibitors.   Patients who are currently being treated with cancer therapy (chemotherapy, radiation therapy, immunotherapy, or biologic therapy) other than the trial therapy.   Patients with hypersensitivity to mTOR inhibitors or tamoxifen.\",\n          \"Inclusion Criteria:   Patients must have histologically confirmed metastatic breast cancer; tissue (a minimum of 3 slides) from the most recent biopsy is required for review and confirmation of eligibility; NOTE: material should ideally be from the metastatic disease, however material from the primary tumor is acceptable if that is all that is available   Patients must have stage IV breast cancer   Patients must have tumors (primary or metastatic) that stain positively for the prolactin receptor   Patients may have measurable or evaluable disease   Measurable disease is defined as at least one lesion that can be accurately measured in at least one dimension (longest diameter to be recorded) as > 20 mm with conventional techniques or as > 10 mm with spiral CT scan   Evaluable disease is disease that does not meet the criteria for measurable disease; examples would include patients with effusions or bone-only disease   Women of childbearing potential must commit to the use of effective barrier (non-hormonal) contraception while on study   Patients must have a life expectancy of greater than 12 weeks   Patients must have an Eastern Cooperative Oncology Group (ECOG) performance status =< 2   Patients may have had a prior diagnosis of cancer if it has been > 5 years since their last treatment   Leukocytes >= 3,000/uL (microliter)   Absolute neutrophil count >= 1,500/uL   Platelets >= 100,000/uL   Child Pugh score =< 10   Patients must be able to swallow and retain oral medication   All patients must have given signed, informed consent prior to registration on study Exclusion Criteria:   Women who are pregnant or lactating are not eligible for study treatment   Patients who are undergoing concomitant radiotherapy are NOT eligible for participation   Patients who are receiving any other investigational agents or concurrent anticancer therapy are NOT eligible for participation; previous systemic treatment is allowed with a 2 week washout period prior to registration   Patients who are taking any herbal (alternative) medicines are NOT eligible for participation; patients must be off any such medications by the time of registration   Patients who are receiving concomitant D2-antagonists (such as phenothiazines, butyrophenones, thioxanthenes, or metoclopramide) are NOT eligible for participation; patients must be off any such medications by the time of registration   Patients with known brain metastases are NOT eligible for participation   Patients with any of the following conditions or complications are NOT eligible for participation:   Uncontrolled hypertension   Known hypersensitivity to ergot derivatives   History of cardiac valvular disorders, as suggested by anatomical evidence of valvulopathy of any valve (to be determined by pre-treatment evaluation including echocardiographic demonstration of valve leaflet thickening, valve restriction, or mixed valve restriction-stenosis)   History of pulmonary, pericardial, cardiac valvular, or retroperitoneal fibrotic disorders   Gastrointestinal (GI) tract disease resulting in an inability to take oral medication   Malabsorption syndrome   Require intravenous (IV) alimentation   History of prior surgical procedures affecting absorption   Uncontrolled inflammatory GI disease (e.g., Crohn's, ulcerative colitis)\"\n        ],\n        \"semantic_type\": \"\",\n        \"description\": \"\"\n      }\n    },\n    {\n      \"column\": \"Type_vector\",\n      \"properties\": {\n        \"dtype\": \"object\",\n        \"semantic_type\": \"\",\n        \"description\": \"\"\n      }\n    },\n    {\n      \"column\": \"Statement_vector\",\n      \"properties\": {\n        \"dtype\": \"object\",\n        \"semantic_type\": \"\",\n        \"description\": \"\"\n      }\n    },\n    {\n      \"column\": \"Reference_vector\",\n      \"properties\": {\n        \"dtype\": \"object\",\n        \"semantic_type\": \"\",\n        \"description\": \"\"\n      }\n    }\n  ]\n}",
              "type": "dataframe",
              "variable_name": "df"
            },
            "text/html": [
              "\n",
              "  <div id=\"df-7ed66e40-5968-48f9-8084-e8e833d265a1\" class=\"colab-df-container\">\n",
              "    <div>\n",
              "<style scoped>\n",
              "    .dataframe tbody tr th:only-of-type {\n",
              "        vertical-align: middle;\n",
              "    }\n",
              "\n",
              "    .dataframe tbody tr th {\n",
              "        vertical-align: top;\n",
              "    }\n",
              "\n",
              "    .dataframe thead th {\n",
              "        text-align: right;\n",
              "    }\n",
              "</style>\n",
              "<table border=\"1\" class=\"dataframe\">\n",
              "  <thead>\n",
              "    <tr style=\"text-align: right;\">\n",
              "      <th></th>\n",
              "      <th>test_ID</th>\n",
              "      <th>Type</th>\n",
              "      <th>Section_id</th>\n",
              "      <th>Primary_id</th>\n",
              "      <th>Secondary_id</th>\n",
              "      <th>Statement</th>\n",
              "      <th>Label</th>\n",
              "      <th>Primary_evidence_index</th>\n",
              "      <th>Secondary_evidence_index</th>\n",
              "      <th>Reference_data</th>\n",
              "      <th>Type_vector</th>\n",
              "      <th>Statement_vector</th>\n",
              "      <th>Reference_vector</th>\n",
              "    </tr>\n",
              "  </thead>\n",
              "  <tbody>\n",
              "    <tr>\n",
              "      <th>0</th>\n",
              "      <td>5bc844fc-e852-4270-bfaf-36ea9eface3d</td>\n",
              "      <td>Comparison</td>\n",
              "      <td>Intervention</td>\n",
              "      <td>NCT01928186</td>\n",
              "      <td>NCT00684983</td>\n",
              "      <td>All the primary trial participants do not rece...</td>\n",
              "      <td>Contradiction</td>\n",
              "      <td>INTERVENTION 1:    Diagnostic (FLT PET)   Pati...</td>\n",
              "      <td>INTERVENTION 1:    Arm A   Patients receive or...</td>\n",
              "      <td>INTERVENTION 1:    Diagnostic (FLT PET)   Pati...</td>\n",
              "      <td>[0.0, 0.0, 0.0, 0.0, 0.0, 0.0, 0.0, 0.0, 0.0, ...</td>\n",
              "      <td>[0.20870005, 0.010578745, -0.14042668, -0.1325...</td>\n",
              "      <td>[0.27742657, -0.0015234367, -0.14305797, -0.01...</td>\n",
              "    </tr>\n",
              "    <tr>\n",
              "      <th>1</th>\n",
              "      <td>86b7cb3d-6186-4a04-9aa6-b174ab764eed</td>\n",
              "      <td>Single</td>\n",
              "      <td>Eligibility</td>\n",
              "      <td>NCT00662129</td>\n",
              "      <td>NaN</td>\n",
              "      <td>Patients with Platelet count over 100,000/mm¬¨...</td>\n",
              "      <td>Contradiction</td>\n",
              "      <td>PATIENT CHARACTERISTICS:   ANC  1,500/mm³   ...</td>\n",
              "      <td>NaN</td>\n",
              "      <td>DISEASE CHARACTERISTICS:   Histologically or c...</td>\n",
              "      <td>[0.0, 0.0, 0.0, 0.0, 0.0, 0.0, 0.0, 0.0, 0.0, ...</td>\n",
              "      <td>[0.27734584, 0.14244205, -0.083380654, 0.02588...</td>\n",
              "      <td>[0.24579634, 0.06359309, -0.19657847, -0.04272...</td>\n",
              "    </tr>\n",
              "    <tr>\n",
              "      <th>2</th>\n",
              "      <td>dbed5471-c2fc-45b5-b26f-430c9fa37a37</td>\n",
              "      <td>Comparison</td>\n",
              "      <td>Adverse Events</td>\n",
              "      <td>NCT00093145</td>\n",
              "      <td>NCT00703326</td>\n",
              "      <td>Heart-related adverse events were recorded in ...</td>\n",
              "      <td>Entailment</td>\n",
              "      <td>Adverse Events 1:   Supraventricular tachycard...</td>\n",
              "      <td>Adverse Events 1:   Atrial fibrillation 1/752 ...</td>\n",
              "      <td>Adverse Events 1:   Total: 5/32 (15.63%)   Feb...</td>\n",
              "      <td>[0.0, 0.0, 0.0, 0.0, 0.0, 0.0, 0.0, 0.0, 0.0, ...</td>\n",
              "      <td>[0.26496604, 0.15919074, -0.11285321, -0.18515...</td>\n",
              "      <td>[0.15163456, 0.20475844, -0.24133596, 0.050696...</td>\n",
              "    </tr>\n",
              "    <tr>\n",
              "      <th>3</th>\n",
              "      <td>20c35c89-8d23-4be3-b603-ac0ee0f3b4de</td>\n",
              "      <td>Single</td>\n",
              "      <td>Eligibility</td>\n",
              "      <td>NCT01097642</td>\n",
              "      <td>NaN</td>\n",
              "      <td>Adult Patients with histologic confirmation of...</td>\n",
              "      <td>Contradiction</td>\n",
              "      <td>Inclusion Criteria:   Patients with histologic...</td>\n",
              "      <td>NaN</td>\n",
              "      <td>Inclusion Criteria:   Patients with histologic...</td>\n",
              "      <td>[0.0, 0.0, 0.0, 0.0, 0.0, 0.0, 0.0, 0.0, 0.0, ...</td>\n",
              "      <td>[0.13775751, 0.020728718, -0.15459715, -0.1009...</td>\n",
              "      <td>[0.21726197, 0.1062329, -0.1627092, -0.0487415...</td>\n",
              "    </tr>\n",
              "    <tr>\n",
              "      <th>4</th>\n",
              "      <td>f17cb242-419d-4f5d-bfa4-41494ed5ac0e</td>\n",
              "      <td>Comparison</td>\n",
              "      <td>Intervention</td>\n",
              "      <td>NCT00852930</td>\n",
              "      <td>NCT02308020</td>\n",
              "      <td>Laser Therapy is in each cohort of the primary...</td>\n",
              "      <td>Contradiction</td>\n",
              "      <td>INTERVENTION 1:    Laser Therapy Alone   thera...</td>\n",
              "      <td>INTERVENTION 1:    Part A Abemaciclib: HR+, HE...</td>\n",
              "      <td>INTERVENTION 1:    Laser Therapy Alone   thera...</td>\n",
              "      <td>[0.0, 0.0, 0.0, 0.0, 0.0, 0.0, 0.0, 0.0, 0.0, ...</td>\n",
              "      <td>[0.2073716, 0.14273366, -0.12802854, -0.110927...</td>\n",
              "      <td>[0.21484275, -0.03353516, -0.19706348, -0.0449...</td>\n",
              "    </tr>\n",
              "  </tbody>\n",
              "</table>\n",
              "</div>\n",
              "    <div class=\"colab-df-buttons\">\n",
              "\n",
              "  <div class=\"colab-df-container\">\n",
              "    <button class=\"colab-df-convert\" onclick=\"convertToInteractive('df-7ed66e40-5968-48f9-8084-e8e833d265a1')\"\n",
              "            title=\"Convert this dataframe to an interactive table.\"\n",
              "            style=\"display:none;\">\n",
              "\n",
              "  <svg xmlns=\"http://www.w3.org/2000/svg\" height=\"24px\" viewBox=\"0 -960 960 960\">\n",
              "    <path d=\"M120-120v-720h720v720H120Zm60-500h600v-160H180v160Zm220 220h160v-160H400v160Zm0 220h160v-160H400v160ZM180-400h160v-160H180v160Zm440 0h160v-160H620v160ZM180-180h160v-160H180v160Zm440 0h160v-160H620v160Z\"/>\n",
              "  </svg>\n",
              "    </button>\n",
              "\n",
              "  <style>\n",
              "    .colab-df-container {\n",
              "      display:flex;\n",
              "      gap: 12px;\n",
              "    }\n",
              "\n",
              "    .colab-df-convert {\n",
              "      background-color: #E8F0FE;\n",
              "      border: none;\n",
              "      border-radius: 50%;\n",
              "      cursor: pointer;\n",
              "      display: none;\n",
              "      fill: #1967D2;\n",
              "      height: 32px;\n",
              "      padding: 0 0 0 0;\n",
              "      width: 32px;\n",
              "    }\n",
              "\n",
              "    .colab-df-convert:hover {\n",
              "      background-color: #E2EBFA;\n",
              "      box-shadow: 0px 1px 2px rgba(60, 64, 67, 0.3), 0px 1px 3px 1px rgba(60, 64, 67, 0.15);\n",
              "      fill: #174EA6;\n",
              "    }\n",
              "\n",
              "    .colab-df-buttons div {\n",
              "      margin-bottom: 4px;\n",
              "    }\n",
              "\n",
              "    [theme=dark] .colab-df-convert {\n",
              "      background-color: #3B4455;\n",
              "      fill: #D2E3FC;\n",
              "    }\n",
              "\n",
              "    [theme=dark] .colab-df-convert:hover {\n",
              "      background-color: #434B5C;\n",
              "      box-shadow: 0px 1px 3px 1px rgba(0, 0, 0, 0.15);\n",
              "      filter: drop-shadow(0px 1px 2px rgba(0, 0, 0, 0.3));\n",
              "      fill: #FFFFFF;\n",
              "    }\n",
              "  </style>\n",
              "\n",
              "    <script>\n",
              "      const buttonEl =\n",
              "        document.querySelector('#df-7ed66e40-5968-48f9-8084-e8e833d265a1 button.colab-df-convert');\n",
              "      buttonEl.style.display =\n",
              "        google.colab.kernel.accessAllowed ? 'block' : 'none';\n",
              "\n",
              "      async function convertToInteractive(key) {\n",
              "        const element = document.querySelector('#df-7ed66e40-5968-48f9-8084-e8e833d265a1');\n",
              "        const dataTable =\n",
              "          await google.colab.kernel.invokeFunction('convertToInteractive',\n",
              "                                                    [key], {});\n",
              "        if (!dataTable) return;\n",
              "\n",
              "        const docLinkHtml = 'Like what you see? Visit the ' +\n",
              "          '<a target=\"_blank\" href=https://colab.research.google.com/notebooks/data_table.ipynb>data table notebook</a>'\n",
              "          + ' to learn more about interactive tables.';\n",
              "        element.innerHTML = '';\n",
              "        dataTable['output_type'] = 'display_data';\n",
              "        await google.colab.output.renderOutput(dataTable, element);\n",
              "        const docLink = document.createElement('div');\n",
              "        docLink.innerHTML = docLinkHtml;\n",
              "        element.appendChild(docLink);\n",
              "      }\n",
              "    </script>\n",
              "  </div>\n",
              "\n",
              "\n",
              "<div id=\"df-b1e43381-aab7-42dd-874a-3a6bc7ff314c\">\n",
              "  <button class=\"colab-df-quickchart\" onclick=\"quickchart('df-b1e43381-aab7-42dd-874a-3a6bc7ff314c')\"\n",
              "            title=\"Suggest charts\"\n",
              "            style=\"display:none;\">\n",
              "\n",
              "<svg xmlns=\"http://www.w3.org/2000/svg\" height=\"24px\"viewBox=\"0 0 24 24\"\n",
              "     width=\"24px\">\n",
              "    <g>\n",
              "        <path d=\"M19 3H5c-1.1 0-2 .9-2 2v14c0 1.1.9 2 2 2h14c1.1 0 2-.9 2-2V5c0-1.1-.9-2-2-2zM9 17H7v-7h2v7zm4 0h-2V7h2v10zm4 0h-2v-4h2v4z\"/>\n",
              "    </g>\n",
              "</svg>\n",
              "  </button>\n",
              "\n",
              "<style>\n",
              "  .colab-df-quickchart {\n",
              "      --bg-color: #E8F0FE;\n",
              "      --fill-color: #1967D2;\n",
              "      --hover-bg-color: #E2EBFA;\n",
              "      --hover-fill-color: #174EA6;\n",
              "      --disabled-fill-color: #AAA;\n",
              "      --disabled-bg-color: #DDD;\n",
              "  }\n",
              "\n",
              "  [theme=dark] .colab-df-quickchart {\n",
              "      --bg-color: #3B4455;\n",
              "      --fill-color: #D2E3FC;\n",
              "      --hover-bg-color: #434B5C;\n",
              "      --hover-fill-color: #FFFFFF;\n",
              "      --disabled-bg-color: #3B4455;\n",
              "      --disabled-fill-color: #666;\n",
              "  }\n",
              "\n",
              "  .colab-df-quickchart {\n",
              "    background-color: var(--bg-color);\n",
              "    border: none;\n",
              "    border-radius: 50%;\n",
              "    cursor: pointer;\n",
              "    display: none;\n",
              "    fill: var(--fill-color);\n",
              "    height: 32px;\n",
              "    padding: 0;\n",
              "    width: 32px;\n",
              "  }\n",
              "\n",
              "  .colab-df-quickchart:hover {\n",
              "    background-color: var(--hover-bg-color);\n",
              "    box-shadow: 0 1px 2px rgba(60, 64, 67, 0.3), 0 1px 3px 1px rgba(60, 64, 67, 0.15);\n",
              "    fill: var(--button-hover-fill-color);\n",
              "  }\n",
              "\n",
              "  .colab-df-quickchart-complete:disabled,\n",
              "  .colab-df-quickchart-complete:disabled:hover {\n",
              "    background-color: var(--disabled-bg-color);\n",
              "    fill: var(--disabled-fill-color);\n",
              "    box-shadow: none;\n",
              "  }\n",
              "\n",
              "  .colab-df-spinner {\n",
              "    border: 2px solid var(--fill-color);\n",
              "    border-color: transparent;\n",
              "    border-bottom-color: var(--fill-color);\n",
              "    animation:\n",
              "      spin 1s steps(1) infinite;\n",
              "  }\n",
              "\n",
              "  @keyframes spin {\n",
              "    0% {\n",
              "      border-color: transparent;\n",
              "      border-bottom-color: var(--fill-color);\n",
              "      border-left-color: var(--fill-color);\n",
              "    }\n",
              "    20% {\n",
              "      border-color: transparent;\n",
              "      border-left-color: var(--fill-color);\n",
              "      border-top-color: var(--fill-color);\n",
              "    }\n",
              "    30% {\n",
              "      border-color: transparent;\n",
              "      border-left-color: var(--fill-color);\n",
              "      border-top-color: var(--fill-color);\n",
              "      border-right-color: var(--fill-color);\n",
              "    }\n",
              "    40% {\n",
              "      border-color: transparent;\n",
              "      border-right-color: var(--fill-color);\n",
              "      border-top-color: var(--fill-color);\n",
              "    }\n",
              "    60% {\n",
              "      border-color: transparent;\n",
              "      border-right-color: var(--fill-color);\n",
              "    }\n",
              "    80% {\n",
              "      border-color: transparent;\n",
              "      border-right-color: var(--fill-color);\n",
              "      border-bottom-color: var(--fill-color);\n",
              "    }\n",
              "    90% {\n",
              "      border-color: transparent;\n",
              "      border-bottom-color: var(--fill-color);\n",
              "    }\n",
              "  }\n",
              "</style>\n",
              "\n",
              "  <script>\n",
              "    async function quickchart(key) {\n",
              "      const quickchartButtonEl =\n",
              "        document.querySelector('#' + key + ' button');\n",
              "      quickchartButtonEl.disabled = true;  // To prevent multiple clicks.\n",
              "      quickchartButtonEl.classList.add('colab-df-spinner');\n",
              "      try {\n",
              "        const charts = await google.colab.kernel.invokeFunction(\n",
              "            'suggestCharts', [key], {});\n",
              "      } catch (error) {\n",
              "        console.error('Error during call to suggestCharts:', error);\n",
              "      }\n",
              "      quickchartButtonEl.classList.remove('colab-df-spinner');\n",
              "      quickchartButtonEl.classList.add('colab-df-quickchart-complete');\n",
              "    }\n",
              "    (() => {\n",
              "      let quickchartButtonEl =\n",
              "        document.querySelector('#df-b1e43381-aab7-42dd-874a-3a6bc7ff314c button');\n",
              "      quickchartButtonEl.style.display =\n",
              "        google.colab.kernel.accessAllowed ? 'block' : 'none';\n",
              "    })();\n",
              "  </script>\n",
              "</div>\n",
              "\n",
              "    </div>\n",
              "  </div>\n"
            ],
            "text/plain": [
              "                                test_ID        Type      Section_id  \\\n",
              "0  5bc844fc-e852-4270-bfaf-36ea9eface3d  Comparison    Intervention   \n",
              "1  86b7cb3d-6186-4a04-9aa6-b174ab764eed      Single     Eligibility   \n",
              "2  dbed5471-c2fc-45b5-b26f-430c9fa37a37  Comparison  Adverse Events   \n",
              "3  20c35c89-8d23-4be3-b603-ac0ee0f3b4de      Single     Eligibility   \n",
              "4  f17cb242-419d-4f5d-bfa4-41494ed5ac0e  Comparison    Intervention   \n",
              "\n",
              "    Primary_id Secondary_id  \\\n",
              "0  NCT01928186  NCT00684983   \n",
              "1  NCT00662129          NaN   \n",
              "2  NCT00093145  NCT00703326   \n",
              "3  NCT01097642          NaN   \n",
              "4  NCT00852930  NCT02308020   \n",
              "\n",
              "                                           Statement          Label  \\\n",
              "0  All the primary trial participants do not rece...  Contradiction   \n",
              "1  Patients with Platelet count over 100,000/mm¬¨...  Contradiction   \n",
              "2  Heart-related adverse events were recorded in ...     Entailment   \n",
              "3  Adult Patients with histologic confirmation of...  Contradiction   \n",
              "4  Laser Therapy is in each cohort of the primary...  Contradiction   \n",
              "\n",
              "                              Primary_evidence_index  \\\n",
              "0  INTERVENTION 1:    Diagnostic (FLT PET)   Pati...   \n",
              "1    PATIENT CHARACTERISTICS:   ANC  1,500/mm³   ...   \n",
              "2  Adverse Events 1:   Supraventricular tachycard...   \n",
              "3  Inclusion Criteria:   Patients with histologic...   \n",
              "4  INTERVENTION 1:    Laser Therapy Alone   thera...   \n",
              "\n",
              "                            Secondary_evidence_index  \\\n",
              "0  INTERVENTION 1:    Arm A   Patients receive or...   \n",
              "1                                                NaN   \n",
              "2  Adverse Events 1:   Atrial fibrillation 1/752 ...   \n",
              "3                                                NaN   \n",
              "4  INTERVENTION 1:    Part A Abemaciclib: HR+, HE...   \n",
              "\n",
              "                                      Reference_data  \\\n",
              "0  INTERVENTION 1:    Diagnostic (FLT PET)   Pati...   \n",
              "1  DISEASE CHARACTERISTICS:   Histologically or c...   \n",
              "2  Adverse Events 1:   Total: 5/32 (15.63%)   Feb...   \n",
              "3  Inclusion Criteria:   Patients with histologic...   \n",
              "4  INTERVENTION 1:    Laser Therapy Alone   thera...   \n",
              "\n",
              "                                         Type_vector  \\\n",
              "0  [0.0, 0.0, 0.0, 0.0, 0.0, 0.0, 0.0, 0.0, 0.0, ...   \n",
              "1  [0.0, 0.0, 0.0, 0.0, 0.0, 0.0, 0.0, 0.0, 0.0, ...   \n",
              "2  [0.0, 0.0, 0.0, 0.0, 0.0, 0.0, 0.0, 0.0, 0.0, ...   \n",
              "3  [0.0, 0.0, 0.0, 0.0, 0.0, 0.0, 0.0, 0.0, 0.0, ...   \n",
              "4  [0.0, 0.0, 0.0, 0.0, 0.0, 0.0, 0.0, 0.0, 0.0, ...   \n",
              "\n",
              "                                    Statement_vector  \\\n",
              "0  [0.20870005, 0.010578745, -0.14042668, -0.1325...   \n",
              "1  [0.27734584, 0.14244205, -0.083380654, 0.02588...   \n",
              "2  [0.26496604, 0.15919074, -0.11285321, -0.18515...   \n",
              "3  [0.13775751, 0.020728718, -0.15459715, -0.1009...   \n",
              "4  [0.2073716, 0.14273366, -0.12802854, -0.110927...   \n",
              "\n",
              "                                    Reference_vector  \n",
              "0  [0.27742657, -0.0015234367, -0.14305797, -0.01...  \n",
              "1  [0.24579634, 0.06359309, -0.19657847, -0.04272...  \n",
              "2  [0.15163456, 0.20475844, -0.24133596, 0.050696...  \n",
              "3  [0.21726197, 0.1062329, -0.1627092, -0.0487415...  \n",
              "4  [0.21484275, -0.03353516, -0.19706348, -0.0449...  "
            ]
          },
          "execution_count": 100,
          "metadata": {},
          "output_type": "execute_result"
        }
      ],
      "source": [
        "df.head()"
      ]
    },
    {
      "cell_type": "code",
      "execution_count": 101,
      "metadata": {
        "id": "fhQXnZrJRJVb"
      },
      "outputs": [],
      "source": [
        "X = np.hstack([df['Type_vector'].values.tolist(),\n",
        "               df['Statement_vector'].values.tolist(),\n",
        "               df['Reference_vector'].values.tolist()])"
      ]
    },
    {
      "cell_type": "code",
      "execution_count": 102,
      "metadata": {
        "id": "mmHZpo5mRP3Y"
      },
      "outputs": [],
      "source": [
        "label_encoder = LabelEncoder()\n",
        "y = label_encoder.fit_transform(df['Label'])"
      ]
    },
    {
      "cell_type": "code",
      "execution_count": 103,
      "metadata": {
        "id": "0mIT62gtRVAO"
      },
      "outputs": [],
      "source": [
        "X_train, X_test, y_train, y_test = train_test_split(X, y, test_size=0.2, random_state=42)"
      ]
    },
    {
      "cell_type": "code",
      "execution_count": 104,
      "metadata": {
        "colab": {
          "base_uri": "https://localhost:8080/"
        },
        "id": "ng2E50T4aIcf",
        "outputId": "31a0df4f-8e9e-4a47-c36a-1ab2b55cf87e"
      },
      "outputs": [
        {
          "name": "stdout",
          "output_type": "stream",
          "text": [
            "Epoch 1/100\n",
            "43/43 [==============================] - 3s 13ms/step - loss: 0.9657 - accuracy: 0.5147 - val_loss: 0.7173 - val_accuracy: 0.4912\n",
            "Epoch 2/100\n",
            "20/43 [============>.................] - ETA: 0s - loss: 0.8903 - accuracy: 0.5266"
          ]
        },
        {
          "name": "stderr",
          "output_type": "stream",
          "text": [
            "/usr/local/lib/python3.10/dist-packages/keras/src/engine/training.py:3103: UserWarning: You are saving your model as an HDF5 file via `model.save()`. This file format is considered legacy. We recommend using instead the native Keras format, e.g. `model.save('my_model.keras')`.\n",
            "  saving_api.save_model(\n"
          ]
        },
        {
          "name": "stdout",
          "output_type": "stream",
          "text": [
            "43/43 [==============================] - 0s 7ms/step - loss: 0.9345 - accuracy: 0.5029 - val_loss: 0.7373 - val_accuracy: 0.4941\n",
            "Epoch 3/100\n",
            "43/43 [==============================] - 0s 7ms/step - loss: 0.8855 - accuracy: 0.5000 - val_loss: 0.7533 - val_accuracy: 0.4853\n",
            "Epoch 4/100\n",
            "43/43 [==============================] - 0s 7ms/step - loss: 0.8853 - accuracy: 0.4838 - val_loss: 0.7585 - val_accuracy: 0.4824\n",
            "Epoch 5/100\n",
            "43/43 [==============================] - 0s 7ms/step - loss: 0.8403 - accuracy: 0.4919 - val_loss: 0.7628 - val_accuracy: 0.4706\n",
            "Epoch 6/100\n",
            "43/43 [==============================] - 0s 7ms/step - loss: 0.8307 - accuracy: 0.5000 - val_loss: 0.7661 - val_accuracy: 0.4559\n",
            "Epoch 7/100\n",
            "43/43 [==============================] - 0s 6ms/step - loss: 0.7844 - accuracy: 0.5257 - val_loss: 0.7634 - val_accuracy: 0.4676\n",
            "Epoch 8/100\n",
            "43/43 [==============================] - 0s 6ms/step - loss: 0.7759 - accuracy: 0.5213 - val_loss: 0.7655 - val_accuracy: 0.4559\n",
            "Epoch 9/100\n",
            "43/43 [==============================] - 0s 7ms/step - loss: 0.7722 - accuracy: 0.4956 - val_loss: 0.7655 - val_accuracy: 0.4647\n",
            "Epoch 10/100\n",
            "43/43 [==============================] - 0s 7ms/step - loss: 0.7520 - accuracy: 0.5301 - val_loss: 0.7681 - val_accuracy: 0.4471\n",
            "Epoch 11/100\n",
            "43/43 [==============================] - 0s 7ms/step - loss: 0.7480 - accuracy: 0.5353 - val_loss: 0.7701 - val_accuracy: 0.4618\n",
            "11/11 [==============================] - 0s 2ms/step\n",
            "Epoch 1/100\n",
            "43/43 [==============================] - 3s 13ms/step - loss: 0.8811 - accuracy: 0.4831 - val_loss: 0.7043 - val_accuracy: 0.4824\n",
            "Epoch 2/100\n",
            "21/43 [=============>................] - ETA: 0s - loss: 0.7938 - accuracy: 0.5461"
          ]
        },
        {
          "name": "stderr",
          "output_type": "stream",
          "text": [
            "/usr/local/lib/python3.10/dist-packages/keras/src/engine/training.py:3103: UserWarning: You are saving your model as an HDF5 file via `model.save()`. This file format is considered legacy. We recommend using instead the native Keras format, e.g. `model.save('my_model.keras')`.\n",
            "  saving_api.save_model(\n"
          ]
        },
        {
          "name": "stdout",
          "output_type": "stream",
          "text": [
            "43/43 [==============================] - 0s 6ms/step - loss: 0.8169 - accuracy: 0.5250 - val_loss: 0.7076 - val_accuracy: 0.4765\n",
            "Epoch 3/100\n",
            "43/43 [==============================] - 0s 6ms/step - loss: 0.8210 - accuracy: 0.5066 - val_loss: 0.7166 - val_accuracy: 0.4647\n",
            "Epoch 4/100\n",
            "43/43 [==============================] - 0s 6ms/step - loss: 0.8083 - accuracy: 0.5044 - val_loss: 0.7261 - val_accuracy: 0.4500\n",
            "Epoch 5/100\n",
            "43/43 [==============================] - 0s 7ms/step - loss: 0.7917 - accuracy: 0.5191 - val_loss: 0.7333 - val_accuracy: 0.4441\n",
            "Epoch 6/100\n",
            "43/43 [==============================] - 0s 7ms/step - loss: 0.7695 - accuracy: 0.5250 - val_loss: 0.7414 - val_accuracy: 0.4353\n",
            "Epoch 7/100\n",
            "43/43 [==============================] - 0s 6ms/step - loss: 0.7716 - accuracy: 0.5221 - val_loss: 0.7470 - val_accuracy: 0.4412\n",
            "Epoch 8/100\n",
            "43/43 [==============================] - 0s 6ms/step - loss: 0.7640 - accuracy: 0.5287 - val_loss: 0.7483 - val_accuracy: 0.4294\n",
            "Epoch 9/100\n",
            "43/43 [==============================] - 0s 7ms/step - loss: 0.7707 - accuracy: 0.5235 - val_loss: 0.7498 - val_accuracy: 0.4324\n",
            "Epoch 10/100\n",
            "43/43 [==============================] - 0s 6ms/step - loss: 0.7619 - accuracy: 0.5199 - val_loss: 0.7496 - val_accuracy: 0.4147\n",
            "Epoch 11/100\n",
            "43/43 [==============================] - 0s 7ms/step - loss: 0.7504 - accuracy: 0.5037 - val_loss: 0.7500 - val_accuracy: 0.4118\n",
            "11/11 [==============================] - 0s 2ms/step\n",
            "Epoch 1/100\n",
            "43/43 [==============================] - 3s 13ms/step - loss: 0.9524 - accuracy: 0.5029 - val_loss: 0.7046 - val_accuracy: 0.4971\n",
            "Epoch 2/100\n",
            "20/43 [============>.................] - ETA: 0s - loss: 0.9099 - accuracy: 0.4969"
          ]
        },
        {
          "name": "stderr",
          "output_type": "stream",
          "text": [
            "/usr/local/lib/python3.10/dist-packages/keras/src/engine/training.py:3103: UserWarning: You are saving your model as an HDF5 file via `model.save()`. This file format is considered legacy. We recommend using instead the native Keras format, e.g. `model.save('my_model.keras')`.\n",
            "  saving_api.save_model(\n"
          ]
        },
        {
          "name": "stdout",
          "output_type": "stream",
          "text": [
            "43/43 [==============================] - 0s 6ms/step - loss: 0.8987 - accuracy: 0.5132 - val_loss: 0.7129 - val_accuracy: 0.4853\n",
            "Epoch 3/100\n",
            "43/43 [==============================] - 0s 6ms/step - loss: 0.8538 - accuracy: 0.5066 - val_loss: 0.7168 - val_accuracy: 0.4647\n",
            "Epoch 4/100\n",
            "43/43 [==============================] - 0s 7ms/step - loss: 0.8610 - accuracy: 0.4860 - val_loss: 0.7224 - val_accuracy: 0.4824\n",
            "Epoch 5/100\n",
            "43/43 [==============================] - 0s 6ms/step - loss: 0.8198 - accuracy: 0.4912 - val_loss: 0.7288 - val_accuracy: 0.4882\n",
            "Epoch 6/100\n",
            "43/43 [==============================] - 0s 6ms/step - loss: 0.7970 - accuracy: 0.5103 - val_loss: 0.7341 - val_accuracy: 0.4882\n",
            "Epoch 7/100\n",
            "43/43 [==============================] - 0s 6ms/step - loss: 0.7945 - accuracy: 0.5051 - val_loss: 0.7382 - val_accuracy: 0.4676\n",
            "Epoch 8/100\n",
            "43/43 [==============================] - 0s 7ms/step - loss: 0.7778 - accuracy: 0.5051 - val_loss: 0.7387 - val_accuracy: 0.4647\n",
            "Epoch 9/100\n",
            "43/43 [==============================] - 0s 6ms/step - loss: 0.7663 - accuracy: 0.5191 - val_loss: 0.7399 - val_accuracy: 0.4559\n",
            "Epoch 10/100\n",
            "43/43 [==============================] - 0s 7ms/step - loss: 0.7662 - accuracy: 0.5353 - val_loss: 0.7423 - val_accuracy: 0.4647\n",
            "Epoch 11/100\n",
            "43/43 [==============================] - 0s 7ms/step - loss: 0.7543 - accuracy: 0.5191 - val_loss: 0.7474 - val_accuracy: 0.4588\n",
            "11/11 [==============================] - 0s 2ms/step\n",
            "Epoch 1/100\n",
            "43/43 [==============================] - 3s 13ms/step - loss: 0.8199 - accuracy: 0.5088 - val_loss: 0.7050 - val_accuracy: 0.4794\n",
            "Epoch 2/100\n",
            "21/43 [=============>................] - ETA: 0s - loss: 0.8261 - accuracy: 0.5000"
          ]
        },
        {
          "name": "stderr",
          "output_type": "stream",
          "text": [
            "/usr/local/lib/python3.10/dist-packages/keras/src/engine/training.py:3103: UserWarning: You are saving your model as an HDF5 file via `model.save()`. This file format is considered legacy. We recommend using instead the native Keras format, e.g. `model.save('my_model.keras')`.\n",
            "  saving_api.save_model(\n"
          ]
        },
        {
          "name": "stdout",
          "output_type": "stream",
          "text": [
            "43/43 [==============================] - 0s 7ms/step - loss: 0.8172 - accuracy: 0.4941 - val_loss: 0.7127 - val_accuracy: 0.4500\n",
            "Epoch 3/100\n",
            "43/43 [==============================] - 0s 7ms/step - loss: 0.8108 - accuracy: 0.4985 - val_loss: 0.7173 - val_accuracy: 0.4824\n",
            "Epoch 4/100\n",
            "43/43 [==============================] - 0s 6ms/step - loss: 0.8119 - accuracy: 0.4875 - val_loss: 0.7217 - val_accuracy: 0.4853\n",
            "Epoch 5/100\n",
            "43/43 [==============================] - 0s 7ms/step - loss: 0.8242 - accuracy: 0.4816 - val_loss: 0.7286 - val_accuracy: 0.4500\n",
            "Epoch 6/100\n",
            "43/43 [==============================] - 0s 7ms/step - loss: 0.7510 - accuracy: 0.5390 - val_loss: 0.7352 - val_accuracy: 0.4294\n",
            "Epoch 7/100\n",
            "43/43 [==============================] - 0s 7ms/step - loss: 0.7745 - accuracy: 0.5103 - val_loss: 0.7397 - val_accuracy: 0.4235\n",
            "Epoch 8/100\n",
            "43/43 [==============================] - 0s 7ms/step - loss: 0.7530 - accuracy: 0.5147 - val_loss: 0.7461 - val_accuracy: 0.4147\n",
            "Epoch 9/100\n",
            "43/43 [==============================] - 0s 7ms/step - loss: 0.7753 - accuracy: 0.4934 - val_loss: 0.7461 - val_accuracy: 0.4265\n",
            "Epoch 10/100\n",
            "43/43 [==============================] - 0s 7ms/step - loss: 0.7611 - accuracy: 0.5103 - val_loss: 0.7457 - val_accuracy: 0.4206\n",
            "Epoch 11/100\n",
            "43/43 [==============================] - 0s 7ms/step - loss: 0.7687 - accuracy: 0.4985 - val_loss: 0.7503 - val_accuracy: 0.4118\n",
            "11/11 [==============================] - 0s 2ms/step\n",
            "Epoch 1/100\n",
            "43/43 [==============================] - 3s 13ms/step - loss: 0.7754 - accuracy: 0.5110 - val_loss: 0.7087 - val_accuracy: 0.4735\n",
            "Epoch 2/100\n",
            "21/43 [=============>................] - ETA: 0s - loss: 0.7643 - accuracy: 0.5327"
          ]
        },
        {
          "name": "stderr",
          "output_type": "stream",
          "text": [
            "/usr/local/lib/python3.10/dist-packages/keras/src/engine/training.py:3103: UserWarning: You are saving your model as an HDF5 file via `model.save()`. This file format is considered legacy. We recommend using instead the native Keras format, e.g. `model.save('my_model.keras')`.\n",
            "  saving_api.save_model(\n"
          ]
        },
        {
          "name": "stdout",
          "output_type": "stream",
          "text": [
            "43/43 [==============================] - 0s 6ms/step - loss: 0.7659 - accuracy: 0.5301 - val_loss: 0.7159 - val_accuracy: 0.4882\n",
            "Epoch 3/100\n",
            "43/43 [==============================] - 0s 7ms/step - loss: 0.7649 - accuracy: 0.5228 - val_loss: 0.7248 - val_accuracy: 0.4853\n",
            "Epoch 4/100\n",
            "43/43 [==============================] - 0s 7ms/step - loss: 0.7583 - accuracy: 0.5243 - val_loss: 0.7353 - val_accuracy: 0.4647\n",
            "Epoch 5/100\n",
            "43/43 [==============================] - 0s 7ms/step - loss: 0.7667 - accuracy: 0.5169 - val_loss: 0.7407 - val_accuracy: 0.4441\n",
            "Epoch 6/100\n",
            "43/43 [==============================] - 0s 6ms/step - loss: 0.7399 - accuracy: 0.5169 - val_loss: 0.7474 - val_accuracy: 0.4441\n",
            "Epoch 7/100\n",
            "43/43 [==============================] - 0s 6ms/step - loss: 0.7554 - accuracy: 0.5081 - val_loss: 0.7521 - val_accuracy: 0.4324\n",
            "Epoch 8/100\n",
            "43/43 [==============================] - 0s 7ms/step - loss: 0.7580 - accuracy: 0.5015 - val_loss: 0.7572 - val_accuracy: 0.4294\n",
            "Epoch 9/100\n",
            "43/43 [==============================] - 0s 7ms/step - loss: 0.7506 - accuracy: 0.5154 - val_loss: 0.7614 - val_accuracy: 0.4294\n",
            "Epoch 10/100\n",
            "43/43 [==============================] - 0s 6ms/step - loss: 0.7411 - accuracy: 0.5132 - val_loss: 0.7616 - val_accuracy: 0.4294\n",
            "Epoch 11/100\n",
            "43/43 [==============================] - 0s 7ms/step - loss: 0.7232 - accuracy: 0.5397 - val_loss: 0.7665 - val_accuracy: 0.4382\n",
            "11/11 [==============================] - 0s 2ms/step\n",
            "Cross-validated accuracy: 0.4847058823529412\n",
            "Cross-validated precision: 0.4766746773262375\n",
            "Cross-validated recall: 0.4576470588235294\n",
            "Cross-validated F1 score: 0.4304724529340581\n"
          ]
        }
      ],
      "source": [
        "kf = StratifiedKFold(n_splits=5)\n",
        "accuracies = []\n",
        "precisions = []\n",
        "recalls = []\n",
        "f1s = []\n",
        "\n",
        "for train_index, val_index in kf.split(X, y):\n",
        "    X_train, X_val = X[train_index], X[val_index]\n",
        "    y_train, y_val = y[train_index], y[val_index]\n",
        "\n",
        "    scaler = StandardScaler()\n",
        "    X_train_scaled = scaler.fit_transform(X_train)\n",
        "    X_val_scaled = scaler.transform(X_val)\n",
        "\n",
        "    model = Sequential()\n",
        "    model.add(Dense(512, input_dim=X_train_scaled.shape[1], activation='relu'))\n",
        "    model.add(BatchNormalization())\n",
        "    model.add(Dropout(0.5))\n",
        "    model.add(Dense(256, activation='relu'))\n",
        "    model.add(BatchNormalization())\n",
        "    model.add(Dropout(0.5))\n",
        "    model.add(Dense(128, activation='relu'))\n",
        "    model.add(BatchNormalization())\n",
        "    model.add(Dropout(0.3))\n",
        "    model.add(Dense(64, activation='relu'))\n",
        "    model.add(Dense(1, activation='sigmoid'))\n",
        "\n",
        "    optimizer = Adam(learning_rate=0.0001)\n",
        "    model.compile(loss='binary_crossentropy', optimizer=optimizer, metrics=['accuracy'])\n",
        "\n",
        "    early_stopping = EarlyStopping(monitor='val_loss', patience=10, restore_best_weights=True)\n",
        "    model_checkpoint = ModelCheckpoint('Label_Prediction.h5', save_best_only=True, monitor='val_loss', mode='min')\n",
        "\n",
        "    history = model.fit(X_train_scaled, y_train, epochs=100, batch_size=32, validation_data=(X_val_scaled, y_val), callbacks=[early_stopping, model_checkpoint])\n",
        "\n",
        "    model.load_weights('Label_Prediction.h5')\n",
        "    y_val_pred = (model.predict(X_val_scaled) > 0.5).astype(\"int32\")\n",
        "\n",
        "    accuracy = accuracy_score(y_val, y_val_pred)\n",
        "    precision = precision_score(y_val, y_val_pred)\n",
        "    recall = recall_score(y_val, y_val_pred)\n",
        "    f1 = f1_score(y_val, y_val_pred)\n",
        "\n",
        "    accuracies.append(accuracy)\n",
        "    precisions.append(precision)\n",
        "    recalls.append(recall)\n",
        "    f1s.append(f1)\n",
        "\n",
        "print(f'Cross-validated accuracy: {np.mean(accuracies)}')\n",
        "print(f'Cross-validated precision: {np.mean(precisions)}')\n",
        "print(f'Cross-validated recall: {np.mean(recalls)}')\n",
        "print(f'Cross-validated F1 score: {np.mean(f1s)}')"
      ]
    },
    {
      "cell_type": "code",
      "execution_count": 106,
      "metadata": {
        "colab": {
          "base_uri": "https://localhost:8080/"
        },
        "id": "9BnbX_I9V9fY",
        "outputId": "9a2a3a22-ac3d-4c26-f028-fdeb9e7f11af"
      },
      "outputs": [
        {
          "name": "stdout",
          "output_type": "stream",
          "text": [
            "11/11 [==============================] - 0s 2ms/step\n",
            "Confusion matrix:\n",
            " [[  8 164]\n",
            " [ 23 145]]\n",
            "Accuracy: 0.45\n",
            "Precision: 0.4692556634304207\n",
            "Recall: 0.8630952380952381\n",
            "F1 Score: 0.6079664570230607\n"
          ]
        }
      ],
      "source": [
        "model.load_weights('Label_Prediction.h5')\n",
        "\n",
        "y_pred_proba = model.predict(X_test)\n",
        "y_pred = (y_pred_proba > 0.5).astype(\"int32\")\n",
        "\n",
        "accuracy = accuracy_score(y_test, y_pred)\n",
        "precision = precision_score(y_test, y_pred)\n",
        "recall = recall_score(y_test, y_pred)\n",
        "f1 = f1_score(y_test, y_pred)\n",
        "conf_matrix = confusion_matrix(y_test, y_pred)\n",
        "\n",
        "print(f'Confusion matrix:\\n {conf_matrix}')\n",
        "print(f'Accuracy: {accuracy}')\n",
        "print(f'Precision: {precision}')\n",
        "print(f'Recall: {recall}')\n",
        "print(f'F1 Score: {f1}')"
      ]
    },
    {
      "cell_type": "code",
      "execution_count": null,
      "metadata": {
        "id": "bjFAI50Ndih3"
      },
      "outputs": [],
      "source": [
        "coling"
      ]
    },
    {
      "cell_type": "code",
      "execution_count": null,
      "metadata": {},
      "outputs": [],
      "source": [
        "aaai"
      ]
    }
  ],
  "metadata": {
    "accelerator": "GPU",
    "colab": {
      "gpuType": "L4",
      "machine_shape": "hm",
      "provenance": []
    },
    "kernelspec": {
      "display_name": "Python 3",
      "name": "python3"
    },
    "language_info": {
      "name": "python"
    }
  },
  "nbformat": 4,
  "nbformat_minor": 0
}
