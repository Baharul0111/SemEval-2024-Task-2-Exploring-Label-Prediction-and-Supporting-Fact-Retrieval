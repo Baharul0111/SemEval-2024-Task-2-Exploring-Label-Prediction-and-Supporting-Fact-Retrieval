{
  "cells": [
    {
      "cell_type": "code",
      "execution_count": 1,
      "metadata": {
        "colab": {
          "base_uri": "https://localhost:8080/"
        },
        "id": "FWYuaF5wnqQB",
        "outputId": "8381d724-9bfa-4427-a80b-bc68f6536cb6"
      },
      "outputs": [
        {
          "name": "stdout",
          "output_type": "stream",
          "text": [
            "Collecting openai\n",
            "  Downloading openai-1.35.10-py3-none-any.whl (328 kB)\n",
            "\u001b[?25l     \u001b[90m━━━━━━━━━━━━━━━━━━━━━━━━━━━━━━━━━━━━━━━━\u001b[0m \u001b[32m0.0/328.3 kB\u001b[0m \u001b[31m?\u001b[0m eta \u001b[36m-:--:--\u001b[0m\r\u001b[2K     \u001b[91m━━━━━━━━━━━━━━━━━━━━━━━━━━━━━━━━━━━━━━━\u001b[0m\u001b[91m╸\u001b[0m \u001b[32m327.7/328.3 kB\u001b[0m \u001b[31m11.9 MB/s\u001b[0m eta \u001b[36m0:00:01\u001b[0m\r\u001b[2K     \u001b[90m━━━━━━━━━━━━━━━━━━━━━━━━━━━━━━━━━━━━━━━━\u001b[0m \u001b[32m328.3/328.3 kB\u001b[0m \u001b[31m9.5 MB/s\u001b[0m eta \u001b[36m0:00:00\u001b[0m\n",
            "\u001b[?25hRequirement already satisfied: anyio<5,>=3.5.0 in /usr/local/lib/python3.10/dist-packages (from openai) (3.7.1)\n",
            "Requirement already satisfied: distro<2,>=1.7.0 in /usr/lib/python3/dist-packages (from openai) (1.7.0)\n",
            "Collecting httpx<1,>=0.23.0 (from openai)\n",
            "  Downloading httpx-0.27.0-py3-none-any.whl (75 kB)\n",
            "\u001b[?25l     \u001b[90m━━━━━━━━━━━━━━━━━━━━━━━━━━━━━━━━━━━━━━━━\u001b[0m \u001b[32m0.0/75.6 kB\u001b[0m \u001b[31m?\u001b[0m eta \u001b[36m-:--:--\u001b[0m\r\u001b[2K     \u001b[90m━━━━━━━━━━━━━━━━━━━━━━━━━━━━━━━━━━━━━━━━\u001b[0m \u001b[32m75.6/75.6 kB\u001b[0m \u001b[31m13.2 MB/s\u001b[0m eta \u001b[36m0:00:00\u001b[0m\n",
            "\u001b[?25hRequirement already satisfied: pydantic<3,>=1.9.0 in /usr/local/lib/python3.10/dist-packages (from openai) (2.8.0)\n",
            "Requirement already satisfied: sniffio in /usr/local/lib/python3.10/dist-packages (from openai) (1.3.1)\n",
            "Requirement already satisfied: tqdm>4 in /usr/local/lib/python3.10/dist-packages (from openai) (4.66.4)\n",
            "Requirement already satisfied: typing-extensions<5,>=4.7 in /usr/local/lib/python3.10/dist-packages (from openai) (4.12.2)\n",
            "Requirement already satisfied: idna>=2.8 in /usr/local/lib/python3.10/dist-packages (from anyio<5,>=3.5.0->openai) (3.7)\n",
            "Requirement already satisfied: exceptiongroup in /usr/local/lib/python3.10/dist-packages (from anyio<5,>=3.5.0->openai) (1.2.1)\n",
            "Requirement already satisfied: certifi in /usr/local/lib/python3.10/dist-packages (from httpx<1,>=0.23.0->openai) (2024.6.2)\n",
            "Collecting httpcore==1.* (from httpx<1,>=0.23.0->openai)\n",
            "  Downloading httpcore-1.0.5-py3-none-any.whl (77 kB)\n",
            "\u001b[2K     \u001b[90m━━━━━━━━━━━━━━━━━━━━━━━━━━━━━━━━━━━━━━━━\u001b[0m \u001b[32m77.9/77.9 kB\u001b[0m \u001b[31m13.1 MB/s\u001b[0m eta \u001b[36m0:00:00\u001b[0m\n",
            "\u001b[?25hCollecting h11<0.15,>=0.13 (from httpcore==1.*->httpx<1,>=0.23.0->openai)\n",
            "  Downloading h11-0.14.0-py3-none-any.whl (58 kB)\n",
            "\u001b[2K     \u001b[90m━━━━━━━━━━━━━━━━━━━━━━━━━━━━━━━━━━━━━━━━\u001b[0m \u001b[32m58.3/58.3 kB\u001b[0m \u001b[31m9.6 MB/s\u001b[0m eta \u001b[36m0:00:00\u001b[0m\n",
            "\u001b[?25hRequirement already satisfied: annotated-types>=0.4.0 in /usr/local/lib/python3.10/dist-packages (from pydantic<3,>=1.9.0->openai) (0.7.0)\n",
            "Requirement already satisfied: pydantic-core==2.20.0 in /usr/local/lib/python3.10/dist-packages (from pydantic<3,>=1.9.0->openai) (2.20.0)\n",
            "Installing collected packages: h11, httpcore, httpx, openai\n",
            "Successfully installed h11-0.14.0 httpcore-1.0.5 httpx-0.27.0 openai-1.35.10\n"
          ]
        }
      ],
      "source": [
        "!pip install openai"
      ]
    },
    {
      "cell_type": "code",
      "execution_count": null,
      "metadata": {
        "id": "vEdERURVvT0-"
      },
      "outputs": [],
      "source": [
        "#preprocessing the data\n",
        "import json\n",
        "import os\n",
        "import pandas as pd\n",
        "\n",
        "with open('/Users/baharulislam/Desktop/DATA_SCIENCE/LLM/SEMEVAL/TASK 2 2024/nli4ct-main/Complete_dataset/train.json') as f:\n",
        "    train_data = json.load(f)\n",
        "\n",
        "clinical_trials = {}\n",
        "ct_folder = 'Complete_dataset/CT json'\n",
        "for filename in os.listdir(ct_folder):\n",
        "    if filename.endswith('.json'):\n",
        "        with open(os.path.join(ct_folder, filename)) as f:\n",
        "            trial_data = json.load(f)\n",
        "            clinical_trials[trial_data[\"Clinical Trial ID\"]] = trial_data\n",
        "\n",
        "def get_full_section_details(trial_data, section_id):\n",
        "    return \" \".join(trial_data.get(section_id, []))\n",
        "\n",
        "def get_indexed_section_details(trial_data, section_id, indexes):\n",
        "    section_details = trial_data.get(section_id, [])\n",
        "    return \" \".join([section_details[i] for i in indexes if i < len(section_details)])\n",
        "\n",
        "merged_data = []\n",
        "\n",
        "for record_id, record in train_data.items():\n",
        "    primary_id = record[\"Primary_id\"]\n",
        "    secondary_id = record.get(\"Secondary_id\")\n",
        "\n",
        "    primary_trial = clinical_trials.get(primary_id, {})\n",
        "    primary_evidence = get_indexed_section_details(primary_trial, record[\"Section_id\"], record[\"Primary_evidence_index\"])\n",
        "    primary_full_section = get_full_section_details(primary_trial, record[\"Section_id\"])\n",
        "\n",
        "    if secondary_id:\n",
        "        secondary_trial = clinical_trials.get(secondary_id, {})\n",
        "        secondary_evidence = get_indexed_section_details(secondary_trial, record[\"Section_id\"], record.get(\"Secondary_evidence_index\", []))\n",
        "        secondary_full_section = get_full_section_details(secondary_trial, record[\"Section_id\"])\n",
        "    else:\n",
        "        secondary_evidence = None\n",
        "        secondary_full_section = None\n",
        "\n",
        "    reference_data = primary_full_section\n",
        "    if secondary_full_section:\n",
        "        reference_data += \" \" + secondary_full_section\n",
        "\n",
        "    merged_record = {\n",
        "        \"test_ID\": record_id,\n",
        "        \"Type\": record[\"Type\"],\n",
        "        \"Section_id\": record[\"Section_id\"],\n",
        "        \"Primary_id\": primary_id,\n",
        "        \"Secondary_id\": secondary_id,\n",
        "        \"Statement\": record[\"Statement\"],\n",
        "        \"Label\": record[\"Label\"],\n",
        "        \"Primary_evidence_index\": primary_evidence,\n",
        "        \"Secondary_evidence_index\": secondary_evidence,\n",
        "        \"Reference_data\": reference_data\n",
        "    }\n",
        "\n",
        "    merged_data.append(merged_record)\n",
        "\n",
        "df = pd.DataFrame(merged_data)\n",
        "df.to_csv('merged_dataset_new.csv', index=False)\n",
        "\n",
        "print(\"CSV file created successfully.\")\n"
      ]
    },
    {
      "cell_type": "code",
      "execution_count": 2,
      "metadata": {
        "id": "bilZW1iRoS2e"
      },
      "outputs": [],
      "source": [
        "import openai\n",
        "import pandas as pd"
      ]
    },
    {
      "cell_type": "code",
      "execution_count": 3,
      "metadata": {
        "id": "kEaHslLGoeRX"
      },
      "outputs": [],
      "source": [
        "df = pd.read_csv('merged_dataset_new.csv')"
      ]
    },
    {
      "cell_type": "code",
      "execution_count": 4,
      "metadata": {
        "colab": {
          "base_uri": "https://localhost:8080/",
          "height": 487
        },
        "id": "-sfxWqj-ozQY",
        "outputId": "367f27fa-1e7a-4958-f3f3-1163518a8abb"
      },
      "outputs": [
        {
          "data": {
            "application/vnd.google.colaboratory.intrinsic+json": {
              "summary": "{\n  \"name\": \"df\",\n  \"rows\": 1700,\n  \"fields\": [\n    {\n      \"column\": \"test_ID\",\n      \"properties\": {\n        \"dtype\": \"string\",\n        \"num_unique_values\": 1700,\n        \"samples\": [\n          \"27e31574-5a73-4a68-997d-daa84797a65a\",\n          \"317e00ae-9d17-4f85-8787-602cc2548fdb\",\n          \"9df90d78-d857-4e1d-a650-e47f7b6b68d6\"\n        ],\n        \"semantic_type\": \"\",\n        \"description\": \"\"\n      }\n    },\n    {\n      \"column\": \"Type\",\n      \"properties\": {\n        \"dtype\": \"category\",\n        \"num_unique_values\": 2,\n        \"samples\": [\n          \"Single\",\n          \"Comparison\"\n        ],\n        \"semantic_type\": \"\",\n        \"description\": \"\"\n      }\n    },\n    {\n      \"column\": \"Section_id\",\n      \"properties\": {\n        \"dtype\": \"category\",\n        \"num_unique_values\": 4,\n        \"samples\": [\n          \"Eligibility\",\n          \"Results\"\n        ],\n        \"semantic_type\": \"\",\n        \"description\": \"\"\n      }\n    },\n    {\n      \"column\": \"Primary_id\",\n      \"properties\": {\n        \"dtype\": \"string\",\n        \"num_unique_values\": 850,\n        \"samples\": [\n          \"NCT01271725\",\n          \"NCT00615901\"\n        ],\n        \"semantic_type\": \"\",\n        \"description\": \"\"\n      }\n    },\n    {\n      \"column\": \"Secondary_id\",\n      \"properties\": {\n        \"dtype\": \"category\",\n        \"num_unique_values\": 352,\n        \"samples\": [\n          \"NCT00305448\",\n          \"NCT00121134\"\n        ],\n        \"semantic_type\": \"\",\n        \"description\": \"\"\n      }\n    },\n    {\n      \"column\": \"Statement\",\n      \"properties\": {\n        \"dtype\": \"string\",\n        \"num_unique_values\": 1692,\n        \"samples\": [\n          \"the primary trial and the secondary trial have no overlap in the drugs they use for their interventions, however they both have placebo groups.\",\n          \"More than a quarter of patients in cohort 1 of the primary trial experienced an adverse event.\"\n        ],\n        \"semantic_type\": \"\",\n        \"description\": \"\"\n      }\n    },\n    {\n      \"column\": \"Label\",\n      \"properties\": {\n        \"dtype\": \"category\",\n        \"num_unique_values\": 2,\n        \"samples\": [\n          \"Entailment\",\n          \"Contradiction\"\n        ],\n        \"semantic_type\": \"\",\n        \"description\": \"\"\n      }\n    },\n    {\n      \"column\": \"Primary_evidence_index\",\n      \"properties\": {\n        \"dtype\": \"string\",\n        \"num_unique_values\": 923,\n        \"samples\": [\n          \"Outcome Measurement:    Objective Response Rate (ORR)   Tumor response evaluation was performed using RECIST 1.0 using CT/MRI. Proportion of patients achieving a CR or PR is considered in the overall response.   Time frame: Assessed at the end of each even-numbered cycle (every 8 weeks), or per standard of care but no less than 4 weeks and nor more than every 12 weeks (+/- 1 week) if treatment has ended. Results 1:    Arm/Group Title: Pralatrexate   Arm/Group Description: Study drug 190 mg/m^2 for 2 to 4 weeks.   Overall Number of Participants Analyzed: 22   Measure Type: Number   Unit of Measure: participants  1\",\n          \"Adverse Events 1:   Total: 69/258 (26.74%)\"\n        ],\n        \"semantic_type\": \"\",\n        \"description\": \"\"\n      }\n    },\n    {\n      \"column\": \"Secondary_evidence_index\",\n      \"properties\": {\n        \"dtype\": \"category\",\n        \"num_unique_values\": 373,\n        \"samples\": [\n          \"Inclusion Criteria:   Pathologically confirmed HER2-positive MBC   Progression of or new brain metastases after completion of whole-brain radiotherapy or stereotactic radiosurgery   Completion of whole-brain radiotherapy or stereotactic radiosurgery more than 60 days prior to enrollment   Stable systemic disease   Eastern Cooperative Oncology Group (ECOG) performance status of 0 or 1   LVEF at least 50%   Adequate hematologic, renal, and hepatic function   Life expectancy more than 12 weeks Exclusion Criteria:   Progression of systemic disease at Screening   Leptomeningeal disease   History of intolerance or hypersensitivity to study drug   Use of certain investigational therapies within 21 days prior to enrollment   Current anthracycline use   Unwillingness to discontinue ado-trastuzumab emtansine or lapatinib use   Active infection   Pregnant or lactating women   Significant history or risk of cardiac disease   Symptomatic intrinsic lung disease or lung involvement   History of other malignancy within the last 5 years\",\n          \"Adverse Events 1:   Total: 5/32 (15.63%)   Leukopenia 1/32 (3.13%)   Neutropenia 1/32 (3.13%)   Cataract 1/32 (3.13%)   Infection 1/32 (3.13%)   Upper respiratory tract infection 1/32 (3.13%)   Completed suicide 1/32 (3.13%)\"\n        ],\n        \"semantic_type\": \"\",\n        \"description\": \"\"\n      }\n    },\n    {\n      \"column\": \"Reference_data\",\n      \"properties\": {\n        \"dtype\": \"string\",\n        \"num_unique_values\": 889,\n        \"samples\": [\n          \"Inclusion Criteria:   Female or male  18 years of age.   Newly diagnosed ER-positive, HER2-negative breast cancer. ER-positive is defined as  1% immunohistochemical (IHC) staining of any intensity. HER2 test result is negative if a single test (or both tests) performed show:   IHC 1+ or 0   In situ hybridization negative based on:   Single-probe average HER2 copy number < 4.0 signals/cell   Dual-probe HER2/CEP17 ratio < 2 with an average HER2 copy number < 4.0 signals/cell.   Patients with stage II-III breast cancer are eligible if they are deemed appropriate for neoadjuvant endocrine therapy by the referring or treating medical oncologist. Patients with stage I disease are eligible if they are deemed borderline candidates for breast conservation and the treating surgeon recommends preoperative therapy to increase the chances of breast conservation.   Eastern Cooperative Oncology Group performance status and/or other performance status of  1.   Female patients who:   Are postmenopausal for at least 1 year before the screening visit, OR   Are surgically sterile, OR   If they are of childbearing potential, agree to practice 1 effective method of contraception and 1 additional effective (barrier) method, at the same time, from the time of signing the ICF through 90 days (or longer, as mandated by local labeling [e.g., United Surgical Partners International, summary of product characteristics, etc.] after the last dose of the study drugs, OR   Agree to practice true abstinence, when this is in line with the preferred and usual lifestyle of the patient (periodic abstinence [e.g., calendar, ovulation, symptothermal, postovulation methods] and withdrawal, spermicides only, and lactational amenorrhea are not acceptable methods of contraception. Female and male condom should not be used together).   Male patients, even if surgically sterilized (i.e., status post-vasectomy), who:   Agree to practice highly effective barrier contraception during the entire study treatment period and through 120 days after the last dose of the study drugs, OR   Agree to practice true abstinence, when this is in line with the preferred and usual lifestyle of the patient   Agree not to donate sperm during the course of this study or within 120 days after receiving their last dose of the study drugs.   Screening clinical laboratory values as specified below:   Bone marrow reserve consistent with: absolute neutrophil count  1.5 x 109/L, platelet count  100 x 109/L, and hemoglobin  9 g/dL (without transfusion) within 1 week preceding the administration of the study drugs;   Hepatic status: Serum total bilirubin  1 x upper limit of normal (ULN; in the case of known Gilbert's syndrome, a higher serum total bilirubin [< 1.5 x ULN] is allowed), aspartate aminotransferase and alanine aminotransferase  1.5 x ULN, and alkaline phosphatase  1.5 x ULN;   Renal status: Creatinine clearance 50 mL/min based on Cockcroft-Gault estimate or based on urine collection (12 or 24 hour);   Metabolic status: HbA1c < 7.0%, fasting serum glucose  130 mg/dL, and fasting triglycerides  300 mg/dL.   Ability to swallow oral medications.   Voluntary written consent must be given before performance of any study-related procedure not part of standard medical care, with the understanding that consent may be withdrawn by the patient at any time without prejudice to future medical care.   Negative serum pregnancy test within 7 days prior to the administration of the study drugs for female patients of childbearing potential.   Patient must be accessible for treatment and follow-up.   Patient must be willing to undergo breast biopsies as required by the study protocol. Exclusion Criteria:   Any patient with metastatic disease.   Other clinically significant comorbidities, such as uncontrolled pulmonary disease, active central nervous system disease, active infection, or any other condition that could compromise the patient's participation in the study.   Known human immunodeficiency virus infection.   Known hepatitis B surface antigen-positive or known or suspected active hepatitis C infection.   Any serious medical or psychiatric illness that could, in the investigator's opinion, potentially interfere with the completion of the protocol-specified treatment.   Diagnosed or treated for another malignancy within 2 years before administration of the first dose of the study drugs or previously diagnosed with another malignancy and have any evidence of residual disease. Patients with non-melanoma skin cancer or carcinoma in situ of any type are not excluded if they have undergone complete resection.   Breastfeeding or pregnant.   Manifestations of malabsorption due to prior gastrointestinal surgery, gastrointestinal disease, or an unknown reason that may alter the absorption of TAK-228. Patients with enteric stomata are also excluded.   Treatment with any investigational products within 2 weeks before administration of the first dose of the study drugs.   Poorly controlled diabetes mellitus (defined as HbA1c > 7%). Patients with a history of transient glucose intolerance due to corticosteroid administration may be enrolled in the study if all other inclusion criteria and none of the other exclusion criteria are met.   History of any of the following within the last 6 months before administration of the first dose of the study drugs:   Ischemic myocardial event, including angina requiring therapy and artery revascularization procedures   Ischemic cerebrovascular event, including transient ischemic attack and artery revascularization procedures   Requirement for inotropic support (excluding digoxin) or serious (uncontrolled) cardiac arrhythmia (including atrial flutter/fibrillation, ventricular fibrillation, and ventricular tachycardia)   Placement of a pacemaker for control of rhythm   New York Heart Association Class III or IV heart failure   Pulmonary embolism   Significant active cardiovascular or pulmonary disease including:   Uncontrolled hypertension (i.e., systolic blood pressure > 180 mm Hg, diastolic blood pressure > 95 mm Hg). Use of antihypertensive agents to control hypertension before week 1, day 1 is allowed.   Pulmonary hypertension   Uncontrolled asthma or O2 saturation < 90% by arterial blood gas analysis or pulse oximetry on room air   Significant valvular disease, severe regurgitation, or stenosis by imaging independent of symptom control with medical intervention or history of valve replacement   Medically significant (symptomatic) bradycardia   History of arrhythmia requiring an implantable cardiac defibrillator   Baseline QTc prolongation (e.g., repeated demonstration of QTc interval > 480 milliseconds or history of congenital long QT syndrome or torsades de pointes)   Treatment with strong inhibitors and/or inducers of CYP3A4, CYP2C9, or CYP2C19 within 7 days preceding the first dose of the study drugs.   Patients receiving systemic corticosteroids (either IV or oral steroids, excluding inhalers or low-dose hormone replacement therapy) within 1 week before administration of the first dose of the study drugs.   Daily or chronic use of a proton pump inhibitor (PPI) and/or having taken a PPI within 7 days before receiving the first dose of the study drugs.   Patients unwilling or unable to comply with the study protocol.   Patients previously treated with hormonal therapy (tamoxifen, AI) or PI3K, AKT, dual PI3K/mTOR, TORC1/2, or mTORC1 inhibitors.   Patients who are currently being treated with cancer therapy (chemotherapy, radiation therapy, immunotherapy, or biologic therapy) other than the trial therapy.   Patients with hypersensitivity to mTOR inhibitors or tamoxifen.\",\n          \"Inclusion Criteria:   Patients must have histologically confirmed metastatic breast cancer; tissue (a minimum of 3 slides) from the most recent biopsy is required for review and confirmation of eligibility; NOTE: material should ideally be from the metastatic disease, however material from the primary tumor is acceptable if that is all that is available   Patients must have stage IV breast cancer   Patients must have tumors (primary or metastatic) that stain positively for the prolactin receptor   Patients may have measurable or evaluable disease   Measurable disease is defined as at least one lesion that can be accurately measured in at least one dimension (longest diameter to be recorded) as > 20 mm with conventional techniques or as > 10 mm with spiral CT scan   Evaluable disease is disease that does not meet the criteria for measurable disease; examples would include patients with effusions or bone-only disease   Women of childbearing potential must commit to the use of effective barrier (non-hormonal) contraception while on study   Patients must have a life expectancy of greater than 12 weeks   Patients must have an Eastern Cooperative Oncology Group (ECOG) performance status =< 2   Patients may have had a prior diagnosis of cancer if it has been > 5 years since their last treatment   Leukocytes >= 3,000/uL (microliter)   Absolute neutrophil count >= 1,500/uL   Platelets >= 100,000/uL   Child Pugh score =< 10   Patients must be able to swallow and retain oral medication   All patients must have given signed, informed consent prior to registration on study Exclusion Criteria:   Women who are pregnant or lactating are not eligible for study treatment   Patients who are undergoing concomitant radiotherapy are NOT eligible for participation   Patients who are receiving any other investigational agents or concurrent anticancer therapy are NOT eligible for participation; previous systemic treatment is allowed with a 2 week washout period prior to registration   Patients who are taking any herbal (alternative) medicines are NOT eligible for participation; patients must be off any such medications by the time of registration   Patients who are receiving concomitant D2-antagonists (such as phenothiazines, butyrophenones, thioxanthenes, or metoclopramide) are NOT eligible for participation; patients must be off any such medications by the time of registration   Patients with known brain metastases are NOT eligible for participation   Patients with any of the following conditions or complications are NOT eligible for participation:   Uncontrolled hypertension   Known hypersensitivity to ergot derivatives   History of cardiac valvular disorders, as suggested by anatomical evidence of valvulopathy of any valve (to be determined by pre-treatment evaluation including echocardiographic demonstration of valve leaflet thickening, valve restriction, or mixed valve restriction-stenosis)   History of pulmonary, pericardial, cardiac valvular, or retroperitoneal fibrotic disorders   Gastrointestinal (GI) tract disease resulting in an inability to take oral medication   Malabsorption syndrome   Require intravenous (IV) alimentation   History of prior surgical procedures affecting absorption   Uncontrolled inflammatory GI disease (e.g., Crohn's, ulcerative colitis)\"\n        ],\n        \"semantic_type\": \"\",\n        \"description\": \"\"\n      }\n    }\n  ]\n}",
              "type": "dataframe",
              "variable_name": "df"
            },
            "text/html": [
              "\n",
              "  <div id=\"df-56ec4e3c-e9ab-40e0-b6ea-7ec4783580c8\" class=\"colab-df-container\">\n",
              "    <div>\n",
              "<style scoped>\n",
              "    .dataframe tbody tr th:only-of-type {\n",
              "        vertical-align: middle;\n",
              "    }\n",
              "\n",
              "    .dataframe tbody tr th {\n",
              "        vertical-align: top;\n",
              "    }\n",
              "\n",
              "    .dataframe thead th {\n",
              "        text-align: right;\n",
              "    }\n",
              "</style>\n",
              "<table border=\"1\" class=\"dataframe\">\n",
              "  <thead>\n",
              "    <tr style=\"text-align: right;\">\n",
              "      <th></th>\n",
              "      <th>test_ID</th>\n",
              "      <th>Type</th>\n",
              "      <th>Section_id</th>\n",
              "      <th>Primary_id</th>\n",
              "      <th>Secondary_id</th>\n",
              "      <th>Statement</th>\n",
              "      <th>Label</th>\n",
              "      <th>Primary_evidence_index</th>\n",
              "      <th>Secondary_evidence_index</th>\n",
              "      <th>Reference_data</th>\n",
              "    </tr>\n",
              "  </thead>\n",
              "  <tbody>\n",
              "    <tr>\n",
              "      <th>0</th>\n",
              "      <td>5bc844fc-e852-4270-bfaf-36ea9eface3d</td>\n",
              "      <td>Comparison</td>\n",
              "      <td>Intervention</td>\n",
              "      <td>NCT01928186</td>\n",
              "      <td>NCT00684983</td>\n",
              "      <td>All the primary trial participants do not rece...</td>\n",
              "      <td>Contradiction</td>\n",
              "      <td>INTERVENTION 1:    Diagnostic (FLT PET)   Pati...</td>\n",
              "      <td>INTERVENTION 1:    Arm A   Patients receive or...</td>\n",
              "      <td>INTERVENTION 1:    Diagnostic (FLT PET)   Pati...</td>\n",
              "    </tr>\n",
              "    <tr>\n",
              "      <th>1</th>\n",
              "      <td>86b7cb3d-6186-4a04-9aa6-b174ab764eed</td>\n",
              "      <td>Single</td>\n",
              "      <td>Eligibility</td>\n",
              "      <td>NCT00662129</td>\n",
              "      <td>NaN</td>\n",
              "      <td>Patients with Platelet count over 100,000/mm¬¨...</td>\n",
              "      <td>Contradiction</td>\n",
              "      <td>PATIENT CHARACTERISTICS:   ANC  1,500/mm³   ...</td>\n",
              "      <td>NaN</td>\n",
              "      <td>DISEASE CHARACTERISTICS:   Histologically or c...</td>\n",
              "    </tr>\n",
              "    <tr>\n",
              "      <th>2</th>\n",
              "      <td>dbed5471-c2fc-45b5-b26f-430c9fa37a37</td>\n",
              "      <td>Comparison</td>\n",
              "      <td>Adverse Events</td>\n",
              "      <td>NCT00093145</td>\n",
              "      <td>NCT00703326</td>\n",
              "      <td>Heart-related adverse events were recorded in ...</td>\n",
              "      <td>Entailment</td>\n",
              "      <td>Adverse Events 1:   Supraventricular tachycard...</td>\n",
              "      <td>Adverse Events 1:   Atrial fibrillation 1/752 ...</td>\n",
              "      <td>Adverse Events 1:   Total: 5/32 (15.63%)   Feb...</td>\n",
              "    </tr>\n",
              "    <tr>\n",
              "      <th>3</th>\n",
              "      <td>20c35c89-8d23-4be3-b603-ac0ee0f3b4de</td>\n",
              "      <td>Single</td>\n",
              "      <td>Eligibility</td>\n",
              "      <td>NCT01097642</td>\n",
              "      <td>NaN</td>\n",
              "      <td>Adult Patients with histologic confirmation of...</td>\n",
              "      <td>Contradiction</td>\n",
              "      <td>Inclusion Criteria:   Patients with histologic...</td>\n",
              "      <td>NaN</td>\n",
              "      <td>Inclusion Criteria:   Patients with histologic...</td>\n",
              "    </tr>\n",
              "    <tr>\n",
              "      <th>4</th>\n",
              "      <td>f17cb242-419d-4f5d-bfa4-41494ed5ac0e</td>\n",
              "      <td>Comparison</td>\n",
              "      <td>Intervention</td>\n",
              "      <td>NCT00852930</td>\n",
              "      <td>NCT02308020</td>\n",
              "      <td>Laser Therapy is in each cohort of the primary...</td>\n",
              "      <td>Contradiction</td>\n",
              "      <td>INTERVENTION 1:    Laser Therapy Alone   thera...</td>\n",
              "      <td>INTERVENTION 1:    Part A Abemaciclib: HR+, HE...</td>\n",
              "      <td>INTERVENTION 1:    Laser Therapy Alone   thera...</td>\n",
              "    </tr>\n",
              "  </tbody>\n",
              "</table>\n",
              "</div>\n",
              "    <div class=\"colab-df-buttons\">\n",
              "\n",
              "  <div class=\"colab-df-container\">\n",
              "    <button class=\"colab-df-convert\" onclick=\"convertToInteractive('df-56ec4e3c-e9ab-40e0-b6ea-7ec4783580c8')\"\n",
              "            title=\"Convert this dataframe to an interactive table.\"\n",
              "            style=\"display:none;\">\n",
              "\n",
              "  <svg xmlns=\"http://www.w3.org/2000/svg\" height=\"24px\" viewBox=\"0 -960 960 960\">\n",
              "    <path d=\"M120-120v-720h720v720H120Zm60-500h600v-160H180v160Zm220 220h160v-160H400v160Zm0 220h160v-160H400v160ZM180-400h160v-160H180v160Zm440 0h160v-160H620v160ZM180-180h160v-160H180v160Zm440 0h160v-160H620v160Z\"/>\n",
              "  </svg>\n",
              "    </button>\n",
              "\n",
              "  <style>\n",
              "    .colab-df-container {\n",
              "      display:flex;\n",
              "      gap: 12px;\n",
              "    }\n",
              "\n",
              "    .colab-df-convert {\n",
              "      background-color: #E8F0FE;\n",
              "      border: none;\n",
              "      border-radius: 50%;\n",
              "      cursor: pointer;\n",
              "      display: none;\n",
              "      fill: #1967D2;\n",
              "      height: 32px;\n",
              "      padding: 0 0 0 0;\n",
              "      width: 32px;\n",
              "    }\n",
              "\n",
              "    .colab-df-convert:hover {\n",
              "      background-color: #E2EBFA;\n",
              "      box-shadow: 0px 1px 2px rgba(60, 64, 67, 0.3), 0px 1px 3px 1px rgba(60, 64, 67, 0.15);\n",
              "      fill: #174EA6;\n",
              "    }\n",
              "\n",
              "    .colab-df-buttons div {\n",
              "      margin-bottom: 4px;\n",
              "    }\n",
              "\n",
              "    [theme=dark] .colab-df-convert {\n",
              "      background-color: #3B4455;\n",
              "      fill: #D2E3FC;\n",
              "    }\n",
              "\n",
              "    [theme=dark] .colab-df-convert:hover {\n",
              "      background-color: #434B5C;\n",
              "      box-shadow: 0px 1px 3px 1px rgba(0, 0, 0, 0.15);\n",
              "      filter: drop-shadow(0px 1px 2px rgba(0, 0, 0, 0.3));\n",
              "      fill: #FFFFFF;\n",
              "    }\n",
              "  </style>\n",
              "\n",
              "    <script>\n",
              "      const buttonEl =\n",
              "        document.querySelector('#df-56ec4e3c-e9ab-40e0-b6ea-7ec4783580c8 button.colab-df-convert');\n",
              "      buttonEl.style.display =\n",
              "        google.colab.kernel.accessAllowed ? 'block' : 'none';\n",
              "\n",
              "      async function convertToInteractive(key) {\n",
              "        const element = document.querySelector('#df-56ec4e3c-e9ab-40e0-b6ea-7ec4783580c8');\n",
              "        const dataTable =\n",
              "          await google.colab.kernel.invokeFunction('convertToInteractive',\n",
              "                                                    [key], {});\n",
              "        if (!dataTable) return;\n",
              "\n",
              "        const docLinkHtml = 'Like what you see? Visit the ' +\n",
              "          '<a target=\"_blank\" href=https://colab.research.google.com/notebooks/data_table.ipynb>data table notebook</a>'\n",
              "          + ' to learn more about interactive tables.';\n",
              "        element.innerHTML = '';\n",
              "        dataTable['output_type'] = 'display_data';\n",
              "        await google.colab.output.renderOutput(dataTable, element);\n",
              "        const docLink = document.createElement('div');\n",
              "        docLink.innerHTML = docLinkHtml;\n",
              "        element.appendChild(docLink);\n",
              "      }\n",
              "    </script>\n",
              "  </div>\n",
              "\n",
              "\n",
              "<div id=\"df-2342aacb-2d56-4baa-aae8-b096edb7b2c2\">\n",
              "  <button class=\"colab-df-quickchart\" onclick=\"quickchart('df-2342aacb-2d56-4baa-aae8-b096edb7b2c2')\"\n",
              "            title=\"Suggest charts\"\n",
              "            style=\"display:none;\">\n",
              "\n",
              "<svg xmlns=\"http://www.w3.org/2000/svg\" height=\"24px\"viewBox=\"0 0 24 24\"\n",
              "     width=\"24px\">\n",
              "    <g>\n",
              "        <path d=\"M19 3H5c-1.1 0-2 .9-2 2v14c0 1.1.9 2 2 2h14c1.1 0 2-.9 2-2V5c0-1.1-.9-2-2-2zM9 17H7v-7h2v7zm4 0h-2V7h2v10zm4 0h-2v-4h2v4z\"/>\n",
              "    </g>\n",
              "</svg>\n",
              "  </button>\n",
              "\n",
              "<style>\n",
              "  .colab-df-quickchart {\n",
              "      --bg-color: #E8F0FE;\n",
              "      --fill-color: #1967D2;\n",
              "      --hover-bg-color: #E2EBFA;\n",
              "      --hover-fill-color: #174EA6;\n",
              "      --disabled-fill-color: #AAA;\n",
              "      --disabled-bg-color: #DDD;\n",
              "  }\n",
              "\n",
              "  [theme=dark] .colab-df-quickchart {\n",
              "      --bg-color: #3B4455;\n",
              "      --fill-color: #D2E3FC;\n",
              "      --hover-bg-color: #434B5C;\n",
              "      --hover-fill-color: #FFFFFF;\n",
              "      --disabled-bg-color: #3B4455;\n",
              "      --disabled-fill-color: #666;\n",
              "  }\n",
              "\n",
              "  .colab-df-quickchart {\n",
              "    background-color: var(--bg-color);\n",
              "    border: none;\n",
              "    border-radius: 50%;\n",
              "    cursor: pointer;\n",
              "    display: none;\n",
              "    fill: var(--fill-color);\n",
              "    height: 32px;\n",
              "    padding: 0;\n",
              "    width: 32px;\n",
              "  }\n",
              "\n",
              "  .colab-df-quickchart:hover {\n",
              "    background-color: var(--hover-bg-color);\n",
              "    box-shadow: 0 1px 2px rgba(60, 64, 67, 0.3), 0 1px 3px 1px rgba(60, 64, 67, 0.15);\n",
              "    fill: var(--button-hover-fill-color);\n",
              "  }\n",
              "\n",
              "  .colab-df-quickchart-complete:disabled,\n",
              "  .colab-df-quickchart-complete:disabled:hover {\n",
              "    background-color: var(--disabled-bg-color);\n",
              "    fill: var(--disabled-fill-color);\n",
              "    box-shadow: none;\n",
              "  }\n",
              "\n",
              "  .colab-df-spinner {\n",
              "    border: 2px solid var(--fill-color);\n",
              "    border-color: transparent;\n",
              "    border-bottom-color: var(--fill-color);\n",
              "    animation:\n",
              "      spin 1s steps(1) infinite;\n",
              "  }\n",
              "\n",
              "  @keyframes spin {\n",
              "    0% {\n",
              "      border-color: transparent;\n",
              "      border-bottom-color: var(--fill-color);\n",
              "      border-left-color: var(--fill-color);\n",
              "    }\n",
              "    20% {\n",
              "      border-color: transparent;\n",
              "      border-left-color: var(--fill-color);\n",
              "      border-top-color: var(--fill-color);\n",
              "    }\n",
              "    30% {\n",
              "      border-color: transparent;\n",
              "      border-left-color: var(--fill-color);\n",
              "      border-top-color: var(--fill-color);\n",
              "      border-right-color: var(--fill-color);\n",
              "    }\n",
              "    40% {\n",
              "      border-color: transparent;\n",
              "      border-right-color: var(--fill-color);\n",
              "      border-top-color: var(--fill-color);\n",
              "    }\n",
              "    60% {\n",
              "      border-color: transparent;\n",
              "      border-right-color: var(--fill-color);\n",
              "    }\n",
              "    80% {\n",
              "      border-color: transparent;\n",
              "      border-right-color: var(--fill-color);\n",
              "      border-bottom-color: var(--fill-color);\n",
              "    }\n",
              "    90% {\n",
              "      border-color: transparent;\n",
              "      border-bottom-color: var(--fill-color);\n",
              "    }\n",
              "  }\n",
              "</style>\n",
              "\n",
              "  <script>\n",
              "    async function quickchart(key) {\n",
              "      const quickchartButtonEl =\n",
              "        document.querySelector('#' + key + ' button');\n",
              "      quickchartButtonEl.disabled = true;  // To prevent multiple clicks.\n",
              "      quickchartButtonEl.classList.add('colab-df-spinner');\n",
              "      try {\n",
              "        const charts = await google.colab.kernel.invokeFunction(\n",
              "            'suggestCharts', [key], {});\n",
              "      } catch (error) {\n",
              "        console.error('Error during call to suggestCharts:', error);\n",
              "      }\n",
              "      quickchartButtonEl.classList.remove('colab-df-spinner');\n",
              "      quickchartButtonEl.classList.add('colab-df-quickchart-complete');\n",
              "    }\n",
              "    (() => {\n",
              "      let quickchartButtonEl =\n",
              "        document.querySelector('#df-2342aacb-2d56-4baa-aae8-b096edb7b2c2 button');\n",
              "      quickchartButtonEl.style.display =\n",
              "        google.colab.kernel.accessAllowed ? 'block' : 'none';\n",
              "    })();\n",
              "  </script>\n",
              "</div>\n",
              "\n",
              "    </div>\n",
              "  </div>\n"
            ],
            "text/plain": [
              "                                test_ID        Type      Section_id  \\\n",
              "0  5bc844fc-e852-4270-bfaf-36ea9eface3d  Comparison    Intervention   \n",
              "1  86b7cb3d-6186-4a04-9aa6-b174ab764eed      Single     Eligibility   \n",
              "2  dbed5471-c2fc-45b5-b26f-430c9fa37a37  Comparison  Adverse Events   \n",
              "3  20c35c89-8d23-4be3-b603-ac0ee0f3b4de      Single     Eligibility   \n",
              "4  f17cb242-419d-4f5d-bfa4-41494ed5ac0e  Comparison    Intervention   \n",
              "\n",
              "    Primary_id Secondary_id  \\\n",
              "0  NCT01928186  NCT00684983   \n",
              "1  NCT00662129          NaN   \n",
              "2  NCT00093145  NCT00703326   \n",
              "3  NCT01097642          NaN   \n",
              "4  NCT00852930  NCT02308020   \n",
              "\n",
              "                                           Statement          Label  \\\n",
              "0  All the primary trial participants do not rece...  Contradiction   \n",
              "1  Patients with Platelet count over 100,000/mm¬¨...  Contradiction   \n",
              "2  Heart-related adverse events were recorded in ...     Entailment   \n",
              "3  Adult Patients with histologic confirmation of...  Contradiction   \n",
              "4  Laser Therapy is in each cohort of the primary...  Contradiction   \n",
              "\n",
              "                              Primary_evidence_index  \\\n",
              "0  INTERVENTION 1:    Diagnostic (FLT PET)   Pati...   \n",
              "1    PATIENT CHARACTERISTICS:   ANC  1,500/mm³   ...   \n",
              "2  Adverse Events 1:   Supraventricular tachycard...   \n",
              "3  Inclusion Criteria:   Patients with histologic...   \n",
              "4  INTERVENTION 1:    Laser Therapy Alone   thera...   \n",
              "\n",
              "                            Secondary_evidence_index  \\\n",
              "0  INTERVENTION 1:    Arm A   Patients receive or...   \n",
              "1                                                NaN   \n",
              "2  Adverse Events 1:   Atrial fibrillation 1/752 ...   \n",
              "3                                                NaN   \n",
              "4  INTERVENTION 1:    Part A Abemaciclib: HR+, HE...   \n",
              "\n",
              "                                      Reference_data  \n",
              "0  INTERVENTION 1:    Diagnostic (FLT PET)   Pati...  \n",
              "1  DISEASE CHARACTERISTICS:   Histologically or c...  \n",
              "2  Adverse Events 1:   Total: 5/32 (15.63%)   Feb...  \n",
              "3  Inclusion Criteria:   Patients with histologic...  \n",
              "4  INTERVENTION 1:    Laser Therapy Alone   thera...  "
            ]
          },
          "execution_count": 4,
          "metadata": {},
          "output_type": "execute_result"
        }
      ],
      "source": [
        "df.head()"
      ]
    },
    {
      "cell_type": "code",
      "execution_count": 9,
      "metadata": {
        "colab": {
          "base_uri": "https://localhost:8080/"
        },
        "id": "B2cX4oVVo0Ob",
        "outputId": "58d91212-2535-45cd-b76a-817a93d5bcbc"
      },
      "outputs": [
        {
          "data": {
            "text/plain": [
              "Index(['test_ID', 'Type', 'Section_id', 'Primary_id', 'Secondary_id',\n",
              "       'Statement', 'Label', 'Primary_evidence_index',\n",
              "       'Secondary_evidence_index', 'Reference_data'],\n",
              "      dtype='object')"
            ]
          },
          "execution_count": 9,
          "metadata": {},
          "output_type": "execute_result"
        }
      ],
      "source": [
        "df.columns"
      ]
    },
    {
      "cell_type": "code",
      "execution_count": 13,
      "metadata": {
        "colab": {
          "base_uri": "https://localhost:8080/",
          "height": 107
        },
        "id": "mh45t56JpPZE",
        "outputId": "4e9f0f22-221a-446c-e73c-47166d87215d"
      },
      "outputs": [
        {
          "data": {
            "application/vnd.google.colaboratory.intrinsic+json": {
              "type": "string"
            },
            "text/plain": [
              "'INTERVENTION 1:    Diagnostic (FLT PET)   Patients with early stage, ER positive primary breast cancer undergo FLT PET scan at baseline and 1-6 weeks after the start of standard endocrine treatment. The surgery follows 1-7 days after the second FLT PET scan.   Tracer used in the FLT PET (positron emission tomography) scanning procedure: [F18] fluorothymidine.   Positron Emission Tomography: Undergo FLT PET   Laboratory Biomarker Analysis: Correlative studies - Ki67 staining of the tumor tissue in the biopsy and surgical specimen.'"
            ]
          },
          "execution_count": 13,
          "metadata": {},
          "output_type": "execute_result"
        }
      ],
      "source": [
        "df['Primary_evidence_index'][0]"
      ]
    },
    {
      "cell_type": "code",
      "execution_count": 14,
      "metadata": {
        "colab": {
          "base_uri": "https://localhost:8080/",
          "height": 196
        },
        "id": "SpjawdTJpXQh",
        "outputId": "21ce40a3-3d95-43df-e78f-4b982ac0ba72"
      },
      "outputs": [
        {
          "data": {
            "application/vnd.google.colaboratory.intrinsic+json": {
              "type": "string"
            },
            "text/plain": [
              "'INTERVENTION 1:    Diagnostic (FLT PET)   Patients with early stage, ER positive primary breast cancer undergo FLT PET scan at baseline and 1-6 weeks after the start of standard endocrine treatment. The surgery follows 1-7 days after the second FLT PET scan.   Tracer used in the FLT PET (positron emission tomography) scanning procedure: [F18] fluorothymidine.   Positron Emission Tomography: Undergo FLT PET   Laboratory Biomarker Analysis: Correlative studies - Ki67 staining of the tumor tissue in the biopsy and surgical specimen. INTERVENTION 1:    Arm A   Patients receive oral capecitabine twice daily on days 1-14 and oral lapatinib ditosylate once daily on days 1-21. Courses repeat every 21 days in the absence of disease progression or unacceptable toxicity. lapatinib ditosylate: Given PO and capecitabine: Given PO INTERVENTION 2:    Arm B   Patients receive capecitabine and lapatinib ditosylate as in arm I. Patients also receive cixutumumab IV over 1-1½ hours on days 1, 8, and 15. Courses repeat every 21 days in the absence of disease progression or unacceptable toxicity. cixutumumab: Given IV, lapatinib ditosylate: Given PO and capecitabine: Given PO'"
            ]
          },
          "execution_count": 14,
          "metadata": {},
          "output_type": "execute_result"
        }
      ],
      "source": [
        "df['Reference_data'][0]"
      ]
    },
    {
      "cell_type": "code",
      "execution_count": 15,
      "metadata": {
        "colab": {
          "base_uri": "https://localhost:8080/",
          "height": 125
        },
        "id": "m98ifOHRpfCL",
        "outputId": "be2214a3-f782-4672-d403-6c765ea2ce30"
      },
      "outputs": [
        {
          "data": {
            "application/vnd.google.colaboratory.intrinsic+json": {
              "type": "string"
            },
            "text/plain": [
              "'INTERVENTION 1:    Arm A   Patients receive oral capecitabine twice daily on days 1-14 and oral lapatinib ditosylate once daily on days 1-21. Courses repeat every 21 days in the absence of disease progression or unacceptable toxicity. lapatinib ditosylate: Given PO and capecitabine: Given PO INTERVENTION 2:    Arm B   Patients receive capecitabine and lapatinib ditosylate as in arm I. Patients also receive cixutumumab IV over 1-1½ hours on days 1, 8, and 15. Courses repeat every 21 days in the absence of disease progression or unacceptable toxicity. cixutumumab: Given IV, lapatinib ditosylate: Given PO and capecitabine: Given PO'"
            ]
          },
          "execution_count": 15,
          "metadata": {},
          "output_type": "execute_result"
        }
      ],
      "source": [
        "df['Secondary_evidence_index'][0]"
      ]
    },
    {
      "cell_type": "code",
      "execution_count": 16,
      "metadata": {
        "colab": {
          "base_uri": "https://localhost:8080/",
          "height": 35
        },
        "id": "JOsw9hbus_lF",
        "outputId": "ba714902-fb5f-49d7-d558-f27fb7a86ec9"
      },
      "outputs": [
        {
          "data": {
            "application/vnd.google.colaboratory.intrinsic+json": {
              "type": "string"
            },
            "text/plain": [
              "'  PATIENT CHARACTERISTICS:   ANC  1,500/mm³   Platelet count  100,000/mm³   Hemoglobin  9.0 g/dL'"
            ]
          },
          "execution_count": 16,
          "metadata": {},
          "output_type": "execute_result"
        }
      ],
      "source": [
        "df['Primary_evidence_index'][1]"
      ]
    },
    {
      "cell_type": "code",
      "execution_count": 17,
      "metadata": {
        "colab": {
          "base_uri": "https://localhost:8080/"
        },
        "id": "UDicbS2NtIxP",
        "outputId": "f61948ca-8c53-4f40-fea2-8c7dccceb7b7"
      },
      "outputs": [
        {
          "data": {
            "text/plain": [
              "nan"
            ]
          },
          "execution_count": 17,
          "metadata": {},
          "output_type": "execute_result"
        }
      ],
      "source": [
        "df['Secondary_evidence_index'][1]"
      ]
    },
    {
      "cell_type": "code",
      "execution_count": 18,
      "metadata": {
        "colab": {
          "base_uri": "https://localhost:8080/",
          "height": 178
        },
        "id": "qYfsBPJvtOJ6",
        "outputId": "b38af1df-d4b8-4315-df8d-0cc07990b066"
      },
      "outputs": [
        {
          "data": {
            "application/vnd.google.colaboratory.intrinsic+json": {
              "type": "string"
            },
            "text/plain": [
              "'DISEASE CHARACTERISTICS:   Histologically or cytologically confirmed infiltrating breast cancer   Clinical evidence of metastatic disease   Measurable disease, defined as at least one measurable lesion per RECIST criteria   No non-measurable disease only, defined as all other lesions, including small lesions (longest diameter < 2 cm) and truly non-measurable lesions, including any of the following:   Bone lesions   Leptomeningeal disease   Ascites   Pleural/pericardial effusion   Inflammatory breast disease   Lymphangitis cutis/pulmonis   Abdominal masses that are not confirmed and followed by imaging techniques   Cystic lesions   Patients with HER-2/neu positive tumors, must have received prior treatment with trastuzumab (Herceptin®) or have a contraindication for trastuzumab   No evidence of active brain metastasis, including leptomeningeal involvement, on MRI or CT scan   CNS metastasis controlled by prior surgery and/or radiotherapy allowed   Must be asymptomatic for  2 months with no evidence of progression prior to study entry   Hormone receptor status not specified   PATIENT CHARACTERISTICS:   Menopausal status not specified   Life expectancy  12 weeks   ECOG performance status 0-1   ANC  1,500/mm³   Platelet count  100,000/mm³   Hemoglobin  9.0 g/dL   AST and ALT  2.5 times upper limit of normal (ULN)   Alkaline phosphatase  2.5 times ULN   Total bilirubin  1.5 times ULN   Creatinine  1.5 mg/dL   Urine protein:creatinine ratio < 1 or urinalysis < 1+ protein   Patients discovered to have  1+ proteinuria at baseline must demonstrate 24-hour urine protein < 1 g   Not pregnant or nursing   Negative pregnancy test   Fertile patients must use effective contraception during and for 30 days after completion of study therapy   Able to complete questionnaires alone or with assistance   No peripheral neuropathy > grade 1   No history of allergy or hypersensitivity to albumin-bound paclitaxel, paclitaxel, gemcitabine hydrochloride, bevacizumab, albumin, drug product excipients, or chemically similar agents   No stage III or IV invasive, non-breast malignancy within the past 5 years   No other active malignancy, except nonmelanoma skin cancer or carcinoma in situ of the cervix   Patient must not be receiving other specific treatment for a prior malignancy   No uncontrolled hypertension (i.e., blood pressure [BP] > 160/90 mm Hg on  2 occasions at least 5 minutes apart)   Patients who have recently started or adjusted antihypertensive medications are eligible providing that BP is < 140/90 mm Hg on any new regimen for  3 different observations in  14 days   No bleeding diathesis or uncontrolled coagulopathy   No hemoptysis within the past 6 months   No prior arterial or venous thrombosis within the past 12 months   No history of cerebrovascular accident   No history of hypertensive crisis or hypertensive encephalopathy   No abdominal fistula or gastrointestinal perforation within the past 6 months   No serious non-healing wound, ulcer, or fracture   No clinically significant cardiac disease, defined as any of the following:   Congestive heart failure   Symptomatic coronary artery disease   Unstable angina   Cardiac arrhythmias not well controlled with medication   Myocardial infarction within the past 12 months   No comorbid systemic illnesses or other severe concurrent disease which, in the judgment of the investigator, would make the patient inappropriate for study entry or interfere significantly with the proper assessment of safety and toxicity of the prescribed regimens   PRIOR CONCURRENT THERAPY:   See Disease Characteristics   No prior chemotherapy for metastatic disease   May have received one prior adjuvant chemotherapy regimen   Prior neoadjuvant chemotherapy allowed   More than 6 months since prior adjuvant or neoadjuvant taxane (i.e., docetaxel or paclitaxel) therapy   Prior hormonal therapy in either adjuvant or metastatic setting allowed   More than 4 weeks since prior radiotherapy (except if to a non-target lesion only, or single dose radiation for palliation)   Prior radiotherapy to a target lesion is allowed provided there has been clear progression of the lesion since radiotherapy was completed   More than 4 weeks since prior cytotoxic chemotherapeutic agent or investigational drug   More than 2 weeks since prior and no concurrent acetylsalicylic acid, anticoagulants, or thrombolytic agents (except for once-daily 81 mg acetylsalicylic acid)   More than 6 weeks since prior major surgery, chemotherapy, or immunologic therapy   More than 1 week since prior minor surgery (e.g., core biopsy)   Placement of a vascular access device within 7 days is allowed   More than 3 months since prior neurosurgery   No concurrent treatment in a different clinical study in which investigational procedures are performed or investigational therapies are administered   Trials related to symptom management (Cancer Control) which do not employ hormonal treatments or treatments that may block the path of the targeted agents used in this study may be allowed'"
            ]
          },
          "execution_count": 18,
          "metadata": {},
          "output_type": "execute_result"
        }
      ],
      "source": [
        "df['Reference_data'][1]"
      ]
    },
    {
      "cell_type": "code",
      "execution_count": 20,
      "metadata": {
        "colab": {
          "base_uri": "https://localhost:8080/",
          "height": 53
        },
        "id": "Vhphk_-btQo_",
        "outputId": "f6bcc49f-82d7-4ba2-abc4-1f2262d3539f"
      },
      "outputs": [
        {
          "data": {
            "application/vnd.google.colaboratory.intrinsic+json": {
              "type": "string"
            },
            "text/plain": [
              "'Patients with Platelet count over 100,000/mm¬¨‚â•, ANC <  1,700/mm¬¨‚â• and Hemoglobin between 4 to 5 grams per deciliter are eligible for the primary trial.'"
            ]
          },
          "execution_count": 20,
          "metadata": {},
          "output_type": "execute_result"
        }
      ],
      "source": [
        "df['Statement'][1]"
      ]
    },
    {
      "cell_type": "code",
      "execution_count": 21,
      "metadata": {
        "colab": {
          "base_uri": "https://localhost:8080/",
          "height": 35
        },
        "id": "470QDLkDt9FY",
        "outputId": "12437fd0-b363-499f-b3e4-95fe49484fc1"
      },
      "outputs": [
        {
          "data": {
            "application/vnd.google.colaboratory.intrinsic+json": {
              "type": "string"
            },
            "text/plain": [
              "'Contradiction'"
            ]
          },
          "execution_count": 21,
          "metadata": {},
          "output_type": "execute_result"
        }
      ],
      "source": [
        "df['Label'][1]"
      ]
    },
    {
      "cell_type": "code",
      "execution_count": 5,
      "metadata": {
        "colab": {
          "base_uri": "https://localhost:8080/"
        },
        "id": "mSrB8RoMuDEQ",
        "outputId": "06b42344-176e-4332-d40c-3d149b221af7"
      },
      "outputs": [
        {
          "data": {
            "text/plain": [
              "(1700, 10)"
            ]
          },
          "execution_count": 5,
          "metadata": {},
          "output_type": "execute_result"
        }
      ],
      "source": [
        "df.shape"
      ]
    },
    {
      "cell_type": "code",
      "execution_count": 6,
      "metadata": {
        "id": "DmdDguuIuTn7"
      },
      "outputs": [],
      "source": [
        "df = df[0:700]"
      ]
    },
    {
      "cell_type": "code",
      "execution_count": 7,
      "metadata": {
        "id": "8PKl1krRuaqA"
      },
      "outputs": [],
      "source": [
        "df['Response_strings']= df.apply(lambda row: f\"\"\"Label: {row['Label']}\n",
        "Primary Evidence Indexes = {row['Primary_evidence_index']}\n",
        "Secondary Evidence Indexes = {row['Secondary_evidence_index']}\n",
        "\"\"\", axis = 1)"
      ]
    },
    {
      "cell_type": "code",
      "execution_count": 8,
      "metadata": {
        "id": "qqh-YT8zw_aa"
      },
      "outputs": [],
      "source": [
        "df['Input'] = \"Type: \"+ df['Type']+ \"\\nStatement: \"+ df['Statement']+ \"\\nReference Data: \" + df['Reference_data']"
      ]
    },
    {
      "cell_type": "code",
      "execution_count": 9,
      "metadata": {
        "colab": {
          "base_uri": "https://localhost:8080/",
          "height": 487
        },
        "id": "NGrtmSD5vOM0",
        "outputId": "5675c6c4-428b-4644-ff0c-88019eee44b6"
      },
      "outputs": [
        {
          "data": {
            "application/vnd.google.colaboratory.intrinsic+json": {
              "summary": "{\n  \"name\": \"df\",\n  \"rows\": 700,\n  \"fields\": [\n    {\n      \"column\": \"test_ID\",\n      \"properties\": {\n        \"dtype\": \"string\",\n        \"num_unique_values\": 700,\n        \"samples\": [\n          \"0290bc2d-9cd3-44ab-9b04-385f19527c42\",\n          \"0e8d1b4f-d6f6-455a-a7e3-07f67a8fbcc8\",\n          \"78a5162d-140a-4631-b776-5c284446b5ec\"\n        ],\n        \"semantic_type\": \"\",\n        \"description\": \"\"\n      }\n    },\n    {\n      \"column\": \"Type\",\n      \"properties\": {\n        \"dtype\": \"category\",\n        \"num_unique_values\": 2,\n        \"samples\": [\n          \"Single\",\n          \"Comparison\"\n        ],\n        \"semantic_type\": \"\",\n        \"description\": \"\"\n      }\n    },\n    {\n      \"column\": \"Section_id\",\n      \"properties\": {\n        \"dtype\": \"category\",\n        \"num_unique_values\": 4,\n        \"samples\": [\n          \"Eligibility\",\n          \"Results\"\n        ],\n        \"semantic_type\": \"\",\n        \"description\": \"\"\n      }\n    },\n    {\n      \"column\": \"Primary_id\",\n      \"properties\": {\n        \"dtype\": \"string\",\n        \"num_unique_values\": 561,\n        \"samples\": [\n          \"NCT00191451\",\n          \"NCT00712985\"\n        ],\n        \"semantic_type\": \"\",\n        \"description\": \"\"\n      }\n    },\n    {\n      \"column\": \"Secondary_id\",\n      \"properties\": {\n        \"dtype\": \"category\",\n        \"num_unique_values\": 230,\n        \"samples\": [\n          \"NCT00246090\",\n          \"NCT01943916\"\n        ],\n        \"semantic_type\": \"\",\n        \"description\": \"\"\n      }\n    },\n    {\n      \"column\": \"Statement\",\n      \"properties\": {\n        \"dtype\": \"string\",\n        \"num_unique_values\": 700,\n        \"samples\": [\n          \"Patients must have ductal carcinoma, that can be felt by touch to be eligible for the primary trial.\",\n          \"If Hannah has been taking ketoconazole to treat athlete's foot for 6 weeks, until today, she will be eligible for the primary trial next Tuesday.\"\n        ],\n        \"semantic_type\": \"\",\n        \"description\": \"\"\n      }\n    },\n    {\n      \"column\": \"Label\",\n      \"properties\": {\n        \"dtype\": \"category\",\n        \"num_unique_values\": 2,\n        \"samples\": [\n          \"Entailment\",\n          \"Contradiction\"\n        ],\n        \"semantic_type\": \"\",\n        \"description\": \"\"\n      }\n    },\n    {\n      \"column\": \"Primary_evidence_index\",\n      \"properties\": {\n        \"dtype\": \"string\",\n        \"num_unique_values\": 572,\n        \"samples\": [\n          \"INTERVENTION 1:    Exemestane   Participants diagnosed with breast cancer who remained disease-free after previously receiving 2 to 3 years of tamoxifen 20 milligram (mg) or 30 mg tablet-in-capsule orally once daily as per standard medical practice, received exemestane (Aromasin) 25 mg tablet-in-capsule orally once daily for the remainder of 5-year period. INTERVENTION 2:    Tamoxifen   Participants diagnosed with breast cancer who remained disease-free after previously receiving 2 to 3 years of tamoxifen 20 mg or 30 mg tablet-in-capsule orally once daily as per standard medical practice, received the same dose of tamoxifen tablet-in-capsule orally once daily for the remainder of 5-year period.\",\n          \"  LVEF  50% as measured by echocardiogram or MUGA scan\"\n        ],\n        \"semantic_type\": \"\",\n        \"description\": \"\"\n      }\n    },\n    {\n      \"column\": \"Secondary_evidence_index\",\n      \"properties\": {\n        \"dtype\": \"category\",\n        \"num_unique_values\": 232,\n        \"samples\": [\n          \"Inclusion Criteria:   Dementia or significantly altered mental status that would interfere with proper consenting.\",\n          \"INTERVENTION 1:    Overall Population   Each subject served as her own control, with imaging of each mass by both the test and control modalities. Specificity difference is a single measure for the overall ITD population.\"\n        ],\n        \"semantic_type\": \"\",\n        \"description\": \"\"\n      }\n    },\n    {\n      \"column\": \"Reference_data\",\n      \"properties\": {\n        \"dtype\": \"string\",\n        \"num_unique_values\": 570,\n        \"samples\": [\n          \"INTERVENTION 1:    CT Plus Trastuzumab   Participants received chemotherapy (CT), which included paclitaxel 80 milligrams per meters squared (mg/m^2) weekly for 12 weeks, followed by intravenous (IV) fluorouracil 600 mg/m^2, IV epidoxorubicin 75 mg/m^2, and IV cyclophosphamide 600 mg/m^2, once every 21 days for four treatment courses. Trastuzumab was administered throughout the course of the CT and for two weeks after the last CT administration. The first dose of trastuzumab was administered at 4 milligrams per kilogram (mg/kg) IV for 60 minutes on the day of the first paclitaxel course. Subsequent administrations were given weekly at 2 mg/kg IV for 30 minutes. Treatments were administered for 26 weeks prior to surgery. INTERVENTION 2:    CT Plus Lapatinib 1500 mg   Participants received CT, which included paclitaxel 80 mg/m^2 weekly for 12 weeks, followed by IV fluorouracil 600 mg/m^2, IV epidoxorubicin 75 mg/m^2, and IV cyclophosphamide 600 mg/m^2, once every 21 days for four treatment courses. Participants received lapatinib 1500 mg/day orally on an empty stomach throughout the course of the CT and for three weeks after the last CT administration. Treatments were administered for 26 weeks prior to surgery.   Following Independent Data Monitoring Committee (IDMC) recommendations, lapatinib doses were reduced to 1250 mg/day orally on an empty stomach.\",\n          \"DISEASE CHARACTERISTICS:   Histologically confirmed breast cancer   Clinical stage I-III disease   Measurable disease defined as  1 unidimensionally measurable lesion  20 mm by conventional techniques OR  10 mm with spiral CT scan   HER2/neu 3+ by immunohistochemistry or positive by fluorescent in situ hybridization   No known brain metastases   Hormone receptor status unspecified   PATIENT CHARACTERISTICS:   Menopausal status not specified   Male or female   Life expectancy > 12 weeks   ECOG performance status (PS) 0-1 OR Karnofsky PS 80-100%   WBC  3,000/mm^3   Absolute neutrophil count  1,500 mm^3   Platelet count  100,000/mm^3   Total bilirubin normal   AST and ALT  2.5 times upper limit of normal   Creatinine normal OR creatinine clearance  60 mL/min   LVEF  50% as measured by echocardiogram or MUGA scan   No other malignancy within the past year   Not pregnant or nursing   Negative pregnancy test   Fertile patients must use effective contraception   Able to swallow and retain oral medication   No history of allergic reactions attributed to compounds of similar chemical or biologic composition to lapatinib   No ongoing or active infection   No symptomatic congestive heart failure   No unstable angina pectoris   No cardiac arrhythmia   No psychiatric illness or social situation that would preclude study compliance   No other uncontrolled illness   No gastrointestinal (GI) tract disease that would preclude ability to take oral medication   No malabsorption syndrome   No requirement for IV alimentation   No uncontrolled inflammatory GI disease (e.g., Crohn's disease or ulcerative colitis)   PRIOR CONCURRENT THERAPY:   No prior chemotherapy, immunotherapy, radiotherapy, or hormonal therapy for breast cancer   No prior treatment with epidermal growth factor receptor targeting therapies   No prior surgical procedures affecting absorption   No prior surgery for breast cancer   At least 14 days since prior and no concurrent CYP3A4 inducers, including any of the following:   Dexamethasone or dexamethasone equivalent dose  1.5 mg/day, including any of the following:   Cortisone ( 50 mg/day)   Hydrocortisone ( 40 mg/day)   Prednisone ( 10 mg/day)   Methylprednisolone ( 8 mg/day)   Phenytoin   Carbamazepine   Phenobarbital   Efavirenz   Nevirapine   Rifampin   Rifabutin   Rifapentine   Hypericum perforatum (St. John's wort)   Modafinil   At least 7 days since prior and no concurrent CYP3A4 inhibitors, including any of the following:   Clarithromycin   Erythromycin   Troleandomycin   Delavirdine   Ritonavir   Indinavir   Saquinavir   Nelfinavir   Amprenavir   Lopinavir   Itraconazole   Ketoconazole   Voriconazole   Fluconazole (doses up to 150 mg/day are permitted)   Nefazodone   Fluvoxamine   Verapamil   Diltiazem   Cimetidine   Aprepitant   Grapefruit or its juice   At least 6 months since prior and no concurrent amiodarone   At least 2 days since prior and no concurrent gastric pH modifiers*, including any of the following:   Cimetidine   Ranitidine   Nizatidine   Famotidine   Omeprazole   Esomeprazole   Rabeprazole   Pantoprazole   Lansoprazole   NOTE: *Antacids are allowed within 1 hour before and after administration of study drug   No other concurrent investigational agents   No other concurrent anticancer therapy, including chemotherapy, radiotherapy, immunotherapy, or antitumor hormonal therapy   No concurrent herbal (alternative) medicines   No concurrent combination antiretroviral therapy for HIV-positive patients   Concurrent bisphosphonates allowed\"\n        ],\n        \"semantic_type\": \"\",\n        \"description\": \"\"\n      }\n    },\n    {\n      \"column\": \"Response_strings\",\n      \"properties\": {\n        \"dtype\": \"string\",\n        \"num_unique_values\": 700,\n        \"samples\": [\n          \"Label: Contradiction\\nPrimary Evidence Indexes = Inclusion Criteria:   Histologic diagnosis of palpable invasive breast cancer or ductal carcinoma in situ\\nSecondary Evidence Indexes = nan\\n\",\n          \"Label: Contradiction\\nPrimary Evidence Indexes = Exclusion Criteria:   Use of any of these medications within 4 weeks; cyclosporine, diltiazen, ketoconazole, rifampin, fluconazole, delavirdine, nicardipine, pioglitazone, and sulfonamides, erythromycin, clarithromycin, itraconazole, erythromycin, metoclopramide, nevirapine, phenobarbital, phenytoin, indinavir, fosamprenavir, nefazadone, St Johns Wort.\\nSecondary Evidence Indexes = nan\\n\"\n        ],\n        \"semantic_type\": \"\",\n        \"description\": \"\"\n      }\n    },\n    {\n      \"column\": \"Input\",\n      \"properties\": {\n        \"dtype\": \"string\",\n        \"num_unique_values\": 700,\n        \"samples\": [\n          \"Type: Single\\nStatement: Patients must have ductal carcinoma, that can be felt by touch to be eligible for the primary trial.\\nReference Data: Inclusion Criteria:   Age greater than or equal to 18 years   Histologic diagnosis of palpable invasive breast cancer or ductal carcinoma in situ   Patient desire to undergo breast surgery   Ability to voluntarily provide informed consent to participate prior to any study-related assessments/procedures being conducted   The cancer enhances on breast MRI imaging. Exclusion Criteria:   Absolute contraindication to MRI, including presence of implanted electrical device (pacemaker or neurostimulator), aneurysm clip, or metallic foreign body in or near eyes   Severe claustrophobia   Contraindication to use of gadolinium-based intravenous contrast, including life-threatening allergy or compromised renal function (creatinine > 2.0)   History of median sternotomy   Pregnancy. Patient attestation that they are not pregnant will be acceptable as per standard policy for MRIs at DHMC.\",\n          \"Type: Single\\nStatement: If Hannah has been taking ketoconazole to treat athlete's foot for 6 weeks, until today, she will be eligible for the primary trial next Tuesday.\\nReference Data: Inclusion Criteria:   Histologically confirmed HER2 overexpressing (IHC 3+ and/or FISH +) metastatic breast cancer with measurable disease. Patients with either HER2 3+ positive tumors by immunohistochemistry (Dako Herceptest\\u00ae) or gene amplification (> 2 copies) by fluorescence in-situ hybridation (FISH) are eligible.   Progression following at least 8 weeks of standard doses of Herceptin or a Herceptin containing regimen.   Off Herceptin for a minimum of 2 weeks.   Patients must have measurable disease as defined by RECIST guidelines (the lesion that will be biopsied on study cannot be the only measurable lesion).   Life expectancy > 3 months   Age 18 years   ECOG performance status 2   Adequate bone marrow function as indicated by the following:   ANC 1500/\\u00b5L   Platelets 100,000/\\u00b5L   Hemoglobin 9 g/dL   Adequate liver function, as indicated by bilirubin 1.5 x ULN, AST or ALT <2x ULN.   Adequate renal function, as indicated by creatinine <1.5 x upper limit of normal (ULN)   Ability to understand and the willingness to sign a written informed consent.   Adequate birth control: Women of child-bearing potential must agree to use adequate contraception (hormonal or barrier method of birth control; abstinence) prior to study entry and for the duration of study participation and must have a negative serum or urine pregnancy test within 1 week prior to beginning treatment on this trial. Pregnant and nursing patients are excluded because the effects of the combination of Rapamycin on a fetus or nursing child are unknown. Should a woman become pregnant or suspect she is pregnant while participating in this study, she should inform her treating physician immediately.   Fasting serum cholesterol <350 mg/d L and triglycerides < 400 mg/ d L.   Biopsy is required but patients or physicians may opt out of this part of the trial if sufficient justification is provided. Justification must be provided to the PI in writing indicating excessive physical risk or psychological trauma if biopsy is undertaken. Exclusion Criteria:   Active infection or treatment for systemic infections within 14 days of enrollment   Patients with active brain metastases requiring treatment, inclusive but not limited to surgery, radiation, and corticosteroids (patients with asymptomatic non- progressing brain metastasis who have completed treatment 30 days before enrollment and without evidence of progression on a post treatment MRI may be considered for the study).   Pregnant or lactating women   Prior chemotherapy within the last 4 weeks (last 6 weeks for nitrosureas/mitomycin)   Prior radiation therapy within the last 4 weeks; prior radiation therapy to indicator lesion (unless objective disease recurrence or progression within the radiation portal has been documented since completion of radiation).   Prior therapy with rapamycin, rapamycin analogs, or experimental agents targeting mTOR.   Concomitant malignancies or previous malignancies within the last 5 years, with the exception of adequately treated basal or squamous cell carcinoma of the skin or carcinoma in situ of the cervix.   Ejection fraction <50% or below the lower limit of the institutional normal range, whichever is lower   Hypersensitivity to trial medications   Patients may not be receiving any other investigational agents within 30 days before enrollment.   Uncontrolled intercurrent illness including, but not limited to, ongoing or active infection, symptomatic congestive heart failure, unstable angina pectoris, cardiac arrhythmia, or psychiatric illness/social situations that would limit compliance with study requirements.   Pregnant women are excluded from this study because the investigational agents may have the potential for teratogenic or abortifacient effects. Because there is an unknown but potential risk for adverse events in nursing infants secondary to treatment of the mother with these agents, breastfeeding should be discontinued if the mother is treated.   HIV-positive patients are ineligible because these patients are at increased risk of lethal infections when treated with marrow-suppressive therapy and the potential pharmacokinetic interaction between antiretroviral therapy and the investigational agents.   Use of all herbal and alternative medications within 4 weeks. All herbal and alternative medications should be discontinued while on study, these include but not limited to: Hydrastis canadensis (goldenseal) - Uncaria tomentosa (cat's claw) - Echinacea angustifolia roots - trifolium pratense (wild cherry) - matricaria chamomila (chamomile) - Glycyrrhiza glabra (licorice) - dillapiol - naringenim.   Use of any of these medications within 4 weeks; cyclosporine, diltiazen, ketoconazole, rifampin, fluconazole, delavirdine, nicardipine, pioglitazone, and sulfonamides, erythromycin, clarithromycin, itraconazole, erythromycin, metoclopramide, nevirapine, phenobarbital, phenytoin, indinavir, fosamprenavir, nefazadone, St Johns Wort.   Consumption of grapefruit juice is prohibited during the study.   Use of warfarin (Coumadin), immunosuppressive agents or chronic oral, intravenous or topical steroid\"\n        ],\n        \"semantic_type\": \"\",\n        \"description\": \"\"\n      }\n    }\n  ]\n}",
              "type": "dataframe",
              "variable_name": "df"
            },
            "text/html": [
              "\n",
              "  <div id=\"df-80c5ffc4-04a5-4344-b072-d031ec8d7838\" class=\"colab-df-container\">\n",
              "    <div>\n",
              "<style scoped>\n",
              "    .dataframe tbody tr th:only-of-type {\n",
              "        vertical-align: middle;\n",
              "    }\n",
              "\n",
              "    .dataframe tbody tr th {\n",
              "        vertical-align: top;\n",
              "    }\n",
              "\n",
              "    .dataframe thead th {\n",
              "        text-align: right;\n",
              "    }\n",
              "</style>\n",
              "<table border=\"1\" class=\"dataframe\">\n",
              "  <thead>\n",
              "    <tr style=\"text-align: right;\">\n",
              "      <th></th>\n",
              "      <th>test_ID</th>\n",
              "      <th>Type</th>\n",
              "      <th>Section_id</th>\n",
              "      <th>Primary_id</th>\n",
              "      <th>Secondary_id</th>\n",
              "      <th>Statement</th>\n",
              "      <th>Label</th>\n",
              "      <th>Primary_evidence_index</th>\n",
              "      <th>Secondary_evidence_index</th>\n",
              "      <th>Reference_data</th>\n",
              "      <th>Response_strings</th>\n",
              "      <th>Input</th>\n",
              "    </tr>\n",
              "  </thead>\n",
              "  <tbody>\n",
              "    <tr>\n",
              "      <th>0</th>\n",
              "      <td>5bc844fc-e852-4270-bfaf-36ea9eface3d</td>\n",
              "      <td>Comparison</td>\n",
              "      <td>Intervention</td>\n",
              "      <td>NCT01928186</td>\n",
              "      <td>NCT00684983</td>\n",
              "      <td>All the primary trial participants do not rece...</td>\n",
              "      <td>Contradiction</td>\n",
              "      <td>INTERVENTION 1:    Diagnostic (FLT PET)   Pati...</td>\n",
              "      <td>INTERVENTION 1:    Arm A   Patients receive or...</td>\n",
              "      <td>INTERVENTION 1:    Diagnostic (FLT PET)   Pati...</td>\n",
              "      <td>Label: Contradiction\\nPrimary Evidence Indexes...</td>\n",
              "      <td>Type: Comparison\\nStatement: All the primary t...</td>\n",
              "    </tr>\n",
              "    <tr>\n",
              "      <th>1</th>\n",
              "      <td>86b7cb3d-6186-4a04-9aa6-b174ab764eed</td>\n",
              "      <td>Single</td>\n",
              "      <td>Eligibility</td>\n",
              "      <td>NCT00662129</td>\n",
              "      <td>NaN</td>\n",
              "      <td>Patients with Platelet count over 100,000/mm¬¨...</td>\n",
              "      <td>Contradiction</td>\n",
              "      <td>PATIENT CHARACTERISTICS:   ANC  1,500/mm³   ...</td>\n",
              "      <td>NaN</td>\n",
              "      <td>DISEASE CHARACTERISTICS:   Histologically or c...</td>\n",
              "      <td>Label: Contradiction\\nPrimary Evidence Indexes...</td>\n",
              "      <td>Type: Single\\nStatement: Patients with Platele...</td>\n",
              "    </tr>\n",
              "    <tr>\n",
              "      <th>2</th>\n",
              "      <td>dbed5471-c2fc-45b5-b26f-430c9fa37a37</td>\n",
              "      <td>Comparison</td>\n",
              "      <td>Adverse Events</td>\n",
              "      <td>NCT00093145</td>\n",
              "      <td>NCT00703326</td>\n",
              "      <td>Heart-related adverse events were recorded in ...</td>\n",
              "      <td>Entailment</td>\n",
              "      <td>Adverse Events 1:   Supraventricular tachycard...</td>\n",
              "      <td>Adverse Events 1:   Atrial fibrillation 1/752 ...</td>\n",
              "      <td>Adverse Events 1:   Total: 5/32 (15.63%)   Feb...</td>\n",
              "      <td>Label: Entailment\\nPrimary Evidence Indexes = ...</td>\n",
              "      <td>Type: Comparison\\nStatement: Heart-related adv...</td>\n",
              "    </tr>\n",
              "    <tr>\n",
              "      <th>3</th>\n",
              "      <td>20c35c89-8d23-4be3-b603-ac0ee0f3b4de</td>\n",
              "      <td>Single</td>\n",
              "      <td>Eligibility</td>\n",
              "      <td>NCT01097642</td>\n",
              "      <td>NaN</td>\n",
              "      <td>Adult Patients with histologic confirmation of...</td>\n",
              "      <td>Contradiction</td>\n",
              "      <td>Inclusion Criteria:   Patients with histologic...</td>\n",
              "      <td>NaN</td>\n",
              "      <td>Inclusion Criteria:   Patients with histologic...</td>\n",
              "      <td>Label: Contradiction\\nPrimary Evidence Indexes...</td>\n",
              "      <td>Type: Single\\nStatement: Adult Patients with h...</td>\n",
              "    </tr>\n",
              "    <tr>\n",
              "      <th>4</th>\n",
              "      <td>f17cb242-419d-4f5d-bfa4-41494ed5ac0e</td>\n",
              "      <td>Comparison</td>\n",
              "      <td>Intervention</td>\n",
              "      <td>NCT00852930</td>\n",
              "      <td>NCT02308020</td>\n",
              "      <td>Laser Therapy is in each cohort of the primary...</td>\n",
              "      <td>Contradiction</td>\n",
              "      <td>INTERVENTION 1:    Laser Therapy Alone   thera...</td>\n",
              "      <td>INTERVENTION 1:    Part A Abemaciclib: HR+, HE...</td>\n",
              "      <td>INTERVENTION 1:    Laser Therapy Alone   thera...</td>\n",
              "      <td>Label: Contradiction\\nPrimary Evidence Indexes...</td>\n",
              "      <td>Type: Comparison\\nStatement: Laser Therapy is ...</td>\n",
              "    </tr>\n",
              "  </tbody>\n",
              "</table>\n",
              "</div>\n",
              "    <div class=\"colab-df-buttons\">\n",
              "\n",
              "  <div class=\"colab-df-container\">\n",
              "    <button class=\"colab-df-convert\" onclick=\"convertToInteractive('df-80c5ffc4-04a5-4344-b072-d031ec8d7838')\"\n",
              "            title=\"Convert this dataframe to an interactive table.\"\n",
              "            style=\"display:none;\">\n",
              "\n",
              "  <svg xmlns=\"http://www.w3.org/2000/svg\" height=\"24px\" viewBox=\"0 -960 960 960\">\n",
              "    <path d=\"M120-120v-720h720v720H120Zm60-500h600v-160H180v160Zm220 220h160v-160H400v160Zm0 220h160v-160H400v160ZM180-400h160v-160H180v160Zm440 0h160v-160H620v160ZM180-180h160v-160H180v160Zm440 0h160v-160H620v160Z\"/>\n",
              "  </svg>\n",
              "    </button>\n",
              "\n",
              "  <style>\n",
              "    .colab-df-container {\n",
              "      display:flex;\n",
              "      gap: 12px;\n",
              "    }\n",
              "\n",
              "    .colab-df-convert {\n",
              "      background-color: #E8F0FE;\n",
              "      border: none;\n",
              "      border-radius: 50%;\n",
              "      cursor: pointer;\n",
              "      display: none;\n",
              "      fill: #1967D2;\n",
              "      height: 32px;\n",
              "      padding: 0 0 0 0;\n",
              "      width: 32px;\n",
              "    }\n",
              "\n",
              "    .colab-df-convert:hover {\n",
              "      background-color: #E2EBFA;\n",
              "      box-shadow: 0px 1px 2px rgba(60, 64, 67, 0.3), 0px 1px 3px 1px rgba(60, 64, 67, 0.15);\n",
              "      fill: #174EA6;\n",
              "    }\n",
              "\n",
              "    .colab-df-buttons div {\n",
              "      margin-bottom: 4px;\n",
              "    }\n",
              "\n",
              "    [theme=dark] .colab-df-convert {\n",
              "      background-color: #3B4455;\n",
              "      fill: #D2E3FC;\n",
              "    }\n",
              "\n",
              "    [theme=dark] .colab-df-convert:hover {\n",
              "      background-color: #434B5C;\n",
              "      box-shadow: 0px 1px 3px 1px rgba(0, 0, 0, 0.15);\n",
              "      filter: drop-shadow(0px 1px 2px rgba(0, 0, 0, 0.3));\n",
              "      fill: #FFFFFF;\n",
              "    }\n",
              "  </style>\n",
              "\n",
              "    <script>\n",
              "      const buttonEl =\n",
              "        document.querySelector('#df-80c5ffc4-04a5-4344-b072-d031ec8d7838 button.colab-df-convert');\n",
              "      buttonEl.style.display =\n",
              "        google.colab.kernel.accessAllowed ? 'block' : 'none';\n",
              "\n",
              "      async function convertToInteractive(key) {\n",
              "        const element = document.querySelector('#df-80c5ffc4-04a5-4344-b072-d031ec8d7838');\n",
              "        const dataTable =\n",
              "          await google.colab.kernel.invokeFunction('convertToInteractive',\n",
              "                                                    [key], {});\n",
              "        if (!dataTable) return;\n",
              "\n",
              "        const docLinkHtml = 'Like what you see? Visit the ' +\n",
              "          '<a target=\"_blank\" href=https://colab.research.google.com/notebooks/data_table.ipynb>data table notebook</a>'\n",
              "          + ' to learn more about interactive tables.';\n",
              "        element.innerHTML = '';\n",
              "        dataTable['output_type'] = 'display_data';\n",
              "        await google.colab.output.renderOutput(dataTable, element);\n",
              "        const docLink = document.createElement('div');\n",
              "        docLink.innerHTML = docLinkHtml;\n",
              "        element.appendChild(docLink);\n",
              "      }\n",
              "    </script>\n",
              "  </div>\n",
              "\n",
              "\n",
              "<div id=\"df-207e5960-7acb-4a61-a77c-445bf1783b77\">\n",
              "  <button class=\"colab-df-quickchart\" onclick=\"quickchart('df-207e5960-7acb-4a61-a77c-445bf1783b77')\"\n",
              "            title=\"Suggest charts\"\n",
              "            style=\"display:none;\">\n",
              "\n",
              "<svg xmlns=\"http://www.w3.org/2000/svg\" height=\"24px\"viewBox=\"0 0 24 24\"\n",
              "     width=\"24px\">\n",
              "    <g>\n",
              "        <path d=\"M19 3H5c-1.1 0-2 .9-2 2v14c0 1.1.9 2 2 2h14c1.1 0 2-.9 2-2V5c0-1.1-.9-2-2-2zM9 17H7v-7h2v7zm4 0h-2V7h2v10zm4 0h-2v-4h2v4z\"/>\n",
              "    </g>\n",
              "</svg>\n",
              "  </button>\n",
              "\n",
              "<style>\n",
              "  .colab-df-quickchart {\n",
              "      --bg-color: #E8F0FE;\n",
              "      --fill-color: #1967D2;\n",
              "      --hover-bg-color: #E2EBFA;\n",
              "      --hover-fill-color: #174EA6;\n",
              "      --disabled-fill-color: #AAA;\n",
              "      --disabled-bg-color: #DDD;\n",
              "  }\n",
              "\n",
              "  [theme=dark] .colab-df-quickchart {\n",
              "      --bg-color: #3B4455;\n",
              "      --fill-color: #D2E3FC;\n",
              "      --hover-bg-color: #434B5C;\n",
              "      --hover-fill-color: #FFFFFF;\n",
              "      --disabled-bg-color: #3B4455;\n",
              "      --disabled-fill-color: #666;\n",
              "  }\n",
              "\n",
              "  .colab-df-quickchart {\n",
              "    background-color: var(--bg-color);\n",
              "    border: none;\n",
              "    border-radius: 50%;\n",
              "    cursor: pointer;\n",
              "    display: none;\n",
              "    fill: var(--fill-color);\n",
              "    height: 32px;\n",
              "    padding: 0;\n",
              "    width: 32px;\n",
              "  }\n",
              "\n",
              "  .colab-df-quickchart:hover {\n",
              "    background-color: var(--hover-bg-color);\n",
              "    box-shadow: 0 1px 2px rgba(60, 64, 67, 0.3), 0 1px 3px 1px rgba(60, 64, 67, 0.15);\n",
              "    fill: var(--button-hover-fill-color);\n",
              "  }\n",
              "\n",
              "  .colab-df-quickchart-complete:disabled,\n",
              "  .colab-df-quickchart-complete:disabled:hover {\n",
              "    background-color: var(--disabled-bg-color);\n",
              "    fill: var(--disabled-fill-color);\n",
              "    box-shadow: none;\n",
              "  }\n",
              "\n",
              "  .colab-df-spinner {\n",
              "    border: 2px solid var(--fill-color);\n",
              "    border-color: transparent;\n",
              "    border-bottom-color: var(--fill-color);\n",
              "    animation:\n",
              "      spin 1s steps(1) infinite;\n",
              "  }\n",
              "\n",
              "  @keyframes spin {\n",
              "    0% {\n",
              "      border-color: transparent;\n",
              "      border-bottom-color: var(--fill-color);\n",
              "      border-left-color: var(--fill-color);\n",
              "    }\n",
              "    20% {\n",
              "      border-color: transparent;\n",
              "      border-left-color: var(--fill-color);\n",
              "      border-top-color: var(--fill-color);\n",
              "    }\n",
              "    30% {\n",
              "      border-color: transparent;\n",
              "      border-left-color: var(--fill-color);\n",
              "      border-top-color: var(--fill-color);\n",
              "      border-right-color: var(--fill-color);\n",
              "    }\n",
              "    40% {\n",
              "      border-color: transparent;\n",
              "      border-right-color: var(--fill-color);\n",
              "      border-top-color: var(--fill-color);\n",
              "    }\n",
              "    60% {\n",
              "      border-color: transparent;\n",
              "      border-right-color: var(--fill-color);\n",
              "    }\n",
              "    80% {\n",
              "      border-color: transparent;\n",
              "      border-right-color: var(--fill-color);\n",
              "      border-bottom-color: var(--fill-color);\n",
              "    }\n",
              "    90% {\n",
              "      border-color: transparent;\n",
              "      border-bottom-color: var(--fill-color);\n",
              "    }\n",
              "  }\n",
              "</style>\n",
              "\n",
              "  <script>\n",
              "    async function quickchart(key) {\n",
              "      const quickchartButtonEl =\n",
              "        document.querySelector('#' + key + ' button');\n",
              "      quickchartButtonEl.disabled = true;  // To prevent multiple clicks.\n",
              "      quickchartButtonEl.classList.add('colab-df-spinner');\n",
              "      try {\n",
              "        const charts = await google.colab.kernel.invokeFunction(\n",
              "            'suggestCharts', [key], {});\n",
              "      } catch (error) {\n",
              "        console.error('Error during call to suggestCharts:', error);\n",
              "      }\n",
              "      quickchartButtonEl.classList.remove('colab-df-spinner');\n",
              "      quickchartButtonEl.classList.add('colab-df-quickchart-complete');\n",
              "    }\n",
              "    (() => {\n",
              "      let quickchartButtonEl =\n",
              "        document.querySelector('#df-207e5960-7acb-4a61-a77c-445bf1783b77 button');\n",
              "      quickchartButtonEl.style.display =\n",
              "        google.colab.kernel.accessAllowed ? 'block' : 'none';\n",
              "    })();\n",
              "  </script>\n",
              "</div>\n",
              "\n",
              "    </div>\n",
              "  </div>\n"
            ],
            "text/plain": [
              "                                test_ID        Type      Section_id  \\\n",
              "0  5bc844fc-e852-4270-bfaf-36ea9eface3d  Comparison    Intervention   \n",
              "1  86b7cb3d-6186-4a04-9aa6-b174ab764eed      Single     Eligibility   \n",
              "2  dbed5471-c2fc-45b5-b26f-430c9fa37a37  Comparison  Adverse Events   \n",
              "3  20c35c89-8d23-4be3-b603-ac0ee0f3b4de      Single     Eligibility   \n",
              "4  f17cb242-419d-4f5d-bfa4-41494ed5ac0e  Comparison    Intervention   \n",
              "\n",
              "    Primary_id Secondary_id  \\\n",
              "0  NCT01928186  NCT00684983   \n",
              "1  NCT00662129          NaN   \n",
              "2  NCT00093145  NCT00703326   \n",
              "3  NCT01097642          NaN   \n",
              "4  NCT00852930  NCT02308020   \n",
              "\n",
              "                                           Statement          Label  \\\n",
              "0  All the primary trial participants do not rece...  Contradiction   \n",
              "1  Patients with Platelet count over 100,000/mm¬¨...  Contradiction   \n",
              "2  Heart-related adverse events were recorded in ...     Entailment   \n",
              "3  Adult Patients with histologic confirmation of...  Contradiction   \n",
              "4  Laser Therapy is in each cohort of the primary...  Contradiction   \n",
              "\n",
              "                              Primary_evidence_index  \\\n",
              "0  INTERVENTION 1:    Diagnostic (FLT PET)   Pati...   \n",
              "1    PATIENT CHARACTERISTICS:   ANC  1,500/mm³   ...   \n",
              "2  Adverse Events 1:   Supraventricular tachycard...   \n",
              "3  Inclusion Criteria:   Patients with histologic...   \n",
              "4  INTERVENTION 1:    Laser Therapy Alone   thera...   \n",
              "\n",
              "                            Secondary_evidence_index  \\\n",
              "0  INTERVENTION 1:    Arm A   Patients receive or...   \n",
              "1                                                NaN   \n",
              "2  Adverse Events 1:   Atrial fibrillation 1/752 ...   \n",
              "3                                                NaN   \n",
              "4  INTERVENTION 1:    Part A Abemaciclib: HR+, HE...   \n",
              "\n",
              "                                      Reference_data  \\\n",
              "0  INTERVENTION 1:    Diagnostic (FLT PET)   Pati...   \n",
              "1  DISEASE CHARACTERISTICS:   Histologically or c...   \n",
              "2  Adverse Events 1:   Total: 5/32 (15.63%)   Feb...   \n",
              "3  Inclusion Criteria:   Patients with histologic...   \n",
              "4  INTERVENTION 1:    Laser Therapy Alone   thera...   \n",
              "\n",
              "                                    Response_strings  \\\n",
              "0  Label: Contradiction\\nPrimary Evidence Indexes...   \n",
              "1  Label: Contradiction\\nPrimary Evidence Indexes...   \n",
              "2  Label: Entailment\\nPrimary Evidence Indexes = ...   \n",
              "3  Label: Contradiction\\nPrimary Evidence Indexes...   \n",
              "4  Label: Contradiction\\nPrimary Evidence Indexes...   \n",
              "\n",
              "                                               Input  \n",
              "0  Type: Comparison\\nStatement: All the primary t...  \n",
              "1  Type: Single\\nStatement: Patients with Platele...  \n",
              "2  Type: Comparison\\nStatement: Heart-related adv...  \n",
              "3  Type: Single\\nStatement: Adult Patients with h...  \n",
              "4  Type: Comparison\\nStatement: Laser Therapy is ...  "
            ]
          },
          "execution_count": 9,
          "metadata": {},
          "output_type": "execute_result"
        }
      ],
      "source": [
        "df.head()"
      ]
    },
    {
      "cell_type": "code",
      "execution_count": 10,
      "metadata": {
        "colab": {
          "base_uri": "https://localhost:8080/",
          "height": 178
        },
        "id": "iXHybR5lvarS",
        "outputId": "1086aa73-cd33-4014-c48a-c678a0ac394c"
      },
      "outputs": [
        {
          "data": {
            "application/vnd.google.colaboratory.intrinsic+json": {
              "type": "string"
            },
            "text/plain": [
              "'Label: Contradiction\\nPrimary Evidence Indexes = INTERVENTION 1:    Diagnostic (FLT PET)   Patients with early stage, ER positive primary breast cancer undergo FLT PET scan at baseline and 1-6 weeks after the start of standard endocrine treatment. The surgery follows 1-7 days after the second FLT PET scan.   Tracer used in the FLT PET (positron emission tomography) scanning procedure: [F18] fluorothymidine.   Positron Emission Tomography: Undergo FLT PET   Laboratory Biomarker Analysis: Correlative studies - Ki67 staining of the tumor tissue in the biopsy and surgical specimen.\\nSecondary Evidence Indexes = INTERVENTION 1:    Arm A   Patients receive oral capecitabine twice daily on days 1-14 and oral lapatinib ditosylate once daily on days 1-21. Courses repeat every 21 days in the absence of disease progression or unacceptable toxicity. lapatinib ditosylate: Given PO and capecitabine: Given PO INTERVENTION 2:    Arm B   Patients receive capecitabine and lapatinib ditosylate as in arm I. Patients also receive cixutumumab IV over 1-1½ hours on days 1, 8, and 15. Courses repeat every 21 days in the absence of disease progression or unacceptable toxicity. cixutumumab: Given IV, lapatinib ditosylate: Given PO and capecitabine: Given PO\\n'"
            ]
          },
          "execution_count": 10,
          "metadata": {},
          "output_type": "execute_result"
        }
      ],
      "source": [
        "df['Response_strings'][0]"
      ]
    },
    {
      "cell_type": "code",
      "execution_count": 15,
      "metadata": {
        "colab": {
          "base_uri": "https://localhost:8080/",
          "height": 178
        },
        "id": "oo1foInKxOQa",
        "outputId": "ef42c0f0-bcba-45db-d56b-f41eec9f4606"
      },
      "outputs": [
        {
          "data": {
            "application/vnd.google.colaboratory.intrinsic+json": {
              "type": "string"
            },
            "text/plain": [
              "'Type: Comparison\\nStatement: All the primary trial participants do not receive any oral capecitabine, oral lapatinib ditosylate or cixutumumab IV, in conrast all the secondary trial subjects receive these.\\nReference Data: INTERVENTION 1:    Diagnostic (FLT PET)   Patients with early stage, ER positive primary breast cancer undergo FLT PET scan at baseline and 1-6 weeks after the start of standard endocrine treatment. The surgery follows 1-7 days after the second FLT PET scan.   Tracer used in the FLT PET (positron emission tomography) scanning procedure: [F18] fluorothymidine.   Positron Emission Tomography: Undergo FLT PET   Laboratory Biomarker Analysis: Correlative studies - Ki67 staining of the tumor tissue in the biopsy and surgical specimen. INTERVENTION 1:    Arm A   Patients receive oral capecitabine twice daily on days 1-14 and oral lapatinib ditosylate once daily on days 1-21. Courses repeat every 21 days in the absence of disease progression or unacceptable toxicity. lapatinib ditosylate: Given PO and capecitabine: Given PO INTERVENTION 2:    Arm B   Patients receive capecitabine and lapatinib ditosylate as in arm I. Patients also receive cixutumumab IV over 1-1½ hours on days 1, 8, and 15. Courses repeat every 21 days in the absence of disease progression or unacceptable toxicity. cixutumumab: Given IV, lapatinib ditosylate: Given PO and capecitabine: Given PO'"
            ]
          },
          "execution_count": 15,
          "metadata": {},
          "output_type": "execute_result"
        }
      ],
      "source": [
        "df['Input'][0]"
      ]
    },
    {
      "cell_type": "code",
      "execution_count": 11,
      "metadata": {
        "id": "NZSfL3E5vd85"
      },
      "outputs": [],
      "source": [
        "system_prompt = \"You are an advanced medical reviewer. I will provide type, statement and reference data. Your task is to determine whether the statement is an entailment or a contradiction based on the provided reference. Select evidence from the reference to support your chosen label.\""
      ]
    },
    {
      "cell_type": "code",
      "execution_count": 12,
      "metadata": {
        "id": "rW_z12G3wqSP"
      },
      "outputs": [],
      "source": [
        "all_conversations = []\n",
        "for idx, row in df.iterrows():\n",
        "    all_conversations.append({\"messages\": [{\"role\":\"system\", \"content\": system_prompt},\n",
        "    {\"role\":\"user\", \"content\": row['Input']},\n",
        "    {\"role\":\"assistant\", \"content\": row['Response_strings']}]})\n"
      ]
    },
    {
      "cell_type": "code",
      "execution_count": 13,
      "metadata": {
        "colab": {
          "base_uri": "https://localhost:8080/"
        },
        "id": "eZv472CKx1x6",
        "outputId": "6579ebca-cf3f-4f2f-e418-2a48f0703b96"
      },
      "outputs": [
        {
          "data": {
            "text/plain": [
              "{'messages': [{'role': 'system',\n",
              "   'content': 'You are an advanced medical reviewer. I will provide type, statement and reference data. Your task is to determine whether the statement is an entailment or a contradiction based on the provided reference. Select evidence from the reference to support your chosen label.'},\n",
              "  {'role': 'user',\n",
              "   'content': 'Type: Comparison\\nStatement: All the primary trial participants do not receive any oral capecitabine, oral lapatinib ditosylate or cixutumumab IV, in conrast all the secondary trial subjects receive these.\\nReference Data: INTERVENTION 1:    Diagnostic (FLT PET)   Patients with early stage, ER positive primary breast cancer undergo FLT PET scan at baseline and 1-6 weeks after the start of standard endocrine treatment. The surgery follows 1-7 days after the second FLT PET scan.   Tracer used in the FLT PET (positron emission tomography) scanning procedure: [F18] fluorothymidine.   Positron Emission Tomography: Undergo FLT PET   Laboratory Biomarker Analysis: Correlative studies - Ki67 staining of the tumor tissue in the biopsy and surgical specimen. INTERVENTION 1:    Arm A   Patients receive oral capecitabine twice daily on days 1-14 and oral lapatinib ditosylate once daily on days 1-21. Courses repeat every 21 days in the absence of disease progression or unacceptable toxicity. lapatinib ditosylate: Given PO and capecitabine: Given PO INTERVENTION 2:    Arm B   Patients receive capecitabine and lapatinib ditosylate as in arm I. Patients also receive cixutumumab IV over 1-1½ hours on days 1, 8, and 15. Courses repeat every 21 days in the absence of disease progression or unacceptable toxicity. cixutumumab: Given IV, lapatinib ditosylate: Given PO and capecitabine: Given PO'},\n",
              "  {'role': 'assistant',\n",
              "   'content': 'Label: Contradiction\\nPrimary Evidence Indexes = INTERVENTION 1:    Diagnostic (FLT PET)   Patients with early stage, ER positive primary breast cancer undergo FLT PET scan at baseline and 1-6 weeks after the start of standard endocrine treatment. The surgery follows 1-7 days after the second FLT PET scan.   Tracer used in the FLT PET (positron emission tomography) scanning procedure: [F18] fluorothymidine.   Positron Emission Tomography: Undergo FLT PET   Laboratory Biomarker Analysis: Correlative studies - Ki67 staining of the tumor tissue in the biopsy and surgical specimen.\\nSecondary Evidence Indexes = INTERVENTION 1:    Arm A   Patients receive oral capecitabine twice daily on days 1-14 and oral lapatinib ditosylate once daily on days 1-21. Courses repeat every 21 days in the absence of disease progression or unacceptable toxicity. lapatinib ditosylate: Given PO and capecitabine: Given PO INTERVENTION 2:    Arm B   Patients receive capecitabine and lapatinib ditosylate as in arm I. Patients also receive cixutumumab IV over 1-1½ hours on days 1, 8, and 15. Courses repeat every 21 days in the absence of disease progression or unacceptable toxicity. cixutumumab: Given IV, lapatinib ditosylate: Given PO and capecitabine: Given PO\\n'}]}"
            ]
          },
          "execution_count": 13,
          "metadata": {},
          "output_type": "execute_result"
        }
      ],
      "source": [
        "all_conversations[0]"
      ]
    },
    {
      "cell_type": "code",
      "execution_count": 14,
      "metadata": {
        "id": "fLDbSnIMx38h"
      },
      "outputs": [],
      "source": [
        "import json\n",
        "with open(\"instances.jsonl\", \"w\") as f:\n",
        "    for item in all_conversations:\n",
        "        json.dump(item, f)\n",
        "        f.write('\\n')"
      ]
    },
    {
      "cell_type": "code",
      "execution_count": 15,
      "metadata": {
        "id": "iRVr5tBtyr28"
      },
      "outputs": [],
      "source": [
        "client = openai.OpenAI(api_key = \"sk-proj-yoc8joQarRMDAf3UtZE1T3BlbkFJG71i8B5VBT6IvEB815Uz\")"
      ]
    },
    {
      "cell_type": "code",
      "execution_count": 45,
      "metadata": {
        "id": "zHL3YPBSy28D"
      },
      "outputs": [],
      "source": [
        "with open('instances.jsonl', 'rb') as f:\n",
        "    response = client.files.create(file= f, purpose = 'fine-tune')"
      ]
    },
    {
      "cell_type": "code",
      "execution_count": 46,
      "metadata": {
        "colab": {
          "base_uri": "https://localhost:8080/"
        },
        "id": "88qUDzzYy4yw",
        "outputId": "55366bd5-c9b0-46d1-e24b-cb277a75734b"
      },
      "outputs": [
        {
          "data": {
            "text/plain": [
              "FileObject(id='file-jUaDUw29DKHAUCXQdGJNRUn6', bytes=2141843, created_at=1720500064, filename='instances.jsonl', object='file', purpose='fine-tune', status='processed', status_details=None)"
            ]
          },
          "execution_count": 46,
          "metadata": {},
          "output_type": "execute_result"
        }
      ],
      "source": [
        "response"
      ]
    },
    {
      "cell_type": "code",
      "execution_count": 16,
      "metadata": {
        "id": "6uE_Qpxby6z3"
      },
      "outputs": [],
      "source": [
        "file_id = \"file-jUaDUw29DKHAUCXQdGJNRUn6\""
      ]
    },
    {
      "cell_type": "code",
      "execution_count": 48,
      "metadata": {
        "id": "b5YKBCMty-kv"
      },
      "outputs": [],
      "source": [
        "response = client.fine_tuning.jobs.create(\n",
        "    training_file=file_id,\n",
        "    model = \"gpt-3.5-turbo\"\n",
        ")"
      ]
    },
    {
      "cell_type": "code",
      "execution_count": 18,
      "metadata": {
        "id": "OMd78DFrzDAv"
      },
      "outputs": [],
      "source": [
        "job_id = \"ftjob-pKYeiWBlkquWZcvsqYnGvEmt\""
      ]
    },
    {
      "cell_type": "code",
      "execution_count": 19,
      "metadata": {
        "colab": {
          "base_uri": "https://localhost:8080/"
        },
        "id": "aT9APw4vzGzB",
        "outputId": "ef823334-4197-4910-c389-9cc2d6a69450"
      },
      "outputs": [
        {
          "data": {
            "text/plain": [
              "SyncCursorPage[FineTuningJob](data=[FineTuningJob(id='ftjob-pKYeiWBlkquWZcvsqYnGvEmt', created_at=1720500097, error=Error(code=None, message=None, param=None), fine_tuned_model='ft:gpt-3.5-turbo-0125:personal::9iyNIzGd', finished_at=1720505538, hyperparameters=Hyperparameters(n_epochs=3, batch_size=1, learning_rate_multiplier=2), model='gpt-3.5-turbo-0125', object='fine_tuning.job', organization_id='org-fm4pb04YgBJCbEf9e4EMqlFM', result_files=['file-5eZeeuzl78KWzatEwub0UEqJ'], seed=1851155288, status='succeeded', trained_tokens=1607889, training_file='file-jUaDUw29DKHAUCXQdGJNRUn6', validation_file=None, estimated_finish=None, integrations=[], user_provided_suffix=None)], object='list', has_more=True)"
            ]
          },
          "execution_count": 19,
          "metadata": {},
          "output_type": "execute_result"
        }
      ],
      "source": [
        "client.fine_tuning.jobs.list(limit=1)"
      ]
    },
    {
      "cell_type": "code",
      "execution_count": 20,
      "metadata": {
        "id": "UK3Ru-ZLzIO3"
      },
      "outputs": [],
      "source": [
        "df2 = pd.read_csv('merged_dataset_new.csv')"
      ]
    },
    {
      "cell_type": "code",
      "execution_count": 21,
      "metadata": {
        "id": "g0iduZlrKoyQ"
      },
      "outputs": [],
      "source": [
        "df2 = df2[701:]"
      ]
    },
    {
      "cell_type": "code",
      "execution_count": 22,
      "metadata": {
        "colab": {
          "base_uri": "https://localhost:8080/"
        },
        "id": "HVCpfnLgKr4f",
        "outputId": "27bfa224-0891-4eda-d59d-082018ccb751"
      },
      "outputs": [
        {
          "data": {
            "text/plain": [
              "(999, 10)"
            ]
          },
          "execution_count": 22,
          "metadata": {},
          "output_type": "execute_result"
        }
      ],
      "source": [
        "df2.shape"
      ]
    },
    {
      "cell_type": "code",
      "execution_count": 23,
      "metadata": {
        "id": "DPYxGB27KtLd"
      },
      "outputs": [],
      "source": [
        "df2['Response_strings']= df2.apply(lambda row: f\"\"\"Label: {row['Label']}\n",
        "Primary Evidence Indexes = {row['Primary_evidence_index']}\n",
        "Secondary Evidence Indexes = {row['Secondary_evidence_index']}\n",
        "\"\"\", axis = 1)"
      ]
    },
    {
      "cell_type": "code",
      "execution_count": 24,
      "metadata": {
        "id": "UeP3vfRmKzE4"
      },
      "outputs": [],
      "source": [
        "df2['Input'] = \"Type: \"+ df2['Type']+ \"\\nStatement: \"+ df2['Statement']+ \"\\nReference Data: \" + df2['Reference_data']"
      ]
    },
    {
      "cell_type": "code",
      "execution_count": 25,
      "metadata": {
        "colab": {
          "base_uri": "https://localhost:8080/",
          "height": 556
        },
        "id": "B5ZoTZpyK4M6",
        "outputId": "c55f5e4b-f6b1-403c-bb39-4920cefdc58d"
      },
      "outputs": [
        {
          "data": {
            "application/vnd.google.colaboratory.intrinsic+json": {
              "summary": "{\n  \"name\": \"df2\",\n  \"rows\": 999,\n  \"fields\": [\n    {\n      \"column\": \"test_ID\",\n      \"properties\": {\n        \"dtype\": \"string\",\n        \"num_unique_values\": 999,\n        \"samples\": [\n          \"14a5e557-b223-4649-9867-0ff0e9001f5e\",\n          \"5dcdeac8-1c4a-4c24-9074-bbe93fcf4d32\",\n          \"52ae415a-d8ab-48f5-abcb-9e8c5bb4fc83\"\n        ],\n        \"semantic_type\": \"\",\n        \"description\": \"\"\n      }\n    },\n    {\n      \"column\": \"Type\",\n      \"properties\": {\n        \"dtype\": \"category\",\n        \"num_unique_values\": 2,\n        \"samples\": [\n          \"Comparison\",\n          \"Single\"\n        ],\n        \"semantic_type\": \"\",\n        \"description\": \"\"\n      }\n    },\n    {\n      \"column\": \"Section_id\",\n      \"properties\": {\n        \"dtype\": \"category\",\n        \"num_unique_values\": 4,\n        \"samples\": [\n          \"Eligibility\",\n          \"Intervention\"\n        ],\n        \"semantic_type\": \"\",\n        \"description\": \"\"\n      }\n    },\n    {\n      \"column\": \"Primary_id\",\n      \"properties\": {\n        \"dtype\": \"string\",\n        \"num_unique_values\": 711,\n        \"samples\": [\n          \"NCT01463007\",\n          \"NCT00370552\"\n        ],\n        \"semantic_type\": \"\",\n        \"description\": \"\"\n      }\n    },\n    {\n      \"column\": \"Secondary_id\",\n      \"properties\": {\n        \"dtype\": \"category\",\n        \"num_unique_values\": 276,\n        \"samples\": [\n          \"NCT00478257\",\n          \"NCT00917735\"\n        ],\n        \"semantic_type\": \"\",\n        \"description\": \"\"\n      }\n    },\n    {\n      \"column\": \"Statement\",\n      \"properties\": {\n        \"dtype\": \"string\",\n        \"num_unique_values\": 995,\n        \"samples\": [\n          \"In order to meet the inclusion criteria for the primary trial patients must have had aromatase inhibitor (AI) therapy before study entry, resulting in complete tumor response.\",\n          \"Patients with HER2 positive tumors are ineligible for the primary trial.\"\n        ],\n        \"semantic_type\": \"\",\n        \"description\": \"\"\n      }\n    },\n    {\n      \"column\": \"Label\",\n      \"properties\": {\n        \"dtype\": \"category\",\n        \"num_unique_values\": 2,\n        \"samples\": [\n          \"Entailment\",\n          \"Contradiction\"\n        ],\n        \"semantic_type\": \"\",\n        \"description\": \"\"\n      }\n    },\n    {\n      \"column\": \"Primary_evidence_index\",\n      \"properties\": {\n        \"dtype\": \"string\",\n        \"num_unique_values\": 737,\n        \"samples\": [\n          \"Inclusion Criteria:   Patients must have histologically or cytologically confirmed primary invasive breast cancer   Primary tumor is larger than 2 cm in diameter (T2) as measured by caliper or ultrasound   Overexpression and/or amplification of HER2 is confirmed by immunohistochemistry (IHC) 3+ or fluorescence in situ hybridization (FISH) + when IHC 2+\",\n          \"Inclusion Criteria:   Histologically confirmed invasive adenocarcinoma of the breast.   Primary palpable disease confined to the breast and axilla on physical examination (clinical Stage II or III disease). For patients without clinically suspicious axillary adenopathy, the primary must be >2 cm in diameter by physical examination or imaging studies (clinical T2-3, N0-2, M0). For patients with clinically suspicious axillary adenopathy, the primary breast tumor can be any size (clinical T1-3, N1-2, M0). Patients who have had axillary node dissection and have pN3a (i.e. 10 involved axillary nodes) are also eligible.   Patients entering the trial after undergoing an axillary node dissection will be eligible if they meet other entry criteria.   Estrogen receptor (ER) and progesterone receptor (PR) status in the primary tumor known or pending at the time of study registration.   Resolution of all acute effects of surgical procedures to  grade 1. For patients who had or will have, a sentinel node and/or axillary node dissection, completion at least 1 week prior to the initiation of study treatment with a well-healed wound is required.   Bilateral, synchronous breast cancer is allowed if both primary tumors are HER2-negative and at least one meets the specified qualifying tumor or nodal inclusion criteria.   Eastern Cooperative Oncology Group (ECOG) Performance Status (PS) score of 0-2.   Patients entering this study must be willing to provide release of tumor tissue collected at baseline during a diagnostic procedure if available, and at the time of future surgical procedure(s) for correlative testing. If tissue is not available, the patient will still be eligible for enrollment to the study.   No evidence of metastatic disease, as documented by complete staging workup 8 weeks prior to initiation of study treatment.   No prior treatment for this breast cancer with the exception of criterion #3.   HER2-negative tumor status defined as:   Immunohistochemical (IHC) 0-1+ or   IHC 2+ or IHC 3+ confirmed as FISH (Fluorescence in situ hybridization) or SISH (Silver in situ hybridization) negative (defined by ratio <2.2)   Adequate hematologic function defined as:   Absolute neutrophil count (ANC) 1500/\\u03bcL   Hemoglobin (Hgb) 10 g/dL   Platelets 100,000/uL   Adequate liver function defined as:   Alanine aminotransferase (ALT) and aspartate aminotransferase (AST) 2.5 x the upper limit of normal (ULN)   Total bilirubin  the institutional ULN   Adequate renal function defined as:   Serum creatinine 1.5 mg/dL x ULN OR calculated creatinine clearance 50 mL/min by the Cockcroft-Gault method:   GRF =(140-age) x (weight/kg) x (0.85 if female) (72 x serum creatinine mg/dL)   Other laboratory testing:   Serum magnesium  the institutional lower limit of normal (LLN)   Serum potassium the institutional LLN   Female and 18 years of age.   Negative serum pregnancy test within <7 days prior to initial trial treatment.   Female patients who are not of child-bearing potential, and female patients of child-bearing potential who agree to use adequate contraceptive measures that are approved by their study physician while receiving study treatment and continuing for 3 weeks after the last dose of study drug treatment, who are not breastfeeding, and who have a negative serum pregnancy test prior to start of dosing.   Willingness and ability to comply with trial and follow-up procedures.   Ability to understand the nature of this trial and give written informed consent. Exclusion Criteria:   Clinical T4 lesions, including inflammatory breast cancer. Clinical N3 involvement (e.g., ipsilateral, infraclavicular, supraclavicular, and internal mammary nodes).   Peripheral neuropathy (motor or sensory) > grade 1 according to Common Terminology Criteria for Adverse Events version 4.0 (CTCAE v4.0).   Patient has received radiotherapy for treatment of previous cancer that included 30% of major bone marrow containing areas (e.g., pelvis, lumbar, spine).   Known or suspected allergy or hypersensitivity to any of the study drugs (i.e., eribulin, cyclophosphamide, docetaxel) or known hypersensitivity to polysorbate 80.   Patients with acute or chronic liver or renal disease or pancreatitis.   Known diagnosis of human immunodeficiency virus (HIV), Hepatitis B (HBV) or Hepatitis C (HCV).   Concurrent treatment with an ovarian hormonal replacement therapy or with hormonal agents such as raloxifene, tamoxifen or other selective estrogen receptor modulator (SERM). Patients must have discontinued use of such agents prior to beginning study treatment. However, use of GNRH agonists for the purpose of fertility preservation or suppression of heavy menses is permitted (see Section 5.4.1).   Patient has any of the following cardiac diseases currently or within the last 6 months:   Left Ventricular Ejection Fraction (LVEF) <45% as determined by Multiple Gated acquisition (MUGA) scan or echocardiogram (ECHO)   Heart rate-corrected QT interval (QTc) > 480 ms on screening electrocardiogram (ECG) (using Bazett's formula)   Unstable angina pectoris   Congestive heart failure (New York Heart Association [NYHA]  Grade 2   Acute myocardial infarction   Conduction abnormality not controlled with pacemaker or medication   Significant ventricular or supraventricular arrhythmias (Patients with chronic rate-controlled atrial fibrillation in the absence of other cardiac abnormalities are eligible).   Valvular disease with significant compromise in cardiac function   Chronic use of drugs that cause QTc prolongation. Patients must discontinue use of these drugs 7 days prior to the start of study treatment.   Presence of other active cancers, or history of treatment for invasive cancer 5 years. Patients with stage I cancer who have received definitive local treatment at least 3 years previously, and are considered unlikely to recur are eligible. All patients with previously treated in situ carcinoma (i.e. non-invasive) are eligible, as are patients with history of non-melanoma skin cancer.   Patients may not receive any other investigational or anti-cancer treatments while participating in this trial.   Psychological, familial, sociological, or geographical conditions that do not permit compliance with the protocol.   Inability or unwillingness to comply with study and/or follow-up procedures outlined in the protocol.\"\n        ],\n        \"semantic_type\": \"\",\n        \"description\": \"\"\n      }\n    },\n    {\n      \"column\": \"Secondary_evidence_index\",\n      \"properties\": {\n        \"dtype\": \"category\",\n        \"num_unique_values\": 284,\n        \"samples\": [\n          \"INTERVENTION 1:    SCPR Intervention   Young breast cancer participants will receive their SCPR and access to additional web-based educational reproductive health information, including resource lists of helpful websites, followed by regular reproductive health prompts and study adherence reminders for 24 weeks.   Reproductive Health Survivorship Care Plan (SCPR): The reproductive health survivorship care plan (SCPR) is a web-based educational tool that will include information on how to manage various reproductive health issues such as hot flashes, fertility concerns, contraception practices, and sexual function. The intervention also includes additional web-based information and resource lists, text-based reproductive health and study adherence INTERVENTION 2:    Control   Young breast cancer participants randomized to the waitlist control arm will receive access to the web-based resources and study adherence reminders. At completion of the 24 weeks of follow up, they will have access to their SCPR.   Control: Web-based resource lists and text-based study adherence reminders\",\n          \"Adverse Events 1:   Total: 69/258 (26.74%)   Anaemia 3/258 (1.16%)   Febrile neutropenia 13/258 (5.04%)   Neutropenia 5/258 (1.94%)   Thrombocytopenia 1/258 (0.39%)   Atrial fibrillation 0/258 (0.00%)   Mitral valve incompetence 1/258 (0.39%)   Pericardial effusion 0/258 (0.00%)   Sinus tachycardia 0/258 (0.00%)   Abdominal pain 3/258 (1.16%)   Abdominal pain upper 1/258 (0.39%)   Colitis 1/258 (0.39%) Adverse Events 2:   Total: 64/224 (28.57%)   Anaemia 2/224 (0.89%)   Febrile neutropenia 4/224 (1.79%)   Neutropenia 1/224 (0.45%)   Thrombocytopenia 0/224 (0.00%)   Atrial fibrillation 1/224 (0.45%)   Mitral valve incompetence 0/224 (0.00%)   Pericardial effusion 2/224 (0.89%)   Sinus tachycardia 1/224 (0.45%)   Abdominal pain 3/224 (1.34%)   Abdominal pain upper 0/224 (0.00%)   Colitis 0/224 (0.00%)\"\n        ],\n        \"semantic_type\": \"\",\n        \"description\": \"\"\n      }\n    },\n    {\n      \"column\": \"Reference_data\",\n      \"properties\": {\n        \"dtype\": \"string\",\n        \"num_unique_values\": 723,\n        \"samples\": [\n          \"INTERVENTION 1:    Zoledronic Acid 5 mg IV   Zometa (Zoledronic Acid) 5 mg IV given over 15 minutes as a one time dose. Follow-up at month 1 & every 2 months to month 12 for serum & urine markers of bone destruction (NTx & CTx). INTERVENTION 1:    Cohort -1 (250mg BYL719, 3.6mg/kg T-DM1)   Patients receive 250 mg PO daily PI3K inhibitor BYL719 on days 1-21 and 3.6mg/kg IV over 30-90 minutes on day 1 ado-trastuzumab emtansine (T-DM1). Courses repeat every 21 days in the absence of disease progression or unacceptable toxicity.   PI3K inhibitor BYL719: Given PO   Ado-trastuzumab emtansine: Given IV   Pharmacological study: Correlative studies   Laboratory biomarker analysis: Optional correlative studies INTERVENTION 2:    Cohort 1 (300mg BYL719, 3.6mg/kg T-DM1)   Patients receive 300 mg PO daily PI3K inhibitor BYL719 on days 1-21 and 3.6mg/kg IV over 30-90 minutes on day 1 ado-trastuzumab emtansine (T-DM1). Courses repeat every 21 days in the absence of disease progression or unacceptable toxicity.   PI3K inhibitor BYL719: Given PO   Ado-trastuzumab emtansine: Given IV   Pharmacological study: Correlative studies   Laboratory biomarker analysis: Optional correlative studies\",\n          \"Inclusion Criteria:   Assigned female at birth;   18 years and older;   Confirmed diagnosis (via biopsy) of early stage breast cancer (stages I-IIIA);   Eligible for both breast-conserving surgery and mastectomy based on medical records and clinician's opinion before surgery;   Spoken English, Spanish, or Mandarin Chinese. Exclusion Criteria:   Transgender men and women;   Women who have undergone prophylactic mastectomy;   Women with visual impairment;   Women with a diagnosis of severe mental illness or severe dementia;   Women with inflammatory breast carcinoma. Inclusion Criteria:   Written informed consent.   Histological diagnosis of operable invasive adenocarcinoma of the breast (T1-T3). Tumours must be HER2 negative. Time window between surgery and study randomization must be less than 60 days.   Surgery must consist of mastectomy or conservative surgery with axillary lymph node dissection. Margins free of disease and ductal carcinomas in situ (DCIS) are required. Lobular carcinoma is not considered a positive margin.   Positive axillary lymph nodes defined as at least 1 out of 10 nodes with presence of disease. If sentinel node technique is used, sentinel node can be the only node affected. Patients belonging to the following classifications are eligible: TNM pathologic stage N1a, TNM pathologic stage N2a, TNM pathologic stage N3a.   Status of hormone receptors in primary tumour. Results must be available before the end of adjuvant chemotherapy.   Patients must not present evidence of metastatic disease. Status of HER2 in primary tumour, known before randomization. Patients with immune histochemistry (IHC) 0 or +1 are eligible. For patients with IHC 2+, fluorescence in situ hybridization (FISH) is mandatory and result must be negative.   Age >= 18 and <= 70 years old.   Performance status (Karnofsky index) >= 80.   Normal electrocardiogram (EKG) in the 12 weeks prior to randomization. If needed, normal cardiac function must be confirmed by left ventricular ejection fraction (LVEF).   Laboratory results (within 14 days prior to randomization):   Hematology: neutrophils >= 1.5 x 10^9/l; platelets >= 100 x 10^9/l; hemoglobin >= 10 mg/dl;   Hepatic function: total bilirubin <= 1 upper normal limit (UNL); serum glutamic-oxaloacetic transaminase (SGOT) and Serum glutamic pyruvic transaminase (SGPT) <= 2.5 UNL; alkaline phosphatase <= 2.5 UNL. If values of SGOT and SGPT > 1.5 UNL are associated to alkaline phosphatase > 2.5 UNL, patient is not eligible;   Renal function: creatinine <= 175 mmol/l (2 mg/dl); creatinine clearance >= 60 ml/min;   Pharmacogenetics: one blood sample is needed for single nucleotide polymorphism (SNP) assessment.   Complete stage workup during the 12 weeks prior to randomization (mammograms are allowed within a 20 week window). All patients must have a bilateral mammogram, thorax x-ray, abdominal echography and/or computed tomography (CT)-scan. If bone pain, and/or alkaline phosphatase elevation, a bone scintigraphy is mandatory. This test is recommended for all patients. Other tests: as clinically indicated.   Patients able to comply with treatment and study follow-up.   Negative pregnancy test done in the 14 prior days to randomization. Exclusion Criteria:   Prior systemic therapy for breast cancer.   Prior therapy with anthracyclines or taxanes (paclitaxel or docetaxel) for any malignancy.   Prior radiotherapy for breast cancer.   Bilateral invasive breast cancer.   Pregnant or lactating women. Adequate contraceptive methods must be used during chemotherapy and hormone therapy treatments.   Any T4 or M1 tumour.   Axillary lymph nodes: patients belonging to the following classifications are excluded: TNM pathologic stage N1b, TNM pathologic stage N1c, TNM pathologic stage N2b, TNM pathologic stage N3b, TNM pathologic stage N3c.   HER2 positive breast cancer (IHC 3+ or positive FISH result).   Pre-existing grade >= 2 motor or sensorial neurotoxicity (National Cancer Institute Common Toxicity Criteria version 2.0 [NCICTC v-2.0]).   Any other serious medical pathology, such as congestive heart failure; unstable angina; history of myocardial infarction during the previous year; uncontrolled hypertension or high risk arrhythmias.   History of neurological or psychiatric disorders, which could preclude the patients from free informed consent.   Active uncontrolled infection.   Active peptic ulcer; unstable diabetes mellitus.   Previous or current history of neoplasms different from breast cancer, except for skin carcinoma, cervical in situ carcinoma, or any other tumour curatively treated and without recurrence in the last 10 years; ductal in situ carcinoma in the same breast; lobular in situ carcinoma.   Chronic treatment with corticosteroids.   Contraindications for corticosteroid administration.   Concomitant treatment with raloxifene, tamoxifen or other selective estrogen receptor modulators (SERMs), either for osteoporosis treatment or for prevention. These treatments must stop before randomisation.   Concomitant treatment with other investigational products; participation in other clinical trials with a non-marketed drug in the 20 previous days before randomization.   Concomitant treatment with another therapy for cancer. Males.\"\n        ],\n        \"semantic_type\": \"\",\n        \"description\": \"\"\n      }\n    },\n    {\n      \"column\": \"Response_strings\",\n      \"properties\": {\n        \"dtype\": \"string\",\n        \"num_unique_values\": 999,\n        \"samples\": [\n          \"Label: Contradiction\\nPrimary Evidence Indexes = INTERVENTION 1:    MM-111 All participants\\nSecondary Evidence Indexes = INTERVENTION 1:    Arm I (Low-dose Omega-3 Fatty Acid)   Patients receive low-dose omega-3 fatty acid supplementation PO BID and placebo PO BID for 6 weeks. Omega-3 Fatty Acid: Given PO   Placebo: Given PO   Questionnaire Administration: Ancillary studies   Laboratory Biomarker Analysis: Correlative studies INTERVENTION 2:    Arm II (High-dose Omega-3 Fatty Acid)   Patients receive high-dose omega-3 fatty acid supplementation PO BID for 6 weeks. Omega-3 Fatty Acid: Given PO   Questionnaire Administration: Ancillary studies   Laboratory Biomarker Analysis: Correlative studies\\n\",\n          \"Label: Contradiction\\nPrimary Evidence Indexes = INTERVENTION 1:    GnRHa (Gonadotrophin-releasing Hormone Analogues) Group   Eligible patients with breast cancer treated with GnRHa (Gonadotrophin-releasing Hormone Analogues) while receiving chemotherapy.   Goserelin 3.6mg, or leuprorelin 3.75mg subcutaneous injection every 28 days.Initiated 1-2 weeks before chemotherapy and ended 4-8 weeks after chemotherapy. INTERVENTION 2:    None GnRHa (Gonadotrophin-releasing Hormone Analogues) Group   Eligible patients with breast cancer treated without GnRHa (Gonadotrophin-releasing Hormone Analogues) while receiving chemotherapy.\\nSecondary Evidence Indexes = nan\\n\"\n        ],\n        \"semantic_type\": \"\",\n        \"description\": \"\"\n      }\n    },\n    {\n      \"column\": \"Input\",\n      \"properties\": {\n        \"dtype\": \"string\",\n        \"num_unique_values\": 995,\n        \"samples\": [\n          \"Type: Single\\nStatement: In order to meet the inclusion criteria for the primary trial patients must have had aromatase inhibitor (AI) therapy before study entry, resulting in complete tumor response.\\nReference Data: Inclusion Criteria:   Female participants aged 18 years or older who are postmenopausal.   Histologically proven diagnosis of breast cancer with evidence of metastatic disease or locoregional recurrence.   Histological confirmation and documentation of estrogen receptor (ER)-positive status (  1% positive stained cells).   Histological or cytological confirmation and documentation of human epidermal growth factor receptor-2 (HER2)-negative status by local laboratory testing using criteria in the American Society of Oncology (ASCO)/College of American Pathologists (CAP) Clinical Practice Guideline update.   Measurable disease defined as either of the following:   At least 1 extra-osseous lesion that could be accurately measured in at least 1 dimension.   The lesion must have measured 20 mm with conventional imaging techniques or 10 mm with spiral CT or MRI. Lymph nodes must be 1.5 cm in the short axis to be considered measurable.   Bone lesions (lytic or mixed [lytic plus sclerotic]) in the absence of measurable disease as defined above. Note: Participants with sclerotic/osteoblastic bone lesions only, in the absence of measurable disease, were not eligible.   Progressive Disease (PD) during prior aromatase inhibitor (AI) therapy.   Have a history of brain metastasis provided that all of the following criteria are met:   Brain metastases have been treated.   No evidence of PD for 3 months before the first dose of study drug.   No hemorrhage after treatment.   Off dexamethasone treatment for 4 weeks before the first dose of study drug.   No ongoing requirement for dexamethasone or anti-epileptic drugs.   Eastern cooperative oncology group (ECOG) performance status of 0 or 1.   Clinical laboratory values as specified below within 4 weeks before the first dose of study drug:   Bone marrow reserve consistent with absolute neutrophil count (ANC) 1.5*10^9/L; platelet count 100*10^9/L; hemoglobin (Hgb) 9 g/dL.   Total bilirubin 1.5*the upper limit of the normal range (ULN), aspartate aminotransferase (AST) and alanine aminotransferase (ALT) 2.5*ULN (  5*ULN if liver metastases are present).   Creatinine clearance 40 mL/min based on Cockcroft-Gault estimate or based on a 12- or 24-hour urine collection.   Fasting serum glucose 130 mg/dL and fasting triglycerides 300 mg/dL. Exclusion Criteria:   Prior therapy with mechanistic target of rapamycin (mTOR), phosphoinositide-3-kinase (PI3K), or dual PI3K-mTOR inhibitors, serine/threonine-specific protein kinase (AKT) inhibitors, or fulvestrant.   Prior treatment with >1 line of chemotherapy for metastatic breast cancer or for locoregional recurrence that was not amenable to resection or radiation therapy with curative intent.   Experienced PD on >2 endocrine therapies for metastatic breast cancer or for locoregional recurrence that was not amenable to resection or radiation therapy with curative intent.   Life-threatening metastatic visceral disease (defined as extensive hepatic involvement or symptomatic pulmonary lymphangitic spread).   Poorly controlled diabetes mellitus defined as hemoglobin A1c (glycosylated hemoglobin; HbA1c) >7%; participants with a history of transient glucose intolerance due to corticosteroid administration may be eligible if all other inclusion/exclusion criteria are met.\",\n          \"Type: Single\\nStatement: Patients with HER2 positive tumors are ineligible for the primary trial.\\nReference Data: INCLUSION CRITERIA   PART 1:   confirmed pathologic diagnosis of a solid tumor not curable with available therapies for which neratinib plus capecitabine is a reasonable treatment option.   PART 2:   confirmed histologically and/or cytologically confirmed diagnosis of breast cancer, metastatic or locally advanced.   erbB-2 gene amplified tumor (FISH or CISH) or erbB-2 overexpression (IHC 3+, or IHC2+ with FISH or CISH confirmation), based on local testing, or based on centralized FISH testing prior to day 1.   disease progression on or following at least 1 prior trastuzumab containing treatment regimen (at least 6 weeks) for metastatic or locally advanced disease. (Prior adjuvant trastuzumab is allowed but not required). A 2 week period is required between the last dose of trastuzumab treatment and first dose of the test article.   Prior treatment with a taxane in the neoadjuvant, adjuvant, locally advanced, and/or metastatic disease treatment setting.   PARTS 1 and 2:   At least 1 measurable lesion as defined by RECIST criteria.   LVEF within institutional range of normal as measured by multi-gated acquisition (MUGA) or echocardiogram (ECHO).   EXCLUSION CRITERIA   PART 2:   prior treatment with capecitabine, lapatinib (20 subjects with prior lapatinib exposure will be enrolled) or any erbB-2 targeted agents except trastuzumab. Treatment with erbB-2 targeted therapy must exceed 2 weeks (14 days) in order to be exclusionary.   prior treatment with anthracyclines with a cumulative dose of doxorubicin of greater than 400 mg/m\\u00b2, epirubicin dose of greater than 800 mg/m\\u00b2, or the equivalent dose for other anthracyclines.   PARTS 1 and 2:   Subjects with bone as the only site of disease.   Active uncontrolled or symptomatic central nervous system (CNS) metastases, as indicated by clinical symptoms, cerebral edema, and/or progressive growth. Subjects with a history of CNS metastases or cord compression are allowable if they have been considered definitively treated and are off anticonvulsants and steroids for at least 4 weeks before the first dose of test article.   Any other cancer within 5 years prior to screening with the exception of adequately treated cervical carcinoma in situ, or adequately treated basal or squamous cell carcinoma of the skin.\"\n        ],\n        \"semantic_type\": \"\",\n        \"description\": \"\"\n      }\n    }\n  ]\n}",
              "type": "dataframe",
              "variable_name": "df2"
            },
            "text/html": [
              "\n",
              "  <div id=\"df-8bedb73b-2d2f-4d08-be1d-fa7a474227b4\" class=\"colab-df-container\">\n",
              "    <div>\n",
              "<style scoped>\n",
              "    .dataframe tbody tr th:only-of-type {\n",
              "        vertical-align: middle;\n",
              "    }\n",
              "\n",
              "    .dataframe tbody tr th {\n",
              "        vertical-align: top;\n",
              "    }\n",
              "\n",
              "    .dataframe thead th {\n",
              "        text-align: right;\n",
              "    }\n",
              "</style>\n",
              "<table border=\"1\" class=\"dataframe\">\n",
              "  <thead>\n",
              "    <tr style=\"text-align: right;\">\n",
              "      <th></th>\n",
              "      <th>test_ID</th>\n",
              "      <th>Type</th>\n",
              "      <th>Section_id</th>\n",
              "      <th>Primary_id</th>\n",
              "      <th>Secondary_id</th>\n",
              "      <th>Statement</th>\n",
              "      <th>Label</th>\n",
              "      <th>Primary_evidence_index</th>\n",
              "      <th>Secondary_evidence_index</th>\n",
              "      <th>Reference_data</th>\n",
              "      <th>Response_strings</th>\n",
              "      <th>Input</th>\n",
              "    </tr>\n",
              "  </thead>\n",
              "  <tbody>\n",
              "    <tr>\n",
              "      <th>701</th>\n",
              "      <td>4e31e4f8-a6da-49fc-8bfe-1309674ec2ee</td>\n",
              "      <td>Single</td>\n",
              "      <td>Results</td>\n",
              "      <td>NCT00244881</td>\n",
              "      <td>NaN</td>\n",
              "      <td>30% of the primary trial participants had an i...</td>\n",
              "      <td>Contradiction</td>\n",
              "      <td>Outcome Measurement:    Fraction of Patients W...</td>\n",
              "      <td>NaN</td>\n",
              "      <td>Outcome Measurement:    Fraction of Patients W...</td>\n",
              "      <td>Label: Contradiction\\nPrimary Evidence Indexes...</td>\n",
              "      <td>Type: Single\\nStatement: 30% of the primary tr...</td>\n",
              "    </tr>\n",
              "    <tr>\n",
              "      <th>702</th>\n",
              "      <td>5c00f992-5066-42f2-88d7-566b8b9104b5</td>\n",
              "      <td>Single</td>\n",
              "      <td>Results</td>\n",
              "      <td>NCT00089661</td>\n",
              "      <td>NaN</td>\n",
              "      <td>On average cohort 1 participants in the primar...</td>\n",
              "      <td>Contradiction</td>\n",
              "      <td>Outcome Measurement:    Lumbar Spine Bone Mine...</td>\n",
              "      <td>NaN</td>\n",
              "      <td>Outcome Measurement:    Lumbar Spine Bone Mine...</td>\n",
              "      <td>Label: Contradiction\\nPrimary Evidence Indexes...</td>\n",
              "      <td>Type: Single\\nStatement: On average cohort 1 p...</td>\n",
              "    </tr>\n",
              "    <tr>\n",
              "      <th>703</th>\n",
              "      <td>4c0ffc50-5cb2-4574-b954-335d142edbe4</td>\n",
              "      <td>Single</td>\n",
              "      <td>Eligibility</td>\n",
              "      <td>NCT01527487</td>\n",
              "      <td>NaN</td>\n",
              "      <td>Patients prescribed Citalopram as an ongoing t...</td>\n",
              "      <td>Entailment</td>\n",
              "      <td>Exclusion Criteria:   Chronic use of drugs tha...</td>\n",
              "      <td>NaN</td>\n",
              "      <td>Inclusion Criteria:   Histologically confirmed...</td>\n",
              "      <td>Label: Entailment\\nPrimary Evidence Indexes = ...</td>\n",
              "      <td>Type: Single\\nStatement: Patients prescribed C...</td>\n",
              "    </tr>\n",
              "    <tr>\n",
              "      <th>704</th>\n",
              "      <td>4e3379b9-f971-4ab6-8846-c395f1162bf2</td>\n",
              "      <td>Comparison</td>\n",
              "      <td>Adverse Events</td>\n",
              "      <td>NCT00810797</td>\n",
              "      <td>NCT00828074</td>\n",
              "      <td>Skin infections were more common in patients i...</td>\n",
              "      <td>Entailment</td>\n",
              "      <td>Adverse Events 1:   Skin infection * 1/36 (2.78%)</td>\n",
              "      <td>Adverse Events 1:   Skin infection * 2/41 (4.88%)</td>\n",
              "      <td>Adverse Events 1:   Total: 4/36 (11.11%)   Rec...</td>\n",
              "      <td>Label: Entailment\\nPrimary Evidence Indexes = ...</td>\n",
              "      <td>Type: Comparison\\nStatement: Skin infections w...</td>\n",
              "    </tr>\n",
              "    <tr>\n",
              "      <th>705</th>\n",
              "      <td>9872394c-18b7-4f88-849e-0e2831e6ebf0</td>\n",
              "      <td>Single</td>\n",
              "      <td>Eligibility</td>\n",
              "      <td>NCT00579826</td>\n",
              "      <td>NaN</td>\n",
              "      <td>Participants of the primary trial cannot be cu...</td>\n",
              "      <td>Contradiction</td>\n",
              "      <td>Inclusion Criteria:   On a stable dose of horm...</td>\n",
              "      <td>NaN</td>\n",
              "      <td>Inclusion Criteria:   Post-menopausal women at...</td>\n",
              "      <td>Label: Contradiction\\nPrimary Evidence Indexes...</td>\n",
              "      <td>Type: Single\\nStatement: Participants of the p...</td>\n",
              "    </tr>\n",
              "  </tbody>\n",
              "</table>\n",
              "</div>\n",
              "    <div class=\"colab-df-buttons\">\n",
              "\n",
              "  <div class=\"colab-df-container\">\n",
              "    <button class=\"colab-df-convert\" onclick=\"convertToInteractive('df-8bedb73b-2d2f-4d08-be1d-fa7a474227b4')\"\n",
              "            title=\"Convert this dataframe to an interactive table.\"\n",
              "            style=\"display:none;\">\n",
              "\n",
              "  <svg xmlns=\"http://www.w3.org/2000/svg\" height=\"24px\" viewBox=\"0 -960 960 960\">\n",
              "    <path d=\"M120-120v-720h720v720H120Zm60-500h600v-160H180v160Zm220 220h160v-160H400v160Zm0 220h160v-160H400v160ZM180-400h160v-160H180v160Zm440 0h160v-160H620v160ZM180-180h160v-160H180v160Zm440 0h160v-160H620v160Z\"/>\n",
              "  </svg>\n",
              "    </button>\n",
              "\n",
              "  <style>\n",
              "    .colab-df-container {\n",
              "      display:flex;\n",
              "      gap: 12px;\n",
              "    }\n",
              "\n",
              "    .colab-df-convert {\n",
              "      background-color: #E8F0FE;\n",
              "      border: none;\n",
              "      border-radius: 50%;\n",
              "      cursor: pointer;\n",
              "      display: none;\n",
              "      fill: #1967D2;\n",
              "      height: 32px;\n",
              "      padding: 0 0 0 0;\n",
              "      width: 32px;\n",
              "    }\n",
              "\n",
              "    .colab-df-convert:hover {\n",
              "      background-color: #E2EBFA;\n",
              "      box-shadow: 0px 1px 2px rgba(60, 64, 67, 0.3), 0px 1px 3px 1px rgba(60, 64, 67, 0.15);\n",
              "      fill: #174EA6;\n",
              "    }\n",
              "\n",
              "    .colab-df-buttons div {\n",
              "      margin-bottom: 4px;\n",
              "    }\n",
              "\n",
              "    [theme=dark] .colab-df-convert {\n",
              "      background-color: #3B4455;\n",
              "      fill: #D2E3FC;\n",
              "    }\n",
              "\n",
              "    [theme=dark] .colab-df-convert:hover {\n",
              "      background-color: #434B5C;\n",
              "      box-shadow: 0px 1px 3px 1px rgba(0, 0, 0, 0.15);\n",
              "      filter: drop-shadow(0px 1px 2px rgba(0, 0, 0, 0.3));\n",
              "      fill: #FFFFFF;\n",
              "    }\n",
              "  </style>\n",
              "\n",
              "    <script>\n",
              "      const buttonEl =\n",
              "        document.querySelector('#df-8bedb73b-2d2f-4d08-be1d-fa7a474227b4 button.colab-df-convert');\n",
              "      buttonEl.style.display =\n",
              "        google.colab.kernel.accessAllowed ? 'block' : 'none';\n",
              "\n",
              "      async function convertToInteractive(key) {\n",
              "        const element = document.querySelector('#df-8bedb73b-2d2f-4d08-be1d-fa7a474227b4');\n",
              "        const dataTable =\n",
              "          await google.colab.kernel.invokeFunction('convertToInteractive',\n",
              "                                                    [key], {});\n",
              "        if (!dataTable) return;\n",
              "\n",
              "        const docLinkHtml = 'Like what you see? Visit the ' +\n",
              "          '<a target=\"_blank\" href=https://colab.research.google.com/notebooks/data_table.ipynb>data table notebook</a>'\n",
              "          + ' to learn more about interactive tables.';\n",
              "        element.innerHTML = '';\n",
              "        dataTable['output_type'] = 'display_data';\n",
              "        await google.colab.output.renderOutput(dataTable, element);\n",
              "        const docLink = document.createElement('div');\n",
              "        docLink.innerHTML = docLinkHtml;\n",
              "        element.appendChild(docLink);\n",
              "      }\n",
              "    </script>\n",
              "  </div>\n",
              "\n",
              "\n",
              "<div id=\"df-c1140d83-e5ad-49dd-9237-b7fb48adaef0\">\n",
              "  <button class=\"colab-df-quickchart\" onclick=\"quickchart('df-c1140d83-e5ad-49dd-9237-b7fb48adaef0')\"\n",
              "            title=\"Suggest charts\"\n",
              "            style=\"display:none;\">\n",
              "\n",
              "<svg xmlns=\"http://www.w3.org/2000/svg\" height=\"24px\"viewBox=\"0 0 24 24\"\n",
              "     width=\"24px\">\n",
              "    <g>\n",
              "        <path d=\"M19 3H5c-1.1 0-2 .9-2 2v14c0 1.1.9 2 2 2h14c1.1 0 2-.9 2-2V5c0-1.1-.9-2-2-2zM9 17H7v-7h2v7zm4 0h-2V7h2v10zm4 0h-2v-4h2v4z\"/>\n",
              "    </g>\n",
              "</svg>\n",
              "  </button>\n",
              "\n",
              "<style>\n",
              "  .colab-df-quickchart {\n",
              "      --bg-color: #E8F0FE;\n",
              "      --fill-color: #1967D2;\n",
              "      --hover-bg-color: #E2EBFA;\n",
              "      --hover-fill-color: #174EA6;\n",
              "      --disabled-fill-color: #AAA;\n",
              "      --disabled-bg-color: #DDD;\n",
              "  }\n",
              "\n",
              "  [theme=dark] .colab-df-quickchart {\n",
              "      --bg-color: #3B4455;\n",
              "      --fill-color: #D2E3FC;\n",
              "      --hover-bg-color: #434B5C;\n",
              "      --hover-fill-color: #FFFFFF;\n",
              "      --disabled-bg-color: #3B4455;\n",
              "      --disabled-fill-color: #666;\n",
              "  }\n",
              "\n",
              "  .colab-df-quickchart {\n",
              "    background-color: var(--bg-color);\n",
              "    border: none;\n",
              "    border-radius: 50%;\n",
              "    cursor: pointer;\n",
              "    display: none;\n",
              "    fill: var(--fill-color);\n",
              "    height: 32px;\n",
              "    padding: 0;\n",
              "    width: 32px;\n",
              "  }\n",
              "\n",
              "  .colab-df-quickchart:hover {\n",
              "    background-color: var(--hover-bg-color);\n",
              "    box-shadow: 0 1px 2px rgba(60, 64, 67, 0.3), 0 1px 3px 1px rgba(60, 64, 67, 0.15);\n",
              "    fill: var(--button-hover-fill-color);\n",
              "  }\n",
              "\n",
              "  .colab-df-quickchart-complete:disabled,\n",
              "  .colab-df-quickchart-complete:disabled:hover {\n",
              "    background-color: var(--disabled-bg-color);\n",
              "    fill: var(--disabled-fill-color);\n",
              "    box-shadow: none;\n",
              "  }\n",
              "\n",
              "  .colab-df-spinner {\n",
              "    border: 2px solid var(--fill-color);\n",
              "    border-color: transparent;\n",
              "    border-bottom-color: var(--fill-color);\n",
              "    animation:\n",
              "      spin 1s steps(1) infinite;\n",
              "  }\n",
              "\n",
              "  @keyframes spin {\n",
              "    0% {\n",
              "      border-color: transparent;\n",
              "      border-bottom-color: var(--fill-color);\n",
              "      border-left-color: var(--fill-color);\n",
              "    }\n",
              "    20% {\n",
              "      border-color: transparent;\n",
              "      border-left-color: var(--fill-color);\n",
              "      border-top-color: var(--fill-color);\n",
              "    }\n",
              "    30% {\n",
              "      border-color: transparent;\n",
              "      border-left-color: var(--fill-color);\n",
              "      border-top-color: var(--fill-color);\n",
              "      border-right-color: var(--fill-color);\n",
              "    }\n",
              "    40% {\n",
              "      border-color: transparent;\n",
              "      border-right-color: var(--fill-color);\n",
              "      border-top-color: var(--fill-color);\n",
              "    }\n",
              "    60% {\n",
              "      border-color: transparent;\n",
              "      border-right-color: var(--fill-color);\n",
              "    }\n",
              "    80% {\n",
              "      border-color: transparent;\n",
              "      border-right-color: var(--fill-color);\n",
              "      border-bottom-color: var(--fill-color);\n",
              "    }\n",
              "    90% {\n",
              "      border-color: transparent;\n",
              "      border-bottom-color: var(--fill-color);\n",
              "    }\n",
              "  }\n",
              "</style>\n",
              "\n",
              "  <script>\n",
              "    async function quickchart(key) {\n",
              "      const quickchartButtonEl =\n",
              "        document.querySelector('#' + key + ' button');\n",
              "      quickchartButtonEl.disabled = true;  // To prevent multiple clicks.\n",
              "      quickchartButtonEl.classList.add('colab-df-spinner');\n",
              "      try {\n",
              "        const charts = await google.colab.kernel.invokeFunction(\n",
              "            'suggestCharts', [key], {});\n",
              "      } catch (error) {\n",
              "        console.error('Error during call to suggestCharts:', error);\n",
              "      }\n",
              "      quickchartButtonEl.classList.remove('colab-df-spinner');\n",
              "      quickchartButtonEl.classList.add('colab-df-quickchart-complete');\n",
              "    }\n",
              "    (() => {\n",
              "      let quickchartButtonEl =\n",
              "        document.querySelector('#df-c1140d83-e5ad-49dd-9237-b7fb48adaef0 button');\n",
              "      quickchartButtonEl.style.display =\n",
              "        google.colab.kernel.accessAllowed ? 'block' : 'none';\n",
              "    })();\n",
              "  </script>\n",
              "</div>\n",
              "\n",
              "    </div>\n",
              "  </div>\n"
            ],
            "text/plain": [
              "                                  test_ID        Type      Section_id  \\\n",
              "701  4e31e4f8-a6da-49fc-8bfe-1309674ec2ee      Single         Results   \n",
              "702  5c00f992-5066-42f2-88d7-566b8b9104b5      Single         Results   \n",
              "703  4c0ffc50-5cb2-4574-b954-335d142edbe4      Single     Eligibility   \n",
              "704  4e3379b9-f971-4ab6-8846-c395f1162bf2  Comparison  Adverse Events   \n",
              "705  9872394c-18b7-4f88-849e-0e2831e6ebf0      Single     Eligibility   \n",
              "\n",
              "      Primary_id Secondary_id  \\\n",
              "701  NCT00244881          NaN   \n",
              "702  NCT00089661          NaN   \n",
              "703  NCT01527487          NaN   \n",
              "704  NCT00810797  NCT00828074   \n",
              "705  NCT00579826          NaN   \n",
              "\n",
              "                                             Statement          Label  \\\n",
              "701  30% of the primary trial participants had an i...  Contradiction   \n",
              "702  On average cohort 1 participants in the primar...  Contradiction   \n",
              "703  Patients prescribed Citalopram as an ongoing t...     Entailment   \n",
              "704  Skin infections were more common in patients i...     Entailment   \n",
              "705  Participants of the primary trial cannot be cu...  Contradiction   \n",
              "\n",
              "                                Primary_evidence_index  \\\n",
              "701  Outcome Measurement:    Fraction of Patients W...   \n",
              "702  Outcome Measurement:    Lumbar Spine Bone Mine...   \n",
              "703  Exclusion Criteria:   Chronic use of drugs tha...   \n",
              "704  Adverse Events 1:   Skin infection * 1/36 (2.78%)   \n",
              "705  Inclusion Criteria:   On a stable dose of horm...   \n",
              "\n",
              "                              Secondary_evidence_index  \\\n",
              "701                                                NaN   \n",
              "702                                                NaN   \n",
              "703                                                NaN   \n",
              "704  Adverse Events 1:   Skin infection * 2/41 (4.88%)   \n",
              "705                                                NaN   \n",
              "\n",
              "                                        Reference_data  \\\n",
              "701  Outcome Measurement:    Fraction of Patients W...   \n",
              "702  Outcome Measurement:    Lumbar Spine Bone Mine...   \n",
              "703  Inclusion Criteria:   Histologically confirmed...   \n",
              "704  Adverse Events 1:   Total: 4/36 (11.11%)   Rec...   \n",
              "705  Inclusion Criteria:   Post-menopausal women at...   \n",
              "\n",
              "                                      Response_strings  \\\n",
              "701  Label: Contradiction\\nPrimary Evidence Indexes...   \n",
              "702  Label: Contradiction\\nPrimary Evidence Indexes...   \n",
              "703  Label: Entailment\\nPrimary Evidence Indexes = ...   \n",
              "704  Label: Entailment\\nPrimary Evidence Indexes = ...   \n",
              "705  Label: Contradiction\\nPrimary Evidence Indexes...   \n",
              "\n",
              "                                                 Input  \n",
              "701  Type: Single\\nStatement: 30% of the primary tr...  \n",
              "702  Type: Single\\nStatement: On average cohort 1 p...  \n",
              "703  Type: Single\\nStatement: Patients prescribed C...  \n",
              "704  Type: Comparison\\nStatement: Skin infections w...  \n",
              "705  Type: Single\\nStatement: Participants of the p...  "
            ]
          },
          "execution_count": 25,
          "metadata": {},
          "output_type": "execute_result"
        }
      ],
      "source": [
        "df2.head()"
      ]
    },
    {
      "cell_type": "code",
      "execution_count": 26,
      "metadata": {
        "id": "f-anb4HxK5yQ"
      },
      "outputs": [],
      "source": [
        "model_id = \"ft:gpt-3.5-turbo-0125:personal::9iyNIzGd\""
      ]
    },
    {
      "cell_type": "code",
      "execution_count": 27,
      "metadata": {
        "colab": {
          "base_uri": "https://localhost:8080/",
          "height": 143
        },
        "id": "EPfrpljxLd4E",
        "outputId": "403a27a7-f170-40b9-b582-98b90c9d2fa8"
      },
      "outputs": [
        {
          "data": {
            "application/vnd.google.colaboratory.intrinsic+json": {
              "type": "string"
            },
            "text/plain": [
              "'Type: Single\\nStatement: 30% of the primary trial participants had an increased level of CECs after 42 days of treatment.\\nReference Data: Outcome Measurement:    Fraction of Patients With Increased Levels of Circulating Endothelial Cells   An exact 95% confidence interval (CI) will be calculated for the CEC response rate. With 26 patients, this CI will be no wider than 40% (e.g., if 13 of 26 patients respond, the CI is 30% to 70%).   Time frame: After 3 weeks of treatment Results 1:    Arm/Group Title: Treatment (Cediranib Maleate)   Arm/Group Description: Patients receive oral AZD2171 once daily for 42 days. Courses repeat every 42 days in the absence of disease progression or unacceptable toxicity.   Overall Number of Participants Analyzed: 26   Measure Type: Number   Unit of Measure: percentage of participants  30'"
            ]
          },
          "execution_count": 27,
          "metadata": {},
          "output_type": "execute_result"
        }
      ],
      "source": [
        "df2['Input'][701]"
      ]
    },
    {
      "cell_type": "code",
      "execution_count": 34,
      "metadata": {
        "id": "SPUofV2iLGIt"
      },
      "outputs": [],
      "source": [
        "completion = client.chat.completions.create(\n",
        "    model = model_id,\n",
        "    messages = [{\"role\":\"system\", \"content\": system_prompt},\n",
        "    {\"role\":\"user\", \"content\": df2['Input'][701]}]\n",
        "    )"
      ]
    },
    {
      "cell_type": "code",
      "execution_count": 35,
      "metadata": {
        "colab": {
          "base_uri": "https://localhost:8080/"
        },
        "id": "XzjpMeDNLUWy",
        "outputId": "6bc4b3da-0a81-41f1-fa77-d8233a9f14dc"
      },
      "outputs": [
        {
          "name": "stdout",
          "output_type": "stream",
          "text": [
            "Label: Entailment\n",
            "Primary Evidence Indexes = Outcome Measurement:    Fraction of Patients With Increased Levels of Circulating Endothelial Cells   An exact 95% confidence interval (CI) will be calculated for the CEC response rate. With 26 patients, this CI will be no wider than 40% (e.g., if 13 of 26 patients respond, the CI is 30% to 70%).   Time frame: After 3 weeks of treatment Results 1:    Arm/Group Title: Treatment (Cediranib Maleate)   Arm/Group Description: Patients receive oral AZD2171 once daily for 42 days. Courses repeat every 42 days in the absence of disease progression or unacceptable toxicity.   Overall Number of Participants Analyzed: 26   Measure Type: Number   Unit of Measure: percentage of participants  30\n",
            "Secondary Evidence Indexes = nan\n",
            "\n"
          ]
        }
      ],
      "source": [
        "print(completion.choices[0].message.content)"
      ]
    },
    {
      "cell_type": "code",
      "execution_count": 36,
      "metadata": {
        "colab": {
          "base_uri": "https://localhost:8080/",
          "height": 35
        },
        "id": "wXNq8CEJLopQ",
        "outputId": "143cff8f-99e4-4665-82ea-7f82e44c906c"
      },
      "outputs": [
        {
          "data": {
            "application/vnd.google.colaboratory.intrinsic+json": {
              "type": "string"
            },
            "text/plain": [
              "'Contradiction'"
            ]
          },
          "execution_count": 36,
          "metadata": {},
          "output_type": "execute_result"
        }
      ],
      "source": [
        "df2['Label'][701]"
      ]
    },
    {
      "cell_type": "code",
      "execution_count": 37,
      "metadata": {
        "colab": {
          "base_uri": "https://localhost:8080/",
          "height": 125
        },
        "id": "7juhKeMSLs8r",
        "outputId": "a270dd5e-4a20-499f-fc58-bdbf61920817"
      },
      "outputs": [
        {
          "data": {
            "application/vnd.google.colaboratory.intrinsic+json": {
              "type": "string"
            },
            "text/plain": [
              "'Outcome Measurement:    Fraction of Patients With Increased Levels of Circulating Endothelial Cells   An exact 95% confidence interval (CI) will be calculated for the CEC response rate. With 26 patients, this CI will be no wider than 40% (e.g., if 13 of 26 patients respond, the CI is 30% to 70%).   Time frame: After 3 weeks of treatment Results 1:    Arm/Group Title: Treatment (Cediranib Maleate)   Arm/Group Description: Patients receive oral AZD2171 once daily for 42 days. Courses repeat every 42 days in the absence of disease progression or unacceptable toxicity.   Overall Number of Participants Analyzed: 26   Measure Type: Number   Unit of Measure: percentage of participants  30'"
            ]
          },
          "execution_count": 37,
          "metadata": {},
          "output_type": "execute_result"
        }
      ],
      "source": [
        "df2['Primary_evidence_index'][701]"
      ]
    },
    {
      "cell_type": "code",
      "execution_count": 38,
      "metadata": {
        "colab": {
          "base_uri": "https://localhost:8080/"
        },
        "id": "eFfFxSUsLxTb",
        "outputId": "8e9816a3-0313-4b17-8f6a-0ea9641ee466"
      },
      "outputs": [
        {
          "data": {
            "text/plain": [
              "nan"
            ]
          },
          "execution_count": 38,
          "metadata": {},
          "output_type": "execute_result"
        }
      ],
      "source": [
        "df2['Secondary_evidence_index'][701]"
      ]
    },
    {
      "cell_type": "code",
      "execution_count": 39,
      "metadata": {
        "id": "TkkBIkEhL2N0"
      },
      "outputs": [],
      "source": [
        "completion = client.chat.completions.create(\n",
        "    model = model_id,\n",
        "    messages = [{\"role\":\"system\", \"content\": system_prompt},\n",
        "    {\"role\":\"user\", \"content\": df2['Input'][702]}]\n",
        "    )"
      ]
    },
    {
      "cell_type": "code",
      "execution_count": 40,
      "metadata": {
        "colab": {
          "base_uri": "https://localhost:8080/"
        },
        "id": "7-2q2jLdL6AK",
        "outputId": "e0a233c9-8636-4ff6-c45d-6305a67e4c9a"
      },
      "outputs": [
        {
          "name": "stdout",
          "output_type": "stream",
          "text": [
            "Label: Contradiction\n",
            "Primary Evidence Indexes = Outcome Measurement:    Lumbar Spine Bone Mineral Density Percent Change From Baseline at Month 12   Bone Mineral Density Assessed by Dual Energy X-Ray Absorptiometry.   Time frame: 12 months Results 1:    Arm/Group Title: Denosumab 60 mg Q6M   Arm/Group Description: [Not Specified]   Overall Number of Participants Analyzed: 123   Least Squares Mean (95% Confidence Interval)   Unit of Measure: Percent Change from Baseline  4.8        (4.3 to 5.4) Results 2:    Arm/Group Title: Placebo   Arm/Group Description: [Not Specified]   Overall Number of Participants Analyzed: 122   Least Squares Mean (95% Confidence Interval)   Unit of Measure: Percent Change from Baseline  -.7        (-1.3 to -.1)\n",
            "Secondary Evidence Indexes = nan\n",
            "\n"
          ]
        }
      ],
      "source": [
        "print(completion.choices[0].message.content)"
      ]
    },
    {
      "cell_type": "code",
      "execution_count": 41,
      "metadata": {
        "colab": {
          "base_uri": "https://localhost:8080/",
          "height": 35
        },
        "id": "C-38ju0fL8OS",
        "outputId": "e568cd1e-1e1b-4245-db86-7f790a683287"
      },
      "outputs": [
        {
          "data": {
            "application/vnd.google.colaboratory.intrinsic+json": {
              "type": "string"
            },
            "text/plain": [
              "'Contradiction'"
            ]
          },
          "execution_count": 41,
          "metadata": {},
          "output_type": "execute_result"
        }
      ],
      "source": [
        "df2['Label'][702]"
      ]
    },
    {
      "cell_type": "code",
      "execution_count": 42,
      "metadata": {
        "colab": {
          "base_uri": "https://localhost:8080/",
          "height": 125
        },
        "id": "IBPMYeztL_-w",
        "outputId": "a9fafbbb-41d0-4716-d91c-dfd0d898be9b"
      },
      "outputs": [
        {
          "data": {
            "application/vnd.google.colaboratory.intrinsic+json": {
              "type": "string"
            },
            "text/plain": [
              "'Outcome Measurement:    Lumbar Spine Bone Mineral Density Percent Change From Baseline at Month 12   Bone Mineral Density Assessed by Dual Energy X-Ray Absorptiometry.   Time frame: 12 months Results 1:    Arm/Group Title: Denosumab 60 mg Q6M   Arm/Group Description: [Not Specified]   Overall Number of Participants Analyzed: 123   Least Squares Mean (95% Confidence Interval)   Unit of Measure: Percent Change from Baseline  4.8        (4.3 to 5.4) Results 2:    Arm/Group Title: Placebo   Arm/Group Description: [Not Specified]   Overall Number of Participants Analyzed: 122   Least Squares Mean (95% Confidence Interval)   Unit of Measure: Percent Change from Baseline  -.7        (-1.3 to -.1)'"
            ]
          },
          "execution_count": 42,
          "metadata": {},
          "output_type": "execute_result"
        }
      ],
      "source": [
        "df2['Primary_evidence_index'][702]"
      ]
    },
    {
      "cell_type": "code",
      "execution_count": 43,
      "metadata": {
        "id": "TxdH5ELoMHy2"
      },
      "outputs": [],
      "source": [
        "outputs = []\n"
      ]
    },
    {
      "cell_type": "code",
      "execution_count": 45,
      "metadata": {
        "id": "W-pUzD2jQMxj"
      },
      "outputs": [],
      "source": [
        "for i in range(701, 852):\n",
        "    input_text = df2['Input'][idx]\n",
        "    completion = client.chat.completions.create(\n",
        "        model=model_id,\n",
        "        messages=[\n",
        "            {\"role\": \"system\", \"content\": system_prompt},\n",
        "            {\"role\": \"user\", \"content\": df2['Input'][i]}\n",
        "        ]\n",
        "    )\n",
        "    output_text = completion.choices[0].message.content\n",
        "    outputs.append(output_text)"
      ]
    },
    {
      "cell_type": "code",
      "execution_count": 46,
      "metadata": {
        "colab": {
          "base_uri": "https://localhost:8080/",
          "height": 143
        },
        "id": "TJ1WXKt0QP3T",
        "outputId": "f274dce5-fe32-4dc0-92d1-bf6ef9496716"
      },
      "outputs": [
        {
          "data": {
            "application/vnd.google.colaboratory.intrinsic+json": {
              "type": "string"
            },
            "text/plain": [
              "'Label: Entailment\\nPrimary Evidence Indexes = Outcome Measurement:    Fraction of Patients With Increased Levels of Circulating Endothelial Cells   An exact 95% confidence interval (CI) will be calculated for the CEC response rate. With 26 patients, this CI will be no wider than 40% (e.g., if 13 of 26 patients respond, the CI is 30% to 70%).   Time frame: After 3 weeks of treatment Results 1:    Arm/Group Title: Treatment (Cediranib Maleate)   Arm/Group Description: Patients receive oral AZD2171 once daily for 42 days. Courses repeat every 42 days in the absence of disease progression or unacceptable toxicity.   Overall Number of Participants Analyzed: 26   Measure Type: Number   Unit of Measure: percentage of participants  30\\nSecondary Evidence Indexes = nan\\n'"
            ]
          },
          "execution_count": 46,
          "metadata": {},
          "output_type": "execute_result"
        }
      ],
      "source": [
        "outputs[0]"
      ]
    },
    {
      "cell_type": "code",
      "execution_count": 47,
      "metadata": {
        "id": "HSjnYZ9cTCKK"
      },
      "outputs": [],
      "source": [
        "for i in range(853, 900):\n",
        "    input_text = df2['Input'][idx]\n",
        "    completion = client.chat.completions.create(\n",
        "        model=model_id,\n",
        "        messages=[\n",
        "            {\"role\": \"system\", \"content\": system_prompt},\n",
        "            {\"role\": \"user\", \"content\": df2['Input'][i]}\n",
        "        ]\n",
        "    )\n",
        "    output_text = completion.choices[0].message.content\n",
        "    outputs.append(output_text)"
      ]
    },
    {
      "cell_type": "code",
      "execution_count": 48,
      "metadata": {
        "id": "ZHTFlnfOTO7V"
      },
      "outputs": [],
      "source": [
        "processed_data = []"
      ]
    },
    {
      "cell_type": "code",
      "execution_count": 49,
      "metadata": {
        "id": "YJkRAh7ET2TR"
      },
      "outputs": [],
      "source": [
        "for output in outputs:\n",
        "    lines = output.split('\\n')\n",
        "    label = lines[0].split(': ')[1]\n",
        "    primary_evidence_indexes = lines[1].split('= ')[1]\n",
        "    secondary_evidence_indexes = lines[2].split('= ')[1] if 'Secondary Evidence Indexes' in output else 'nan'\n",
        "\n",
        "    processed_data.append({\n",
        "        'Label': label,\n",
        "        'Primary Evidence Indexes': primary_evidence_indexes,\n",
        "        'Secondary Evidence Indexes': secondary_evidence_indexes\n",
        "    })"
      ]
    },
    {
      "cell_type": "code",
      "execution_count": 50,
      "metadata": {
        "colab": {
          "base_uri": "https://localhost:8080/"
        },
        "id": "n7R1CpujT9WC",
        "outputId": "04f3bb89-83fc-4fd6-cac6-facef9e93c1c"
      },
      "outputs": [
        {
          "data": {
            "text/plain": [
              "{'Label': 'Entailment',\n",
              " 'Primary Evidence Indexes': 'Outcome Measurement:    Fraction of Patients With Increased Levels of Circulating Endothelial Cells   An exact 95% confidence interval (CI) will be calculated for the CEC response rate. With 26 patients, this CI will be no wider than 40% (e.g., if 13 of 26 patients respond, the CI is 30% to 70%).   Time frame: After 3 weeks of treatment Results 1:    Arm/Group Title: Treatment (Cediranib Maleate)   Arm/Group Description: Patients receive oral AZD2171 once daily for 42 days. Courses repeat every 42 days in the absence of disease progression or unacceptable toxicity.   Overall Number of Participants Analyzed: 26   Measure Type: Number   Unit of Measure: percentage of participants  30',\n",
              " 'Secondary Evidence Indexes': 'nan'}"
            ]
          },
          "execution_count": 50,
          "metadata": {},
          "output_type": "execute_result"
        }
      ],
      "source": [
        "processed_data[0]"
      ]
    },
    {
      "cell_type": "code",
      "execution_count": 28,
      "metadata": {
        "id": "anqXldj5UAEe"
      },
      "outputs": [],
      "source": [
        "output_df = pd.read_csv('output.csv')"
      ]
    },
    {
      "cell_type": "code",
      "execution_count": 29,
      "metadata": {
        "colab": {
          "base_uri": "https://localhost:8080/",
          "height": 206
        },
        "id": "tLNm3ZERUD2Q",
        "outputId": "f55cc3cb-c3de-4c29-ee39-1abe1ca80b3a"
      },
      "outputs": [
        {
          "data": {
            "application/vnd.google.colaboratory.intrinsic+json": {
              "summary": "{\n  \"name\": \"output_df\",\n  \"rows\": 198,\n  \"fields\": [\n    {\n      \"column\": \"Label\",\n      \"properties\": {\n        \"dtype\": \"category\",\n        \"num_unique_values\": 3,\n        \"samples\": [\n          \"Entailment\",\n          \"Contradiction\",\n          \"Neutral\"\n        ],\n        \"semantic_type\": \"\",\n        \"description\": \"\"\n      }\n    },\n    {\n      \"column\": \"Primary Evidence Indexes\",\n      \"properties\": {\n        \"dtype\": \"string\",\n        \"num_unique_values\": 188,\n        \"samples\": [\n          \"INTERVENTION 1:    Exercise   an acute bout of exercise performed 24 hours prior to each cycle of anthracyclines and no exercise for 48 hours post exercise INTERVENTION 2:    Usual Care   no exercise for 72 hours prior or 48 hours post each cycle of anthracyclines\",\n          \"Exclusion Criteria:   To have interstitial pneumonia or pulmonary fibrosis\",\n          \"Adverse Events 1:   Total: 58/305 (19.02%)   FEBRILE NEUTROPENIA * 12/305 (3.93%)   NEUTROPENIA * 4/305 (1.31%)   ANAEMIA * 2/305 (0.66%)   LEUKOPENIA * 1/305 (0.33%)   PANCYTOPENIA * 1/305 (0.33%)   THROMBOCYTOPENIA * 1/305 (0.33%)   DISSEMINATED INTRAVASCULAR COAGULATION * 0/305 (0.00%)   ATRIAL FIBRILLATION * 1/305 (0.33%)   DIASTOLIC DYSFUNCTION * 1/305 (0.33%)   PERICARDIAL EFFUSION * 1/305 (0.33%) Adverse Events 2:   Total: 50/304 (16.45%)   FEBRILE NEUTROPENIA * 12/304 (3.95%)   NEUTROPENIA * 1/304 (0.33%)   ANAEMIA * 0/304 (0.00%)   LEUKOPENIA * 0/304 (0.00%)   PANCYTOPENIA * 0/304 (0.00%)   THROMBOCYTOPENIA * 0/304 (0.00%)   DISSEMINATED INTRAVASCULAR COAGULATION * 1/304 (0.33%)   ATRIAL FIBRILLATION * 1/304 (0.33%)   DIASTOLIC DYSFUNCTION * 0/304 (0.00%)   PERICARDIAL EFFUSION * 0/304 (0.00%)\"\n        ],\n        \"semantic_type\": \"\",\n        \"description\": \"\"\n      }\n    },\n    {\n      \"column\": \"Secondary Evidence Indexes\",\n      \"properties\": {\n        \"dtype\": \"category\",\n        \"num_unique_values\": 56,\n        \"samples\": [\n          \"Adverse Events 1:   Skin infection * 2/41 (4.88%)\",\n          \"Outcome Measurement:    Progression-free Survival (PFS)   Progression is defined using Response Evaluation Criteria In Solid Tumors Criteria (RECIST v1.0), as a 20% increase in the sum of the longest diameter of target lesions, or a measurable increase in a non-target lesion, or the appearance of new lesions. Kaplan-Meier survival curves will be used. A 95% confidence interval for the median PFS will be calculated. A lower bound greater than 8 months would be strong evidence that Nab-Paclitaxel- bevacizumab induction therapy followed by bevacizumab-erlotinib hydrochloride maintenance therapy is superior to paclitaxel and bevacizumab. However, a median PFS of 13 months or greater (regardless of whether the 95% confidence interval for the median extends below 8 months) could also indicate promising results.   Time frame: Time from date of registration to date of first documentation of progression or symptomatic deterioration or death due to any cause, assessed up to 8 years Results 1:    Arm/Group Title: Tx (Chemo, MoAb, and Enzyme Inhibitor)   Arm/Group Description: INDUCTION THERAPY: Patients receive paclitaxel albumin-stabilized nanoparticle formulation IV on days 1, 8, and 15 and bevacizumab IV over 30-90 minutes on days 1 and 15. Treatment repeats every 28 days for 6 courses in the absence of disease progression or unacceptable toxicity.   MAINTENANCE THERAPY: Patients achieving complete response, partial response, or stable disease after completion of induction therapy will receive bevacizumab IV over 30-90 minutes once every 14 or 21 days and erlotinib hydrochloride PO QD in the absence of disease progression or unacceptable toxicity.   paclitaxel albumin-stabilized nanoparticle formulation: Given IV   bevacizumab: Given IV   erlotinib hydrochloride: Given PO   Overall Number of Participants Analyzed: 55   Median (95% Confidence Interval)   Unit of Measure: Months  9.1        (7.2 to 11.1)\",\n          \"Inclusion Criteria:   Histologically confirmed, HER2-positive advanced and/or metastatic breast cancer not amenable to curative therapy   At least one measurable lesion according to RECIST   Eastern Cooperative Oncology Group (ECOG) performance status of 0 or 1   Baseline left ventricular ejection fraction (LVEF) at least 50% Exclusion Criteria:   Pregnant, lactating, or women of childbearing potential who are not surgically sterile or not willing to use adequate contraceptive methods   Previous treatment with Herceptin or other anti-HER therapies, or any previous chemotherapy for advanced or metastatic disease   Past medical history significant for any cardiac or central nervous system (CNS) disorders   Poor hematologic, renal, or hepatic function   Chronic corticosteroid therapy\"\n        ],\n        \"semantic_type\": \"\",\n        \"description\": \"\"\n      }\n    }\n  ]\n}",
              "type": "dataframe",
              "variable_name": "output_df"
            },
            "text/html": [
              "\n",
              "  <div id=\"df-6a348cc2-ac0b-4e56-8764-61586563e97e\" class=\"colab-df-container\">\n",
              "    <div>\n",
              "<style scoped>\n",
              "    .dataframe tbody tr th:only-of-type {\n",
              "        vertical-align: middle;\n",
              "    }\n",
              "\n",
              "    .dataframe tbody tr th {\n",
              "        vertical-align: top;\n",
              "    }\n",
              "\n",
              "    .dataframe thead th {\n",
              "        text-align: right;\n",
              "    }\n",
              "</style>\n",
              "<table border=\"1\" class=\"dataframe\">\n",
              "  <thead>\n",
              "    <tr style=\"text-align: right;\">\n",
              "      <th></th>\n",
              "      <th>Label</th>\n",
              "      <th>Primary Evidence Indexes</th>\n",
              "      <th>Secondary Evidence Indexes</th>\n",
              "    </tr>\n",
              "  </thead>\n",
              "  <tbody>\n",
              "    <tr>\n",
              "      <th>0</th>\n",
              "      <td>Entailment</td>\n",
              "      <td>Outcome Measurement:    Fraction of Patients W...</td>\n",
              "      <td>NaN</td>\n",
              "    </tr>\n",
              "    <tr>\n",
              "      <th>1</th>\n",
              "      <td>Contradiction</td>\n",
              "      <td>Outcome Measurement:    Lumbar Spine Bone Mine...</td>\n",
              "      <td>NaN</td>\n",
              "    </tr>\n",
              "    <tr>\n",
              "      <th>2</th>\n",
              "      <td>Entailment</td>\n",
              "      <td>Exclusion Criteria:   Concurrent treatment wit...</td>\n",
              "      <td>NaN</td>\n",
              "    </tr>\n",
              "    <tr>\n",
              "      <th>3</th>\n",
              "      <td>Contradiction</td>\n",
              "      <td>Adverse Events 1:   Skin infection * 1/36 (2.78%)</td>\n",
              "      <td>Adverse Events 1:   Skin infection * 2/41 (4.88%)</td>\n",
              "    </tr>\n",
              "    <tr>\n",
              "      <th>4</th>\n",
              "      <td>Entailment</td>\n",
              "      <td>Inclusion Criteria:   Post-menopausal women at...</td>\n",
              "      <td>NaN</td>\n",
              "    </tr>\n",
              "  </tbody>\n",
              "</table>\n",
              "</div>\n",
              "    <div class=\"colab-df-buttons\">\n",
              "\n",
              "  <div class=\"colab-df-container\">\n",
              "    <button class=\"colab-df-convert\" onclick=\"convertToInteractive('df-6a348cc2-ac0b-4e56-8764-61586563e97e')\"\n",
              "            title=\"Convert this dataframe to an interactive table.\"\n",
              "            style=\"display:none;\">\n",
              "\n",
              "  <svg xmlns=\"http://www.w3.org/2000/svg\" height=\"24px\" viewBox=\"0 -960 960 960\">\n",
              "    <path d=\"M120-120v-720h720v720H120Zm60-500h600v-160H180v160Zm220 220h160v-160H400v160Zm0 220h160v-160H400v160ZM180-400h160v-160H180v160Zm440 0h160v-160H620v160ZM180-180h160v-160H180v160Zm440 0h160v-160H620v160Z\"/>\n",
              "  </svg>\n",
              "    </button>\n",
              "\n",
              "  <style>\n",
              "    .colab-df-container {\n",
              "      display:flex;\n",
              "      gap: 12px;\n",
              "    }\n",
              "\n",
              "    .colab-df-convert {\n",
              "      background-color: #E8F0FE;\n",
              "      border: none;\n",
              "      border-radius: 50%;\n",
              "      cursor: pointer;\n",
              "      display: none;\n",
              "      fill: #1967D2;\n",
              "      height: 32px;\n",
              "      padding: 0 0 0 0;\n",
              "      width: 32px;\n",
              "    }\n",
              "\n",
              "    .colab-df-convert:hover {\n",
              "      background-color: #E2EBFA;\n",
              "      box-shadow: 0px 1px 2px rgba(60, 64, 67, 0.3), 0px 1px 3px 1px rgba(60, 64, 67, 0.15);\n",
              "      fill: #174EA6;\n",
              "    }\n",
              "\n",
              "    .colab-df-buttons div {\n",
              "      margin-bottom: 4px;\n",
              "    }\n",
              "\n",
              "    [theme=dark] .colab-df-convert {\n",
              "      background-color: #3B4455;\n",
              "      fill: #D2E3FC;\n",
              "    }\n",
              "\n",
              "    [theme=dark] .colab-df-convert:hover {\n",
              "      background-color: #434B5C;\n",
              "      box-shadow: 0px 1px 3px 1px rgba(0, 0, 0, 0.15);\n",
              "      filter: drop-shadow(0px 1px 2px rgba(0, 0, 0, 0.3));\n",
              "      fill: #FFFFFF;\n",
              "    }\n",
              "  </style>\n",
              "\n",
              "    <script>\n",
              "      const buttonEl =\n",
              "        document.querySelector('#df-6a348cc2-ac0b-4e56-8764-61586563e97e button.colab-df-convert');\n",
              "      buttonEl.style.display =\n",
              "        google.colab.kernel.accessAllowed ? 'block' : 'none';\n",
              "\n",
              "      async function convertToInteractive(key) {\n",
              "        const element = document.querySelector('#df-6a348cc2-ac0b-4e56-8764-61586563e97e');\n",
              "        const dataTable =\n",
              "          await google.colab.kernel.invokeFunction('convertToInteractive',\n",
              "                                                    [key], {});\n",
              "        if (!dataTable) return;\n",
              "\n",
              "        const docLinkHtml = 'Like what you see? Visit the ' +\n",
              "          '<a target=\"_blank\" href=https://colab.research.google.com/notebooks/data_table.ipynb>data table notebook</a>'\n",
              "          + ' to learn more about interactive tables.';\n",
              "        element.innerHTML = '';\n",
              "        dataTable['output_type'] = 'display_data';\n",
              "        await google.colab.output.renderOutput(dataTable, element);\n",
              "        const docLink = document.createElement('div');\n",
              "        docLink.innerHTML = docLinkHtml;\n",
              "        element.appendChild(docLink);\n",
              "      }\n",
              "    </script>\n",
              "  </div>\n",
              "\n",
              "\n",
              "<div id=\"df-92a5335e-6572-4372-83c4-f34d059f903a\">\n",
              "  <button class=\"colab-df-quickchart\" onclick=\"quickchart('df-92a5335e-6572-4372-83c4-f34d059f903a')\"\n",
              "            title=\"Suggest charts\"\n",
              "            style=\"display:none;\">\n",
              "\n",
              "<svg xmlns=\"http://www.w3.org/2000/svg\" height=\"24px\"viewBox=\"0 0 24 24\"\n",
              "     width=\"24px\">\n",
              "    <g>\n",
              "        <path d=\"M19 3H5c-1.1 0-2 .9-2 2v14c0 1.1.9 2 2 2h14c1.1 0 2-.9 2-2V5c0-1.1-.9-2-2-2zM9 17H7v-7h2v7zm4 0h-2V7h2v10zm4 0h-2v-4h2v4z\"/>\n",
              "    </g>\n",
              "</svg>\n",
              "  </button>\n",
              "\n",
              "<style>\n",
              "  .colab-df-quickchart {\n",
              "      --bg-color: #E8F0FE;\n",
              "      --fill-color: #1967D2;\n",
              "      --hover-bg-color: #E2EBFA;\n",
              "      --hover-fill-color: #174EA6;\n",
              "      --disabled-fill-color: #AAA;\n",
              "      --disabled-bg-color: #DDD;\n",
              "  }\n",
              "\n",
              "  [theme=dark] .colab-df-quickchart {\n",
              "      --bg-color: #3B4455;\n",
              "      --fill-color: #D2E3FC;\n",
              "      --hover-bg-color: #434B5C;\n",
              "      --hover-fill-color: #FFFFFF;\n",
              "      --disabled-bg-color: #3B4455;\n",
              "      --disabled-fill-color: #666;\n",
              "  }\n",
              "\n",
              "  .colab-df-quickchart {\n",
              "    background-color: var(--bg-color);\n",
              "    border: none;\n",
              "    border-radius: 50%;\n",
              "    cursor: pointer;\n",
              "    display: none;\n",
              "    fill: var(--fill-color);\n",
              "    height: 32px;\n",
              "    padding: 0;\n",
              "    width: 32px;\n",
              "  }\n",
              "\n",
              "  .colab-df-quickchart:hover {\n",
              "    background-color: var(--hover-bg-color);\n",
              "    box-shadow: 0 1px 2px rgba(60, 64, 67, 0.3), 0 1px 3px 1px rgba(60, 64, 67, 0.15);\n",
              "    fill: var(--button-hover-fill-color);\n",
              "  }\n",
              "\n",
              "  .colab-df-quickchart-complete:disabled,\n",
              "  .colab-df-quickchart-complete:disabled:hover {\n",
              "    background-color: var(--disabled-bg-color);\n",
              "    fill: var(--disabled-fill-color);\n",
              "    box-shadow: none;\n",
              "  }\n",
              "\n",
              "  .colab-df-spinner {\n",
              "    border: 2px solid var(--fill-color);\n",
              "    border-color: transparent;\n",
              "    border-bottom-color: var(--fill-color);\n",
              "    animation:\n",
              "      spin 1s steps(1) infinite;\n",
              "  }\n",
              "\n",
              "  @keyframes spin {\n",
              "    0% {\n",
              "      border-color: transparent;\n",
              "      border-bottom-color: var(--fill-color);\n",
              "      border-left-color: var(--fill-color);\n",
              "    }\n",
              "    20% {\n",
              "      border-color: transparent;\n",
              "      border-left-color: var(--fill-color);\n",
              "      border-top-color: var(--fill-color);\n",
              "    }\n",
              "    30% {\n",
              "      border-color: transparent;\n",
              "      border-left-color: var(--fill-color);\n",
              "      border-top-color: var(--fill-color);\n",
              "      border-right-color: var(--fill-color);\n",
              "    }\n",
              "    40% {\n",
              "      border-color: transparent;\n",
              "      border-right-color: var(--fill-color);\n",
              "      border-top-color: var(--fill-color);\n",
              "    }\n",
              "    60% {\n",
              "      border-color: transparent;\n",
              "      border-right-color: var(--fill-color);\n",
              "    }\n",
              "    80% {\n",
              "      border-color: transparent;\n",
              "      border-right-color: var(--fill-color);\n",
              "      border-bottom-color: var(--fill-color);\n",
              "    }\n",
              "    90% {\n",
              "      border-color: transparent;\n",
              "      border-bottom-color: var(--fill-color);\n",
              "    }\n",
              "  }\n",
              "</style>\n",
              "\n",
              "  <script>\n",
              "    async function quickchart(key) {\n",
              "      const quickchartButtonEl =\n",
              "        document.querySelector('#' + key + ' button');\n",
              "      quickchartButtonEl.disabled = true;  // To prevent multiple clicks.\n",
              "      quickchartButtonEl.classList.add('colab-df-spinner');\n",
              "      try {\n",
              "        const charts = await google.colab.kernel.invokeFunction(\n",
              "            'suggestCharts', [key], {});\n",
              "      } catch (error) {\n",
              "        console.error('Error during call to suggestCharts:', error);\n",
              "      }\n",
              "      quickchartButtonEl.classList.remove('colab-df-spinner');\n",
              "      quickchartButtonEl.classList.add('colab-df-quickchart-complete');\n",
              "    }\n",
              "    (() => {\n",
              "      let quickchartButtonEl =\n",
              "        document.querySelector('#df-92a5335e-6572-4372-83c4-f34d059f903a button');\n",
              "      quickchartButtonEl.style.display =\n",
              "        google.colab.kernel.accessAllowed ? 'block' : 'none';\n",
              "    })();\n",
              "  </script>\n",
              "</div>\n",
              "\n",
              "    </div>\n",
              "  </div>\n"
            ],
            "text/plain": [
              "           Label                           Primary Evidence Indexes  \\\n",
              "0     Entailment  Outcome Measurement:    Fraction of Patients W...   \n",
              "1  Contradiction  Outcome Measurement:    Lumbar Spine Bone Mine...   \n",
              "2     Entailment  Exclusion Criteria:   Concurrent treatment wit...   \n",
              "3  Contradiction  Adverse Events 1:   Skin infection * 1/36 (2.78%)   \n",
              "4     Entailment  Inclusion Criteria:   Post-menopausal women at...   \n",
              "\n",
              "                          Secondary Evidence Indexes  \n",
              "0                                                NaN  \n",
              "1                                                NaN  \n",
              "2                                                NaN  \n",
              "3  Adverse Events 1:   Skin infection * 2/41 (4.88%)  \n",
              "4                                                NaN  "
            ]
          },
          "execution_count": 29,
          "metadata": {},
          "output_type": "execute_result"
        }
      ],
      "source": [
        "output_df.head()"
      ]
    },
    {
      "cell_type": "code",
      "execution_count": 53,
      "metadata": {
        "id": "uQtf5Fe9UGlC"
      },
      "outputs": [],
      "source": [
        "output_df.to_csv('output.csv', index=False)"
      ]
    },
    {
      "cell_type": "code",
      "execution_count": 30,
      "metadata": {
        "id": "yWIz8HbNUK-v"
      },
      "outputs": [],
      "source": [
        "df_final = pd.read_csv('merged_dataset_new.csv')"
      ]
    },
    {
      "cell_type": "code",
      "execution_count": 31,
      "metadata": {
        "id": "YqsrfPDfUrOD"
      },
      "outputs": [],
      "source": [
        "df_final['Response_strings']= df_final.apply(lambda row: f\"\"\"Label: {row['Label']}\n",
        "Primary Evidence Indexes = {row['Primary_evidence_index']}\n",
        "Secondary Evidence Indexes = {row['Secondary_evidence_index']}\n",
        "\"\"\", axis = 1)"
      ]
    },
    {
      "cell_type": "code",
      "execution_count": 32,
      "metadata": {
        "id": "18CqY_K0UyzA"
      },
      "outputs": [],
      "source": [
        "df_final['Input'] = \"Type: \"+ df_final['Type']+ \"\\nStatement: \"+ df_final['Statement']+ \"\\nReference Data: \" + df_final['Reference_data']"
      ]
    },
    {
      "cell_type": "code",
      "execution_count": 33,
      "metadata": {
        "id": "PQ7bghtsU877"
      },
      "outputs": [],
      "source": [
        "df_final.to_csv('final_dataset.csv', index=False)"
      ]
    },
    {
      "cell_type": "code",
      "execution_count": 34,
      "metadata": {
        "colab": {
          "base_uri": "https://localhost:8080/"
        },
        "id": "PpVWGoB4VLLV",
        "outputId": "eb57eddf-feec-45e3-b8eb-dee051355dc7"
      },
      "outputs": [
        {
          "data": {
            "text/plain": [
              "Index(['test_ID', 'Type', 'Section_id', 'Primary_id', 'Secondary_id',\n",
              "       'Statement', 'Label', 'Primary_evidence_index',\n",
              "       'Secondary_evidence_index', 'Reference_data', 'Response_strings',\n",
              "       'Input'],\n",
              "      dtype='object')"
            ]
          },
          "execution_count": 34,
          "metadata": {},
          "output_type": "execute_result"
        }
      ],
      "source": [
        "df.columns\n"
      ]
    },
    {
      "cell_type": "code",
      "execution_count": 145,
      "metadata": {
        "colab": {
          "base_uri": "https://localhost:8080/"
        },
        "id": "Fohd8P6mNRtG",
        "outputId": "55017f5e-5e33-4d18-f4f1-3d20153cd700"
      },
      "outputs": [
        {
          "name": "stdout",
          "output_type": "stream",
          "text": [
            "Label Accuracy: 0.5126903553299492\n",
            "Label F1 Score: 0.5143298546520794\n",
            "Label Confusion Matrix:\n",
            "[[57 53]\n",
            " [43 44]]\n",
            "Primary Evidence Index Accuracy: 0.19\n",
            "Secondary Evidence Index Accuracy: 0.37\n"
          ]
        },
        {
          "name": "stderr",
          "output_type": "stream",
          "text": [
            "<ipython-input-145-a0f746c011df>:7: SettingWithCopyWarning: \n",
            "A value is trying to be set on a copy of a slice from a DataFrame.\n",
            "Try using .loc[row_indexer,col_indexer] = value instead\n",
            "\n",
            "See the caveats in the documentation: https://pandas.pydata.org/pandas-docs/stable/user_guide/indexing.html#returning-a-view-versus-a-copy\n",
            "  df_subset['Label'] = df_subset['Label'].astype(str).str.strip()\n",
            "<ipython-input-145-a0f746c011df>:10: SettingWithCopyWarning: \n",
            "A value is trying to be set on a copy of a slice from a DataFrame.\n",
            "Try using .loc[row_indexer,col_indexer] = value instead\n",
            "\n",
            "See the caveats in the documentation: https://pandas.pydata.org/pandas-docs/stable/user_guide/indexing.html#returning-a-view-versus-a-copy\n",
            "  df_subset['Primary_evidence_index'] = df_subset['Primary_evidence_index'].astype(str).str.strip()\n",
            "<ipython-input-145-a0f746c011df>:13: SettingWithCopyWarning: \n",
            "A value is trying to be set on a copy of a slice from a DataFrame.\n",
            "Try using .loc[row_indexer,col_indexer] = value instead\n",
            "\n",
            "See the caveats in the documentation: https://pandas.pydata.org/pandas-docs/stable/user_guide/indexing.html#returning-a-view-versus-a-copy\n",
            "  df_subset['Secondary_evidence_index'] = df_subset['Secondary_evidence_index'].astype(str).str.strip()\n"
          ]
        }
      ],
      "source": [
        "from sklearn.metrics import accuracy_score, f1_score, confusion_matrix\n",
        "\n",
        "df_subset = df_final.iloc[701:898]\n",
        "\n",
        "df_subset['Label'] = df_subset['Label'].astype(str).str.strip()\n",
        "output_df['Label'] = output_df['Label'].astype(str).str.strip()\n",
        "\n",
        "df_subset['Primary_evidence_index'] = df_subset['Primary_evidence_index'].astype(str).str.strip()\n",
        "output_df['Primary Evidence Indexes'] = output_df['Primary Evidence Indexes'].astype(str).str.strip()\n",
        "\n",
        "df_subset['Secondary_evidence_index'] = df_subset['Secondary_evidence_index'].astype(str).str.strip()\n",
        "output_df['Secondary Evidence Indexes'] = output_df['Secondary Evidence Indexes'].astype(str).str.strip()\n",
        "\n",
        "valid_labels = ['Entailment', 'Contradiction']\n",
        "df_subset = df_subset[df_subset['Label'].isin(valid_labels)]\n",
        "output_df = output_df[output_df['Label'].isin(valid_labels)]\n",
        "\n",
        "label_accuracy = accuracy_score(df_subset['Label'], output_df['Label'])\n",
        "label_f1 = f1_score(df_subset['Label'], output_df['Label'], average='weighted')\n",
        "label_confusion_matrix = confusion_matrix(df_subset['Label'], output_df['Label'], labels=valid_labels)\n",
        "\n",
        "def normalize_whitespace(text):\n",
        "    return ' '.join(text.split()) if isinstance(text, str) else text\n",
        "\n",
        "correct_primary_matches = 0\n",
        "total_primary_length = 0\n",
        "correct_secondary_matches = 0\n",
        "total_secondary_length = 0\n",
        "\n",
        "df_subset = df_final.iloc[701:898].copy()\n",
        "output_df_subset = output_df.iloc[0:198].copy()\n",
        "\n",
        "df_subset['Primary_evidence_index'] = df_subset['Primary_evidence_index'].astype(str).str.strip().apply(normalize_whitespace)\n",
        "output_df_subset['Primary Evidence Indexes'] = output_df_subset['Primary Evidence Indexes'].astype(str).str.strip().apply(normalize_whitespace)\n",
        "\n",
        "df_subset['Secondary_evidence_index'] = df_subset['Secondary_evidence_index'].astype(str).str.strip().apply(normalize_whitespace)\n",
        "output_df_subset['Secondary Evidence Indexes'] = output_df_subset['Secondary Evidence Indexes'].astype(str).str.strip().apply(normalize_whitespace)\n",
        "\n",
        "for i in range(len(output_df_subset)):\n",
        "   \n",
        "    primary_true_set = set(df_subset['Primary_evidence_index'].iloc[i].split('.'))\n",
        "    primary_predicted_set = set(output_df_subset['Primary Evidence Indexes'].iloc[i].split('.'))\n",
        "\n",
        "    secondary_true_set = set(df_subset['Secondary_evidence_index'].iloc[i].split('.'))\n",
        "    secondary_predicted_set = set(output_df_subset['Secondary Evidence Indexes'].iloc[i].split('.'))\n",
        "\n",
        "    primary_matches = len(primary_true_set.intersection(primary_predicted_set))\n",
        "    correct_primary_matches += primary_matches\n",
        "\n",
        "    total_primary_length += len(primary_true_set)\n",
        "\n",
        "    secondary_matches = len(secondary_true_set.intersection(secondary_predicted_set))\n",
        "    correct_secondary_matches += secondary_matches\n",
        "\n",
        "    total_secondary_length += len(secondary_true_set)\n",
        "\n",
        "primary_evidence_accuracy = correct_primary_matches / total_primary_length if total_primary_length > 0 else 0\n",
        "secondary_evidence_accuracy = correct_secondary_matches / total_secondary_length if total_secondary_length > 0 else 0\n",
        "\n",
        "print(f\"Label Accuracy: {label_accuracy}\")\n",
        "print(f\"Label F1 Score: {label_f1}\")\n",
        "print(\"Label Confusion Matrix:\")\n",
        "print(label_confusion_matrix)\n",
        "\n",
        "print(f\"Primary Evidence Index Accuracy: {primary_evidence_accuracy:.2f}\")\n",
        "print(f\"Secondary Evidence Index Accuracy: {secondary_evidence_accuracy:.2f}\")"
      ]
    },
    {
      "cell_type": "code",
      "execution_count": null,
      "metadata": {
        "id": "TM4XjABXTW0j"
      },
      "outputs": [],
      "source": []
    }
  ],
  "metadata": {
    "accelerator": "GPU",
    "colab": {
      "gpuType": "L4",
      "machine_shape": "hm",
      "provenance": []
    },
    "kernelspec": {
      "display_name": "Python 3",
      "name": "python3"
    },
    "language_info": {
      "name": "python"
    }
  },
  "nbformat": 4,
  "nbformat_minor": 0
}
